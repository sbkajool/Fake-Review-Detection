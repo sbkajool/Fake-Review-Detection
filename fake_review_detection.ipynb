{
 "cells": [
  {
   "cell_type": "markdown",
   "id": "radical-athletics",
   "metadata": {},
   "source": [
    "# FAKE REVIEW DETECTION USING MACHINE LEARNING TECNIQUES"
   ]
  },
  {
   "cell_type": "markdown",
   "id": "rapid-converter",
   "metadata": {},
   "source": [
    "Variable Decription:\n",
    "1. id: identification\n",
    "2. ex_id: index\n",
    "3. id_user: user's account number\n",
    "4. prod_id: restaurant collected from Yelp\n",
    "5. rating: 1-Verry Bad, 2-Bad, 3-Average, 4-Good, 5-Verry Good\n",
    "6. label: 0-True, 1-Fake\n",
    "7. date: date of user posted their reviews\n",
    "8. review: content of user's reviews\n"
   ]
  },
  {
   "cell_type": "markdown",
   "id": "accompanied-auckland",
   "metadata": {},
   "source": [
    "## Data Collection"
   ]
  },
  {
   "cell_type": "code",
   "execution_count": 1,
   "id": "sublime-token",
   "metadata": {},
   "outputs": [],
   "source": [
    "import numpy as np\n",
    "import pandas as pd \n",
    "import matplotlib.pyplot as plt\n",
    "import seaborn as sns\n",
    "from wordcloud import WordCloud, STOPWORDS\n",
    "import nltk\n",
    "import re;\n",
    "import pickle\n",
    "import os"
   ]
  },
  {
   "cell_type": "code",
   "execution_count": 2,
   "id": "plain-people",
   "metadata": {},
   "outputs": [],
   "source": [
    "train_path = r\"....\\Project\\Final\\train.csv\" #Change the path before reading csv\n",
    "train = pd.read_csv(train_path)\n",
    " # drop columns we don't need"
   ]
  },
  {
   "cell_type": "code",
   "execution_count": 3,
   "id": "objective-korea",
   "metadata": {},
   "outputs": [
    {
     "data": {
      "text/html": [
       "<div>\n",
       "<style scoped>\n",
       "    .dataframe tbody tr th:only-of-type {\n",
       "        vertical-align: middle;\n",
       "    }\n",
       "\n",
       "    .dataframe tbody tr th {\n",
       "        vertical-align: top;\n",
       "    }\n",
       "\n",
       "    .dataframe thead th {\n",
       "        text-align: right;\n",
       "    }\n",
       "</style>\n",
       "<table border=\"1\" class=\"dataframe\">\n",
       "  <thead>\n",
       "    <tr style=\"text-align: right;\">\n",
       "      <th></th>\n",
       "      <th>ex_id</th>\n",
       "      <th>user_id</th>\n",
       "      <th>prod_id</th>\n",
       "      <th>rating</th>\n",
       "      <th>label</th>\n",
       "      <th>date</th>\n",
       "      <th>review</th>\n",
       "    </tr>\n",
       "  </thead>\n",
       "  <tbody>\n",
       "    <tr>\n",
       "      <th>0</th>\n",
       "      <td>0</td>\n",
       "      <td>923</td>\n",
       "      <td>0</td>\n",
       "      <td>3.0</td>\n",
       "      <td>1</td>\n",
       "      <td>2014-12-08</td>\n",
       "      <td>The food at snack is a selection of popular Gr...</td>\n",
       "    </tr>\n",
       "    <tr>\n",
       "      <th>1</th>\n",
       "      <td>1</td>\n",
       "      <td>924</td>\n",
       "      <td>0</td>\n",
       "      <td>3.0</td>\n",
       "      <td>1</td>\n",
       "      <td>2013-05-16</td>\n",
       "      <td>This little place in Soho is wonderful. I had ...</td>\n",
       "    </tr>\n",
       "    <tr>\n",
       "      <th>2</th>\n",
       "      <td>2</td>\n",
       "      <td>925</td>\n",
       "      <td>0</td>\n",
       "      <td>4.0</td>\n",
       "      <td>1</td>\n",
       "      <td>2013-07-01</td>\n",
       "      <td>ordered lunch for 15 from Snack last Friday.  ...</td>\n",
       "    </tr>\n",
       "    <tr>\n",
       "      <th>3</th>\n",
       "      <td>3</td>\n",
       "      <td>926</td>\n",
       "      <td>0</td>\n",
       "      <td>4.0</td>\n",
       "      <td>1</td>\n",
       "      <td>2011-07-28</td>\n",
       "      <td>This is a beautiful quaint little restaurant o...</td>\n",
       "    </tr>\n",
       "    <tr>\n",
       "      <th>4</th>\n",
       "      <td>4</td>\n",
       "      <td>927</td>\n",
       "      <td>0</td>\n",
       "      <td>4.0</td>\n",
       "      <td>1</td>\n",
       "      <td>2010-11-01</td>\n",
       "      <td>Snack is great place for a  casual sit down lu...</td>\n",
       "    </tr>\n",
       "    <tr>\n",
       "      <th>...</th>\n",
       "      <td>...</td>\n",
       "      <td>...</td>\n",
       "      <td>...</td>\n",
       "      <td>...</td>\n",
       "      <td>...</td>\n",
       "      <td>...</td>\n",
       "      <td>...</td>\n",
       "    </tr>\n",
       "    <tr>\n",
       "      <th>250869</th>\n",
       "      <td>358950</td>\n",
       "      <td>14671</td>\n",
       "      <td>349</td>\n",
       "      <td>5.0</td>\n",
       "      <td>0</td>\n",
       "      <td>2014-02-08</td>\n",
       "      <td>Made a reservation for an early dinner Saturda...</td>\n",
       "    </tr>\n",
       "    <tr>\n",
       "      <th>250870</th>\n",
       "      <td>358951</td>\n",
       "      <td>3356</td>\n",
       "      <td>349</td>\n",
       "      <td>5.0</td>\n",
       "      <td>0</td>\n",
       "      <td>2014-02-07</td>\n",
       "      <td>Emily is like Franny's Marco, but with warmth ...</td>\n",
       "    </tr>\n",
       "    <tr>\n",
       "      <th>250871</th>\n",
       "      <td>358953</td>\n",
       "      <td>116424</td>\n",
       "      <td>349</td>\n",
       "      <td>5.0</td>\n",
       "      <td>0</td>\n",
       "      <td>2014-01-31</td>\n",
       "      <td>Can't say enough good things about this place....</td>\n",
       "    </tr>\n",
       "    <tr>\n",
       "      <th>250872</th>\n",
       "      <td>358954</td>\n",
       "      <td>161147</td>\n",
       "      <td>349</td>\n",
       "      <td>5.0</td>\n",
       "      <td>0</td>\n",
       "      <td>2014-01-30</td>\n",
       "      <td>Had a great dinner here- fantastic pizza, the ...</td>\n",
       "    </tr>\n",
       "    <tr>\n",
       "      <th>250873</th>\n",
       "      <td>358956</td>\n",
       "      <td>5260</td>\n",
       "      <td>349</td>\n",
       "      <td>5.0</td>\n",
       "      <td>0</td>\n",
       "      <td>2014-01-25</td>\n",
       "      <td>Pizza Loves Emily and I love Emily's pizza. Th...</td>\n",
       "    </tr>\n",
       "  </tbody>\n",
       "</table>\n",
       "<p>250874 rows × 7 columns</p>\n",
       "</div>"
      ],
      "text/plain": [
       "         ex_id  user_id  prod_id  rating  label        date  \\\n",
       "0            0      923        0     3.0      1  2014-12-08   \n",
       "1            1      924        0     3.0      1  2013-05-16   \n",
       "2            2      925        0     4.0      1  2013-07-01   \n",
       "3            3      926        0     4.0      1  2011-07-28   \n",
       "4            4      927        0     4.0      1  2010-11-01   \n",
       "...        ...      ...      ...     ...    ...         ...   \n",
       "250869  358950    14671      349     5.0      0  2014-02-08   \n",
       "250870  358951     3356      349     5.0      0  2014-02-07   \n",
       "250871  358953   116424      349     5.0      0  2014-01-31   \n",
       "250872  358954   161147      349     5.0      0  2014-01-30   \n",
       "250873  358956     5260      349     5.0      0  2014-01-25   \n",
       "\n",
       "                                                   review  \n",
       "0       The food at snack is a selection of popular Gr...  \n",
       "1       This little place in Soho is wonderful. I had ...  \n",
       "2       ordered lunch for 15 from Snack last Friday.  ...  \n",
       "3       This is a beautiful quaint little restaurant o...  \n",
       "4       Snack is great place for a  casual sit down lu...  \n",
       "...                                                   ...  \n",
       "250869  Made a reservation for an early dinner Saturda...  \n",
       "250870  Emily is like Franny's Marco, but with warmth ...  \n",
       "250871  Can't say enough good things about this place....  \n",
       "250872  Had a great dinner here- fantastic pizza, the ...  \n",
       "250873  Pizza Loves Emily and I love Emily's pizza. Th...  \n",
       "\n",
       "[250874 rows x 7 columns]"
      ]
     },
     "execution_count": 3,
     "metadata": {},
     "output_type": "execute_result"
    }
   ],
   "source": [
    "train"
   ]
  },
  {
   "cell_type": "code",
   "execution_count": 4,
   "id": "everyday-wayne",
   "metadata": {},
   "outputs": [
    {
     "name": "stdout",
     "output_type": "stream",
     "text": [
      "<class 'pandas.core.frame.DataFrame'>\n",
      "RangeIndex: 250874 entries, 0 to 250873\n",
      "Data columns (total 7 columns):\n",
      " #   Column   Non-Null Count   Dtype  \n",
      "---  ------   --------------   -----  \n",
      " 0   ex_id    250874 non-null  int64  \n",
      " 1   user_id  250874 non-null  int64  \n",
      " 2   prod_id  250874 non-null  int64  \n",
      " 3   rating   250874 non-null  float64\n",
      " 4   label    250874 non-null  int64  \n",
      " 5   date     250874 non-null  object \n",
      " 6   review   250874 non-null  object \n",
      "dtypes: float64(1), int64(4), object(2)\n",
      "memory usage: 13.4+ MB\n"
     ]
    }
   ],
   "source": [
    "train.info()"
   ]
  },
  {
   "cell_type": "code",
   "execution_count": 5,
   "id": "compliant-fantasy",
   "metadata": {},
   "outputs": [
    {
     "data": {
      "text/html": [
       "<div>\n",
       "<style scoped>\n",
       "    .dataframe tbody tr th:only-of-type {\n",
       "        vertical-align: middle;\n",
       "    }\n",
       "\n",
       "    .dataframe tbody tr th {\n",
       "        vertical-align: top;\n",
       "    }\n",
       "\n",
       "    .dataframe thead th {\n",
       "        text-align: right;\n",
       "    }\n",
       "</style>\n",
       "<table border=\"1\" class=\"dataframe\">\n",
       "  <thead>\n",
       "    <tr style=\"text-align: right;\">\n",
       "      <th></th>\n",
       "      <th>ex_id</th>\n",
       "      <th>user_id</th>\n",
       "      <th>prod_id</th>\n",
       "      <th>rating</th>\n",
       "      <th>date</th>\n",
       "      <th>review</th>\n",
       "    </tr>\n",
       "    <tr>\n",
       "      <th>label</th>\n",
       "      <th></th>\n",
       "      <th></th>\n",
       "      <th></th>\n",
       "      <th></th>\n",
       "      <th></th>\n",
       "      <th></th>\n",
       "    </tr>\n",
       "  </thead>\n",
       "  <tbody>\n",
       "    <tr>\n",
       "      <th>0</th>\n",
       "      <td>225055</td>\n",
       "      <td>225055</td>\n",
       "      <td>225055</td>\n",
       "      <td>225055</td>\n",
       "      <td>225055</td>\n",
       "      <td>225055</td>\n",
       "    </tr>\n",
       "    <tr>\n",
       "      <th>1</th>\n",
       "      <td>25819</td>\n",
       "      <td>25819</td>\n",
       "      <td>25819</td>\n",
       "      <td>25819</td>\n",
       "      <td>25819</td>\n",
       "      <td>25819</td>\n",
       "    </tr>\n",
       "  </tbody>\n",
       "</table>\n",
       "</div>"
      ],
      "text/plain": [
       "        ex_id  user_id  prod_id  rating    date  review\n",
       "label                                                  \n",
       "0      225055   225055   225055  225055  225055  225055\n",
       "1       25819    25819    25819   25819   25819   25819"
      ]
     },
     "execution_count": 5,
     "metadata": {},
     "output_type": "execute_result"
    }
   ],
   "source": [
    "train.groupby(['label']).count()"
   ]
  },
  {
   "cell_type": "markdown",
   "id": "changed-competition",
   "metadata": {},
   "source": [
    "##### Adding feature in existing dataset of average rating of the product"
   ]
  },
  {
   "cell_type": "code",
   "execution_count": 7,
   "id": "copyrighted-marijuana",
   "metadata": {},
   "outputs": [
    {
     "data": {
      "text/html": [
       "<div>\n",
       "<style scoped>\n",
       "    .dataframe tbody tr th:only-of-type {\n",
       "        vertical-align: middle;\n",
       "    }\n",
       "\n",
       "    .dataframe tbody tr th {\n",
       "        vertical-align: top;\n",
       "    }\n",
       "\n",
       "    .dataframe thead th {\n",
       "        text-align: right;\n",
       "    }\n",
       "</style>\n",
       "<table border=\"1\" class=\"dataframe\">\n",
       "  <thead>\n",
       "    <tr style=\"text-align: right;\">\n",
       "      <th></th>\n",
       "      <th>prod_id</th>\n",
       "      <th>Avg_Prod_Rating</th>\n",
       "    </tr>\n",
       "  </thead>\n",
       "  <tbody>\n",
       "    <tr>\n",
       "      <th>0</th>\n",
       "      <td>0</td>\n",
       "      <td>3.954839</td>\n",
       "    </tr>\n",
       "    <tr>\n",
       "      <th>1</th>\n",
       "      <td>1</td>\n",
       "      <td>4.361257</td>\n",
       "    </tr>\n",
       "    <tr>\n",
       "      <th>2</th>\n",
       "      <td>2</td>\n",
       "      <td>3.830508</td>\n",
       "    </tr>\n",
       "    <tr>\n",
       "      <th>3</th>\n",
       "      <td>3</td>\n",
       "      <td>4.102564</td>\n",
       "    </tr>\n",
       "    <tr>\n",
       "      <th>4</th>\n",
       "      <td>4</td>\n",
       "      <td>4.058824</td>\n",
       "    </tr>\n",
       "  </tbody>\n",
       "</table>\n",
       "</div>"
      ],
      "text/plain": [
       "   prod_id  Avg_Prod_Rating\n",
       "0        0         3.954839\n",
       "1        1         4.361257\n",
       "2        2         3.830508\n",
       "3        3         4.102564\n",
       "4        4         4.058824"
      ]
     },
     "execution_count": 7,
     "metadata": {},
     "output_type": "execute_result"
    }
   ],
   "source": [
    "average_rating_per_product = train.groupby('prod_id')['rating'].mean()\n",
    "average_rating_per_product = average_rating_per_product.to_frame()\n",
    "average_rating_per_product.reset_index(level=0, inplace=True)\n",
    "average_rating_per_product = average_rating_per_product.rename(columns={'rating':'Avg_Prod_Rating'})\n",
    "average_rating_per_product.head()"
   ]
  },
  {
   "cell_type": "code",
   "execution_count": 8,
   "id": "frequent-rogers",
   "metadata": {},
   "outputs": [],
   "source": [
    "train= train.merge(average_rating_per_product, left_on='prod_id', right_on='prod_id')"
   ]
  },
  {
   "cell_type": "code",
   "execution_count": 9,
   "id": "innocent-jonathan",
   "metadata": {},
   "outputs": [
    {
     "data": {
      "text/html": [
       "<div>\n",
       "<style scoped>\n",
       "    .dataframe tbody tr th:only-of-type {\n",
       "        vertical-align: middle;\n",
       "    }\n",
       "\n",
       "    .dataframe tbody tr th {\n",
       "        vertical-align: top;\n",
       "    }\n",
       "\n",
       "    .dataframe thead th {\n",
       "        text-align: right;\n",
       "    }\n",
       "</style>\n",
       "<table border=\"1\" class=\"dataframe\">\n",
       "  <thead>\n",
       "    <tr style=\"text-align: right;\">\n",
       "      <th></th>\n",
       "      <th>ex_id</th>\n",
       "      <th>user_id</th>\n",
       "      <th>prod_id</th>\n",
       "      <th>rating</th>\n",
       "      <th>label</th>\n",
       "      <th>date</th>\n",
       "      <th>review</th>\n",
       "      <th>Avg_Prod_Rating</th>\n",
       "    </tr>\n",
       "  </thead>\n",
       "  <tbody>\n",
       "    <tr>\n",
       "      <th>0</th>\n",
       "      <td>0</td>\n",
       "      <td>923</td>\n",
       "      <td>0</td>\n",
       "      <td>3.0</td>\n",
       "      <td>1</td>\n",
       "      <td>2014-12-08</td>\n",
       "      <td>The food at snack is a selection of popular Gr...</td>\n",
       "      <td>3.954839</td>\n",
       "    </tr>\n",
       "  </tbody>\n",
       "</table>\n",
       "</div>"
      ],
      "text/plain": [
       "   ex_id  user_id  prod_id  rating  label        date  \\\n",
       "0      0      923        0     3.0      1  2014-12-08   \n",
       "\n",
       "                                              review  Avg_Prod_Rating  \n",
       "0  The food at snack is a selection of popular Gr...         3.954839  "
      ]
     },
     "execution_count": 9,
     "metadata": {},
     "output_type": "execute_result"
    }
   ],
   "source": [
    "train.head(1)"
   ]
  },
  {
   "cell_type": "markdown",
   "id": "sunset-karma",
   "metadata": {},
   "source": [
    "##### Lets add feature of average rating that the user gives for comparison"
   ]
  },
  {
   "cell_type": "code",
   "execution_count": 11,
   "id": "close-aspect",
   "metadata": {},
   "outputs": [
    {
     "data": {
      "text/html": [
       "<div>\n",
       "<style scoped>\n",
       "    .dataframe tbody tr th:only-of-type {\n",
       "        vertical-align: middle;\n",
       "    }\n",
       "\n",
       "    .dataframe tbody tr th {\n",
       "        vertical-align: top;\n",
       "    }\n",
       "\n",
       "    .dataframe thead th {\n",
       "        text-align: right;\n",
       "    }\n",
       "</style>\n",
       "<table border=\"1\" class=\"dataframe\">\n",
       "  <thead>\n",
       "    <tr style=\"text-align: right;\">\n",
       "      <th></th>\n",
       "      <th>user_id</th>\n",
       "      <th>Avg_user_rating</th>\n",
       "    </tr>\n",
       "  </thead>\n",
       "  <tbody>\n",
       "    <tr>\n",
       "      <th>0</th>\n",
       "      <td>923</td>\n",
       "      <td>4.500000</td>\n",
       "    </tr>\n",
       "    <tr>\n",
       "      <th>1</th>\n",
       "      <td>924</td>\n",
       "      <td>3.000000</td>\n",
       "    </tr>\n",
       "    <tr>\n",
       "      <th>2</th>\n",
       "      <td>925</td>\n",
       "      <td>4.000000</td>\n",
       "    </tr>\n",
       "    <tr>\n",
       "      <th>3</th>\n",
       "      <td>926</td>\n",
       "      <td>4.000000</td>\n",
       "    </tr>\n",
       "    <tr>\n",
       "      <th>4</th>\n",
       "      <td>927</td>\n",
       "      <td>4.333333</td>\n",
       "    </tr>\n",
       "  </tbody>\n",
       "</table>\n",
       "</div>"
      ],
      "text/plain": [
       "   user_id  Avg_user_rating\n",
       "0      923         4.500000\n",
       "1      924         3.000000\n",
       "2      925         4.000000\n",
       "3      926         4.000000\n",
       "4      927         4.333333"
      ]
     },
     "execution_count": 11,
     "metadata": {},
     "output_type": "execute_result"
    }
   ],
   "source": [
    "average_rating_per_user = train.groupby('user_id')['rating'].mean()\n",
    "average_rating_per_user = average_rating_per_user.to_frame()\n",
    "average_rating_per_user.reset_index(level=0, inplace=True)\n",
    "average_rating_per_user = average_rating_per_user.rename(columns={'rating':'Avg_user_rating'})\n",
    "average_rating_per_user.head()"
   ]
  },
  {
   "cell_type": "code",
   "execution_count": 12,
   "id": "alike-genetics",
   "metadata": {},
   "outputs": [],
   "source": [
    "train = train.merge(average_rating_per_user, left_on='user_id', right_on='user_id')"
   ]
  },
  {
   "cell_type": "code",
   "execution_count": 13,
   "id": "variable-listing",
   "metadata": {},
   "outputs": [
    {
     "data": {
      "text/html": [
       "<div>\n",
       "<style scoped>\n",
       "    .dataframe tbody tr th:only-of-type {\n",
       "        vertical-align: middle;\n",
       "    }\n",
       "\n",
       "    .dataframe tbody tr th {\n",
       "        vertical-align: top;\n",
       "    }\n",
       "\n",
       "    .dataframe thead th {\n",
       "        text-align: right;\n",
       "    }\n",
       "</style>\n",
       "<table border=\"1\" class=\"dataframe\">\n",
       "  <thead>\n",
       "    <tr style=\"text-align: right;\">\n",
       "      <th></th>\n",
       "      <th>ex_id</th>\n",
       "      <th>user_id</th>\n",
       "      <th>prod_id</th>\n",
       "      <th>rating</th>\n",
       "      <th>label</th>\n",
       "      <th>date</th>\n",
       "      <th>review</th>\n",
       "      <th>Avg_Prod_Rating</th>\n",
       "      <th>Avg_user_rating</th>\n",
       "    </tr>\n",
       "  </thead>\n",
       "  <tbody>\n",
       "    <tr>\n",
       "      <th>0</th>\n",
       "      <td>0</td>\n",
       "      <td>923</td>\n",
       "      <td>0</td>\n",
       "      <td>3.0</td>\n",
       "      <td>1</td>\n",
       "      <td>2014-12-08</td>\n",
       "      <td>The food at snack is a selection of popular Gr...</td>\n",
       "      <td>3.954839</td>\n",
       "      <td>4.5</td>\n",
       "    </tr>\n",
       "    <tr>\n",
       "      <th>1</th>\n",
       "      <td>5992</td>\n",
       "      <td>923</td>\n",
       "      <td>19</td>\n",
       "      <td>5.0</td>\n",
       "      <td>1</td>\n",
       "      <td>2014-01-14</td>\n",
       "      <td>The restaurant is on the ground floor of a typ...</td>\n",
       "      <td>4.067511</td>\n",
       "      <td>4.5</td>\n",
       "    </tr>\n",
       "    <tr>\n",
       "      <th>2</th>\n",
       "      <td>12853</td>\n",
       "      <td>923</td>\n",
       "      <td>40</td>\n",
       "      <td>4.0</td>\n",
       "      <td>1</td>\n",
       "      <td>2014-05-30</td>\n",
       "      <td>Really nice mousaka and lovely décor inside. A...</td>\n",
       "      <td>4.303390</td>\n",
       "      <td>4.5</td>\n",
       "    </tr>\n",
       "    <tr>\n",
       "      <th>3</th>\n",
       "      <td>29654</td>\n",
       "      <td>923</td>\n",
       "      <td>79</td>\n",
       "      <td>3.0</td>\n",
       "      <td>1</td>\n",
       "      <td>2014-03-30</td>\n",
       "      <td>We ate at the Blue Ribbon with colleagues. The...</td>\n",
       "      <td>4.295019</td>\n",
       "      <td>4.5</td>\n",
       "    </tr>\n",
       "    <tr>\n",
       "      <th>4</th>\n",
       "      <td>30833</td>\n",
       "      <td>923</td>\n",
       "      <td>81</td>\n",
       "      <td>4.0</td>\n",
       "      <td>1</td>\n",
       "      <td>2014-09-28</td>\n",
       "      <td>I loved the antibiotic- and hormone-free chick...</td>\n",
       "      <td>4.196078</td>\n",
       "      <td>4.5</td>\n",
       "    </tr>\n",
       "  </tbody>\n",
       "</table>\n",
       "</div>"
      ],
      "text/plain": [
       "   ex_id  user_id  prod_id  rating  label        date  \\\n",
       "0      0      923        0     3.0      1  2014-12-08   \n",
       "1   5992      923       19     5.0      1  2014-01-14   \n",
       "2  12853      923       40     4.0      1  2014-05-30   \n",
       "3  29654      923       79     3.0      1  2014-03-30   \n",
       "4  30833      923       81     4.0      1  2014-09-28   \n",
       "\n",
       "                                              review  Avg_Prod_Rating  \\\n",
       "0  The food at snack is a selection of popular Gr...         3.954839   \n",
       "1  The restaurant is on the ground floor of a typ...         4.067511   \n",
       "2  Really nice mousaka and lovely décor inside. A...         4.303390   \n",
       "3  We ate at the Blue Ribbon with colleagues. The...         4.295019   \n",
       "4  I loved the antibiotic- and hormone-free chick...         4.196078   \n",
       "\n",
       "   Avg_user_rating  \n",
       "0              4.5  \n",
       "1              4.5  \n",
       "2              4.5  \n",
       "3              4.5  \n",
       "4              4.5  "
      ]
     },
     "execution_count": 13,
     "metadata": {},
     "output_type": "execute_result"
    }
   ],
   "source": [
    "train.head()"
   ]
  },
  {
   "cell_type": "code",
   "execution_count": 14,
   "id": "contained-support",
   "metadata": {},
   "outputs": [
    {
     "data": {
      "text/html": [
       "<div>\n",
       "<style scoped>\n",
       "    .dataframe tbody tr th:only-of-type {\n",
       "        vertical-align: middle;\n",
       "    }\n",
       "\n",
       "    .dataframe tbody tr th {\n",
       "        vertical-align: top;\n",
       "    }\n",
       "\n",
       "    .dataframe thead th {\n",
       "        text-align: right;\n",
       "    }\n",
       "</style>\n",
       "<table border=\"1\" class=\"dataframe\">\n",
       "  <thead>\n",
       "    <tr style=\"text-align: right;\">\n",
       "      <th></th>\n",
       "      <th>ex_id</th>\n",
       "      <th>user_id</th>\n",
       "      <th>prod_id</th>\n",
       "      <th>rating</th>\n",
       "      <th>label</th>\n",
       "      <th>Avg_Prod_Rating</th>\n",
       "      <th>Avg_user_rating</th>\n",
       "    </tr>\n",
       "  </thead>\n",
       "  <tbody>\n",
       "    <tr>\n",
       "      <th>count</th>\n",
       "      <td>250874.000000</td>\n",
       "      <td>250874.000000</td>\n",
       "      <td>250874.000000</td>\n",
       "      <td>250874.000000</td>\n",
       "      <td>250874.000000</td>\n",
       "      <td>250874.000000</td>\n",
       "      <td>250874.000000</td>\n",
       "    </tr>\n",
       "    <tr>\n",
       "      <th>mean</th>\n",
       "      <td>179413.488815</td>\n",
       "      <td>53970.730446</td>\n",
       "      <td>459.778211</td>\n",
       "      <td>4.023717</td>\n",
       "      <td>0.102916</td>\n",
       "      <td>4.023717</td>\n",
       "      <td>4.023717</td>\n",
       "    </tr>\n",
       "    <tr>\n",
       "      <th>std</th>\n",
       "      <td>103640.791253</td>\n",
       "      <td>45803.665418</td>\n",
       "      <td>259.854178</td>\n",
       "      <td>1.056995</td>\n",
       "      <td>0.303850</td>\n",
       "      <td>0.220664</td>\n",
       "      <td>0.843959</td>\n",
       "    </tr>\n",
       "    <tr>\n",
       "      <th>min</th>\n",
       "      <td>0.000000</td>\n",
       "      <td>923.000000</td>\n",
       "      <td>0.000000</td>\n",
       "      <td>1.000000</td>\n",
       "      <td>0.000000</td>\n",
       "      <td>2.970588</td>\n",
       "      <td>1.000000</td>\n",
       "    </tr>\n",
       "    <tr>\n",
       "      <th>25%</th>\n",
       "      <td>89526.500000</td>\n",
       "      <td>13820.000000</td>\n",
       "      <td>247.000000</td>\n",
       "      <td>4.000000</td>\n",
       "      <td>0.000000</td>\n",
       "      <td>3.876404</td>\n",
       "      <td>3.727273</td>\n",
       "    </tr>\n",
       "    <tr>\n",
       "      <th>50%</th>\n",
       "      <td>179345.500000</td>\n",
       "      <td>40485.500000</td>\n",
       "      <td>468.000000</td>\n",
       "      <td>4.000000</td>\n",
       "      <td>0.000000</td>\n",
       "      <td>3.990063</td>\n",
       "      <td>4.000000</td>\n",
       "    </tr>\n",
       "    <tr>\n",
       "      <th>75%</th>\n",
       "      <td>269196.750000</td>\n",
       "      <td>87298.000000</td>\n",
       "      <td>672.000000</td>\n",
       "      <td>5.000000</td>\n",
       "      <td>0.000000</td>\n",
       "      <td>4.164234</td>\n",
       "      <td>4.600000</td>\n",
       "    </tr>\n",
       "    <tr>\n",
       "      <th>max</th>\n",
       "      <td>358956.000000</td>\n",
       "      <td>161147.000000</td>\n",
       "      <td>922.000000</td>\n",
       "      <td>5.000000</td>\n",
       "      <td>1.000000</td>\n",
       "      <td>5.000000</td>\n",
       "      <td>5.000000</td>\n",
       "    </tr>\n",
       "  </tbody>\n",
       "</table>\n",
       "</div>"
      ],
      "text/plain": [
       "               ex_id        user_id        prod_id         rating  \\\n",
       "count  250874.000000  250874.000000  250874.000000  250874.000000   \n",
       "mean   179413.488815   53970.730446     459.778211       4.023717   \n",
       "std    103640.791253   45803.665418     259.854178       1.056995   \n",
       "min         0.000000     923.000000       0.000000       1.000000   \n",
       "25%     89526.500000   13820.000000     247.000000       4.000000   \n",
       "50%    179345.500000   40485.500000     468.000000       4.000000   \n",
       "75%    269196.750000   87298.000000     672.000000       5.000000   \n",
       "max    358956.000000  161147.000000     922.000000       5.000000   \n",
       "\n",
       "               label  Avg_Prod_Rating  Avg_user_rating  \n",
       "count  250874.000000    250874.000000    250874.000000  \n",
       "mean        0.102916         4.023717         4.023717  \n",
       "std         0.303850         0.220664         0.843959  \n",
       "min         0.000000         2.970588         1.000000  \n",
       "25%         0.000000         3.876404         3.727273  \n",
       "50%         0.000000         3.990063         4.000000  \n",
       "75%         0.000000         4.164234         4.600000  \n",
       "max         1.000000         5.000000         5.000000  "
      ]
     },
     "execution_count": 14,
     "metadata": {},
     "output_type": "execute_result"
    }
   ],
   "source": [
    "train.describe()"
   ]
  },
  {
   "cell_type": "markdown",
   "id": "suffering-control",
   "metadata": {},
   "source": [
    "#### Extracting Review length from dataset"
   ]
  },
  {
   "cell_type": "code",
   "execution_count": 16,
   "id": "collected-wyoming",
   "metadata": {},
   "outputs": [],
   "source": [
    "train['Review_Len']= train['review'].apply(len)"
   ]
  },
  {
   "cell_type": "code",
   "execution_count": 17,
   "id": "optimum-aaron",
   "metadata": {},
   "outputs": [
    {
     "data": {
      "text/html": [
       "<div>\n",
       "<style scoped>\n",
       "    .dataframe tbody tr th:only-of-type {\n",
       "        vertical-align: middle;\n",
       "    }\n",
       "\n",
       "    .dataframe tbody tr th {\n",
       "        vertical-align: top;\n",
       "    }\n",
       "\n",
       "    .dataframe thead th {\n",
       "        text-align: right;\n",
       "    }\n",
       "</style>\n",
       "<table border=\"1\" class=\"dataframe\">\n",
       "  <thead>\n",
       "    <tr style=\"text-align: right;\">\n",
       "      <th></th>\n",
       "      <th>ex_id</th>\n",
       "      <th>user_id</th>\n",
       "      <th>prod_id</th>\n",
       "      <th>rating</th>\n",
       "      <th>label</th>\n",
       "      <th>date</th>\n",
       "      <th>review</th>\n",
       "      <th>Avg_Prod_Rating</th>\n",
       "      <th>Avg_user_rating</th>\n",
       "      <th>Review_Len</th>\n",
       "    </tr>\n",
       "  </thead>\n",
       "  <tbody>\n",
       "    <tr>\n",
       "      <th>0</th>\n",
       "      <td>0</td>\n",
       "      <td>923</td>\n",
       "      <td>0</td>\n",
       "      <td>3.0</td>\n",
       "      <td>1</td>\n",
       "      <td>2014-12-08</td>\n",
       "      <td>The food at snack is a selection of popular Gr...</td>\n",
       "      <td>3.954839</td>\n",
       "      <td>4.5</td>\n",
       "      <td>215</td>\n",
       "    </tr>\n",
       "    <tr>\n",
       "      <th>1</th>\n",
       "      <td>5992</td>\n",
       "      <td>923</td>\n",
       "      <td>19</td>\n",
       "      <td>5.0</td>\n",
       "      <td>1</td>\n",
       "      <td>2014-01-14</td>\n",
       "      <td>The restaurant is on the ground floor of a typ...</td>\n",
       "      <td>4.067511</td>\n",
       "      <td>4.5</td>\n",
       "      <td>513</td>\n",
       "    </tr>\n",
       "    <tr>\n",
       "      <th>2</th>\n",
       "      <td>12853</td>\n",
       "      <td>923</td>\n",
       "      <td>40</td>\n",
       "      <td>4.0</td>\n",
       "      <td>1</td>\n",
       "      <td>2014-05-30</td>\n",
       "      <td>Really nice mousaka and lovely décor inside. A...</td>\n",
       "      <td>4.303390</td>\n",
       "      <td>4.5</td>\n",
       "      <td>231</td>\n",
       "    </tr>\n",
       "    <tr>\n",
       "      <th>3</th>\n",
       "      <td>29654</td>\n",
       "      <td>923</td>\n",
       "      <td>79</td>\n",
       "      <td>3.0</td>\n",
       "      <td>1</td>\n",
       "      <td>2014-03-30</td>\n",
       "      <td>We ate at the Blue Ribbon with colleagues. The...</td>\n",
       "      <td>4.295019</td>\n",
       "      <td>4.5</td>\n",
       "      <td>255</td>\n",
       "    </tr>\n",
       "    <tr>\n",
       "      <th>4</th>\n",
       "      <td>30833</td>\n",
       "      <td>923</td>\n",
       "      <td>81</td>\n",
       "      <td>4.0</td>\n",
       "      <td>1</td>\n",
       "      <td>2014-09-28</td>\n",
       "      <td>I loved the antibiotic- and hormone-free chick...</td>\n",
       "      <td>4.196078</td>\n",
       "      <td>4.5</td>\n",
       "      <td>162</td>\n",
       "    </tr>\n",
       "  </tbody>\n",
       "</table>\n",
       "</div>"
      ],
      "text/plain": [
       "   ex_id  user_id  prod_id  rating  label        date  \\\n",
       "0      0      923        0     3.0      1  2014-12-08   \n",
       "1   5992      923       19     5.0      1  2014-01-14   \n",
       "2  12853      923       40     4.0      1  2014-05-30   \n",
       "3  29654      923       79     3.0      1  2014-03-30   \n",
       "4  30833      923       81     4.0      1  2014-09-28   \n",
       "\n",
       "                                              review  Avg_Prod_Rating  \\\n",
       "0  The food at snack is a selection of popular Gr...         3.954839   \n",
       "1  The restaurant is on the ground floor of a typ...         4.067511   \n",
       "2  Really nice mousaka and lovely décor inside. A...         4.303390   \n",
       "3  We ate at the Blue Ribbon with colleagues. The...         4.295019   \n",
       "4  I loved the antibiotic- and hormone-free chick...         4.196078   \n",
       "\n",
       "   Avg_user_rating  Review_Len  \n",
       "0              4.5         215  \n",
       "1              4.5         513  \n",
       "2              4.5         231  \n",
       "3              4.5         255  \n",
       "4              4.5         162  "
      ]
     },
     "execution_count": 17,
     "metadata": {},
     "output_type": "execute_result"
    }
   ],
   "source": [
    "train.head()"
   ]
  },
  {
   "cell_type": "code",
   "execution_count": 18,
   "id": "historical-geometry",
   "metadata": {},
   "outputs": [
    {
     "data": {
      "text/plain": [
       "array([<matplotlib.axes._subplots.AxesSubplot object at 0x000001C3C2583080>,\n",
       "       <matplotlib.axes._subplots.AxesSubplot object at 0x000001C3C261F358>],\n",
       "      dtype=object)"
      ]
     },
     "execution_count": 18,
     "metadata": {},
     "output_type": "execute_result"
    },
    {
     "data": {
      "image/png": "[encoded data removed]",
      "text/plain": [
       "<Figure size 1296x288 with 2 Axes>"
      ]
     },
     "metadata": {
      "needs_background": "light"
     },
     "output_type": "display_data"
    }
   ],
   "source": [
    "train.hist(column='Review_Len', by = 'label', bins=100, figsize=(18,4))"
   ]
  },
  {
   "cell_type": "code",
   "execution_count": 19,
   "id": "buried-impact",
   "metadata": {},
   "outputs": [
    {
     "data": {
      "text/plain": [
       "<matplotlib.legend.Legend at 0x1c3c25993c8>"
      ]
     },
     "execution_count": 19,
     "metadata": {},
     "output_type": "execute_result"
    },
    {
     "data": {
      "image/png": "[encoded data removed]",
      "text/plain": [
       "<Figure size 720x360 with 1 Axes>"
      ]
     },
     "metadata": {
      "needs_background": "light"
     },
     "output_type": "display_data"
    }
   ],
   "source": [
    "plt.figure(figsize=[10,5])\n",
    "train[train['label'] == 0]['Review_Len'].hist(bins=50, label='True', color='blue')\n",
    "train[train['label'] == 1]['Review_Len'].hist(bins=50, label='False', color='red')\n",
    "plt.legend()"
   ]
  },
  {
   "cell_type": "code",
   "execution_count": 20,
   "id": "tracked-overview",
   "metadata": {},
   "outputs": [
    {
     "name": "stderr",
     "output_type": "stream",
     "text": [
      "C:\\Users\\13152\\anaconda3\\envs\\PSAPI\\lib\\site-packages\\seaborn\\_decorators.py:43: FutureWarning: Pass the following variable as a keyword arg: x. From version 0.12, the only valid positional argument will be `data`, and passing other arguments without an explicit keyword will result in an error or misinterpretation.\n",
      "  FutureWarning\n"
     ]
    },
    {
     "data": {
      "text/plain": [
       "<matplotlib.axes._subplots.AxesSubplot at 0x1c3c49fd9e8>"
      ]
     },
     "execution_count": 20,
     "metadata": {},
     "output_type": "execute_result"
    },
    {
     "data": {
      "image/png": "[encoded data removed]",
      "text/plain": [
       "<Figure size 432x288 with 1 Axes>"
      ]
     },
     "metadata": {
      "needs_background": "light"
     },
     "output_type": "display_data"
    }
   ],
   "source": [
    "sns.countplot(train['label'])"
   ]
  },
  {
   "cell_type": "markdown",
   "id": "classified-humor",
   "metadata": {},
   "source": [
    "We can see that our data is highly imbalanced, we need to understand how to handle unbalanced data"
   ]
  },
  {
   "cell_type": "code",
   "execution_count": 62,
   "id": "entertaining-international",
   "metadata": {},
   "outputs": [
    {
     "data": {
      "text/plain": [
       "label\n",
       "0    657.372571\n",
       "1    443.433053\n",
       "Name: Review_Len, dtype: float64"
      ]
     },
     "execution_count": 62,
     "metadata": {},
     "output_type": "execute_result"
    }
   ],
   "source": [
    "train.groupby('label')['Review_Len'].mean()"
   ]
  },
  {
   "cell_type": "code",
   "execution_count": 63,
   "id": "unlike-monster",
   "metadata": {},
   "outputs": [
    {
     "data": {
      "text/plain": [
       "<matplotlib.axes._subplots.AxesSubplot at 0x2a6eb20a390>"
      ]
     },
     "execution_count": 63,
     "metadata": {},
     "output_type": "execute_result"
    },
    {
     "data": {
      "image/png": "[encoded data removed]",
      "text/plain": [
       "<Figure size 432x288 with 1 Axes>"
      ]
     },
     "metadata": {
      "needs_background": "light"
     },
     "output_type": "display_data"
    }
   ],
   "source": [
    "sns.countplot(data=train, x='rating', hue='label')"
   ]
  },
  {
   "cell_type": "code",
   "execution_count": null,
   "id": "blessed-robertson",
   "metadata": {},
   "outputs": [],
   "source": [
    "Word Cloud for Fake Reviews"
   ]
  },
  {
   "cell_type": "code",
   "execution_count": 64,
   "id": "altered-association",
   "metadata": {},
   "outputs": [
    {
     "data": {
      "image/png": "[encoded data removed]",
      "text/plain": [
       "<Figure size 432x288 with 1 Axes>"
      ]
     },
     "metadata": {
      "needs_background": "light"
     },
     "output_type": "display_data"
    }
   ],
   "source": [
    "word_string=\" \".join(train[train['label']==1]['review'].str.lower())\n",
    "wordcloud = WordCloud(stopwords=STOPWORDS,\n",
    "                          background_color='white', \n",
    "                      max_words=300, color_func=(lambda *args, **kwargs: (255,0,0))\n",
    "                         ).generate(word_string)\n",
    "plt.clf()\n",
    "plt.imshow(wordcloud)\n",
    "plt.axis('off')\n",
    "plt.show()"
   ]
  },
  {
   "cell_type": "code",
   "execution_count": null,
   "id": "demonstrated-weapon",
   "metadata": {},
   "outputs": [],
   "source": [
    "Word Cloud for True Reviews"
   ]
  },
  {
   "cell_type": "code",
   "execution_count": 65,
   "id": "fuzzy-specialist",
   "metadata": {},
   "outputs": [
    {
     "data": {
      "image/png": "[encoded data removed]",
      "text/plain": [
       "<Figure size 432x288 with 1 Axes>"
      ]
     },
     "metadata": {
      "needs_background": "light"
     },
     "output_type": "display_data"
    },
    {
     "data": {
      "text/plain": [
       "<Figure size 864x288 with 0 Axes>"
      ]
     },
     "metadata": {},
     "output_type": "display_data"
    }
   ],
   "source": [
    "word_string=\" \".join(train[train['label']==0]['review'].str.lower())\n",
    "wordcloud_false = WordCloud(stopwords=STOPWORDS,\n",
    "                          background_color='white', \n",
    "                      max_words=300, color_func=(lambda *args, **kwargs: (0,128,0))\n",
    "                         ).generate(word_string)\n",
    "plt.clf()\n",
    "plt.imshow(wordcloud_false)\n",
    "plt.axis('off')\n",
    "plt.figure(figsize=[12,4])\n",
    "plt.show()"
   ]
  },
  {
   "cell_type": "code",
   "execution_count": null,
   "id": "requested-reliance",
   "metadata": {},
   "outputs": [],
   "source": [
    "Extracting total reviews for a user to identify his review pattern"
   ]
  },
  {
   "cell_type": "code",
   "execution_count": 67,
   "id": "advisory-acting",
   "metadata": {},
   "outputs": [],
   "source": [
    "user_total_reviews=train.groupby('user_id').count()['label']"
   ]
  },
  {
   "cell_type": "code",
   "execution_count": 68,
   "id": "incorrect-prospect",
   "metadata": {},
   "outputs": [
    {
     "data": {
      "text/html": [
       "<div>\n",
       "<style scoped>\n",
       "    .dataframe tbody tr th:only-of-type {\n",
       "        vertical-align: middle;\n",
       "    }\n",
       "\n",
       "    .dataframe tbody tr th {\n",
       "        vertical-align: top;\n",
       "    }\n",
       "\n",
       "    .dataframe thead th {\n",
       "        text-align: right;\n",
       "    }\n",
       "</style>\n",
       "<table border=\"1\" class=\"dataframe\">\n",
       "  <thead>\n",
       "    <tr style=\"text-align: right;\">\n",
       "      <th></th>\n",
       "      <th>user_id</th>\n",
       "      <th>user_total_reviews</th>\n",
       "    </tr>\n",
       "  </thead>\n",
       "  <tbody>\n",
       "    <tr>\n",
       "      <th>0</th>\n",
       "      <td>923</td>\n",
       "      <td>26</td>\n",
       "    </tr>\n",
       "    <tr>\n",
       "      <th>1</th>\n",
       "      <td>924</td>\n",
       "      <td>1</td>\n",
       "    </tr>\n",
       "    <tr>\n",
       "      <th>2</th>\n",
       "      <td>925</td>\n",
       "      <td>2</td>\n",
       "    </tr>\n",
       "    <tr>\n",
       "      <th>3</th>\n",
       "      <td>926</td>\n",
       "      <td>1</td>\n",
       "    </tr>\n",
       "    <tr>\n",
       "      <th>4</th>\n",
       "      <td>927</td>\n",
       "      <td>3</td>\n",
       "    </tr>\n",
       "  </tbody>\n",
       "</table>\n",
       "</div>"
      ],
      "text/plain": [
       "   user_id  user_total_reviews\n",
       "0      923                  26\n",
       "1      924                   1\n",
       "2      925                   2\n",
       "3      926                   1\n",
       "4      927                   3"
      ]
     },
     "execution_count": 68,
     "metadata": {},
     "output_type": "execute_result"
    }
   ],
   "source": [
    "user_total_reviews = user_total_reviews.to_frame()\n",
    "user_total_reviews.reset_index(level=0, inplace=True)\n",
    "user_total_reviews =  user_total_reviews.rename(columns={'label':'user_total_reviews'})\n",
    "user_total_reviews.head()"
   ]
  },
  {
   "cell_type": "code",
   "execution_count": 69,
   "id": "liked-failing",
   "metadata": {},
   "outputs": [],
   "source": [
    "train = train.merge(user_total_reviews,  left_on='user_id', right_on='user_id')"
   ]
  },
  {
   "cell_type": "code",
   "execution_count": 70,
   "id": "middle-bracket",
   "metadata": {},
   "outputs": [
    {
     "data": {
      "text/html": [
       "<div>\n",
       "<style scoped>\n",
       "    .dataframe tbody tr th:only-of-type {\n",
       "        vertical-align: middle;\n",
       "    }\n",
       "\n",
       "    .dataframe tbody tr th {\n",
       "        vertical-align: top;\n",
       "    }\n",
       "\n",
       "    .dataframe thead th {\n",
       "        text-align: right;\n",
       "    }\n",
       "</style>\n",
       "<table border=\"1\" class=\"dataframe\">\n",
       "  <thead>\n",
       "    <tr style=\"text-align: right;\">\n",
       "      <th></th>\n",
       "      <th>ex_id</th>\n",
       "      <th>user_id</th>\n",
       "      <th>prod_id</th>\n",
       "      <th>rating</th>\n",
       "      <th>label</th>\n",
       "      <th>date</th>\n",
       "      <th>review</th>\n",
       "      <th>Avg_Prod_Rating</th>\n",
       "      <th>Avg_user_rating</th>\n",
       "      <th>Review_Len</th>\n",
       "      <th>user_total_reviews</th>\n",
       "    </tr>\n",
       "  </thead>\n",
       "  <tbody>\n",
       "    <tr>\n",
       "      <th>0</th>\n",
       "      <td>0</td>\n",
       "      <td>923</td>\n",
       "      <td>0</td>\n",
       "      <td>3.0</td>\n",
       "      <td>1</td>\n",
       "      <td>2014-12-08</td>\n",
       "      <td>The food at snack is a selection of popular Gr...</td>\n",
       "      <td>3.954839</td>\n",
       "      <td>4.5</td>\n",
       "      <td>215</td>\n",
       "      <td>26</td>\n",
       "    </tr>\n",
       "    <tr>\n",
       "      <th>1</th>\n",
       "      <td>5992</td>\n",
       "      <td>923</td>\n",
       "      <td>19</td>\n",
       "      <td>5.0</td>\n",
       "      <td>1</td>\n",
       "      <td>2014-01-14</td>\n",
       "      <td>The restaurant is on the ground floor of a typ...</td>\n",
       "      <td>4.067511</td>\n",
       "      <td>4.5</td>\n",
       "      <td>513</td>\n",
       "      <td>26</td>\n",
       "    </tr>\n",
       "    <tr>\n",
       "      <th>2</th>\n",
       "      <td>12853</td>\n",
       "      <td>923</td>\n",
       "      <td>40</td>\n",
       "      <td>4.0</td>\n",
       "      <td>1</td>\n",
       "      <td>2014-05-30</td>\n",
       "      <td>Really nice mousaka and lovely décor inside. A...</td>\n",
       "      <td>4.303390</td>\n",
       "      <td>4.5</td>\n",
       "      <td>231</td>\n",
       "      <td>26</td>\n",
       "    </tr>\n",
       "    <tr>\n",
       "      <th>3</th>\n",
       "      <td>29654</td>\n",
       "      <td>923</td>\n",
       "      <td>79</td>\n",
       "      <td>3.0</td>\n",
       "      <td>1</td>\n",
       "      <td>2014-03-30</td>\n",
       "      <td>We ate at the Blue Ribbon with colleagues. The...</td>\n",
       "      <td>4.295019</td>\n",
       "      <td>4.5</td>\n",
       "      <td>255</td>\n",
       "      <td>26</td>\n",
       "    </tr>\n",
       "    <tr>\n",
       "      <th>4</th>\n",
       "      <td>30833</td>\n",
       "      <td>923</td>\n",
       "      <td>81</td>\n",
       "      <td>4.0</td>\n",
       "      <td>1</td>\n",
       "      <td>2014-09-28</td>\n",
       "      <td>I loved the antibiotic- and hormone-free chick...</td>\n",
       "      <td>4.196078</td>\n",
       "      <td>4.5</td>\n",
       "      <td>162</td>\n",
       "      <td>26</td>\n",
       "    </tr>\n",
       "    <tr>\n",
       "      <th>...</th>\n",
       "      <td>...</td>\n",
       "      <td>...</td>\n",
       "      <td>...</td>\n",
       "      <td>...</td>\n",
       "      <td>...</td>\n",
       "      <td>...</td>\n",
       "      <td>...</td>\n",
       "      <td>...</td>\n",
       "      <td>...</td>\n",
       "      <td>...</td>\n",
       "      <td>...</td>\n",
       "    </tr>\n",
       "    <tr>\n",
       "      <th>250869</th>\n",
       "      <td>358945</td>\n",
       "      <td>49686</td>\n",
       "      <td>349</td>\n",
       "      <td>3.0</td>\n",
       "      <td>0</td>\n",
       "      <td>2014-02-13</td>\n",
       "      <td>I dislike being the one to not rate full stars...</td>\n",
       "      <td>4.185185</td>\n",
       "      <td>3.0</td>\n",
       "      <td>444</td>\n",
       "      <td>1</td>\n",
       "    </tr>\n",
       "    <tr>\n",
       "      <th>250870</th>\n",
       "      <td>358947</td>\n",
       "      <td>161144</td>\n",
       "      <td>349</td>\n",
       "      <td>5.0</td>\n",
       "      <td>0</td>\n",
       "      <td>2014-02-11</td>\n",
       "      <td>The food was perfect. The wine was perfect. Th...</td>\n",
       "      <td>4.185185</td>\n",
       "      <td>5.0</td>\n",
       "      <td>411</td>\n",
       "      <td>1</td>\n",
       "    </tr>\n",
       "    <tr>\n",
       "      <th>250871</th>\n",
       "      <td>358949</td>\n",
       "      <td>161145</td>\n",
       "      <td>349</td>\n",
       "      <td>5.0</td>\n",
       "      <td>0</td>\n",
       "      <td>2014-02-09</td>\n",
       "      <td>Came here for Sunday brunch. Everything we tas...</td>\n",
       "      <td>4.185185</td>\n",
       "      <td>5.0</td>\n",
       "      <td>252</td>\n",
       "      <td>1</td>\n",
       "    </tr>\n",
       "    <tr>\n",
       "      <th>250872</th>\n",
       "      <td>358953</td>\n",
       "      <td>116424</td>\n",
       "      <td>349</td>\n",
       "      <td>5.0</td>\n",
       "      <td>0</td>\n",
       "      <td>2014-01-31</td>\n",
       "      <td>Can't say enough good things about this place....</td>\n",
       "      <td>4.185185</td>\n",
       "      <td>5.0</td>\n",
       "      <td>475</td>\n",
       "      <td>1</td>\n",
       "    </tr>\n",
       "    <tr>\n",
       "      <th>250873</th>\n",
       "      <td>358954</td>\n",
       "      <td>161147</td>\n",
       "      <td>349</td>\n",
       "      <td>5.0</td>\n",
       "      <td>0</td>\n",
       "      <td>2014-01-30</td>\n",
       "      <td>Had a great dinner here- fantastic pizza, the ...</td>\n",
       "      <td>4.185185</td>\n",
       "      <td>5.0</td>\n",
       "      <td>268</td>\n",
       "      <td>1</td>\n",
       "    </tr>\n",
       "  </tbody>\n",
       "</table>\n",
       "<p>250874 rows × 11 columns</p>\n",
       "</div>"
      ],
      "text/plain": [
       "         ex_id  user_id  prod_id  rating  label        date  \\\n",
       "0            0      923        0     3.0      1  2014-12-08   \n",
       "1         5992      923       19     5.0      1  2014-01-14   \n",
       "2        12853      923       40     4.0      1  2014-05-30   \n",
       "3        29654      923       79     3.0      1  2014-03-30   \n",
       "4        30833      923       81     4.0      1  2014-09-28   \n",
       "...        ...      ...      ...     ...    ...         ...   \n",
       "250869  358945    49686      349     3.0      0  2014-02-13   \n",
       "250870  358947   161144      349     5.0      0  2014-02-11   \n",
       "250871  358949   161145      349     5.0      0  2014-02-09   \n",
       "250872  358953   116424      349     5.0      0  2014-01-31   \n",
       "250873  358954   161147      349     5.0      0  2014-01-30   \n",
       "\n",
       "                                                   review  Avg_Prod_Rating  \\\n",
       "0       The food at snack is a selection of popular Gr...         3.954839   \n",
       "1       The restaurant is on the ground floor of a typ...         4.067511   \n",
       "2       Really nice mousaka and lovely décor inside. A...         4.303390   \n",
       "3       We ate at the Blue Ribbon with colleagues. The...         4.295019   \n",
       "4       I loved the antibiotic- and hormone-free chick...         4.196078   \n",
       "...                                                   ...              ...   \n",
       "250869  I dislike being the one to not rate full stars...         4.185185   \n",
       "250870  The food was perfect. The wine was perfect. Th...         4.185185   \n",
       "250871  Came here for Sunday brunch. Everything we tas...         4.185185   \n",
       "250872  Can't say enough good things about this place....         4.185185   \n",
       "250873  Had a great dinner here- fantastic pizza, the ...         4.185185   \n",
       "\n",
       "        Avg_user_rating  Review_Len  user_total_reviews  \n",
       "0                   4.5         215                  26  \n",
       "1                   4.5         513                  26  \n",
       "2                   4.5         231                  26  \n",
       "3                   4.5         255                  26  \n",
       "4                   4.5         162                  26  \n",
       "...                 ...         ...                 ...  \n",
       "250869              3.0         444                   1  \n",
       "250870              5.0         411                   1  \n",
       "250871              5.0         252                   1  \n",
       "250872              5.0         475                   1  \n",
       "250873              5.0         268                   1  \n",
       "\n",
       "[250874 rows x 11 columns]"
      ]
     },
     "execution_count": 70,
     "metadata": {},
     "output_type": "execute_result"
    }
   ],
   "source": [
    "train"
   ]
  },
  {
   "cell_type": "markdown",
   "id": "pleasant-prediction",
   "metadata": {},
   "source": [
    "##### Saving the processed data onto csv"
   ]
  },
  {
   "cell_type": "code",
   "execution_count": 71,
   "id": "based-commissioner",
   "metadata": {},
   "outputs": [],
   "source": [
    "path= r\"....\\Project\\Final\" #Change the path before saving to csv\n",
    "import os\n",
    "train.to_csv(os.path.join(path,r'FinalData.csv'))"
   ]
  },
  {
   "cell_type": "code",
   "execution_count": 21,
   "id": "trying-florence",
   "metadata": {},
   "outputs": [],
   "source": [
    "train_path = r\"....\\Project\\Final\\FinalData.csv\"  #Change the path before reading csv\n",
    "train = pd.read_csv(train_path)\n",
    "train = train.sort_values(by=['ex_id'])\n",
    "train = train.drop(columns=['Unnamed: 0'])"
   ]
  },
  {
   "cell_type": "code",
   "execution_count": 22,
   "id": "surgical-syntax",
   "metadata": {},
   "outputs": [
    {
     "data": {
      "text/html": [
       "<div>\n",
       "<style scoped>\n",
       "    .dataframe tbody tr th:only-of-type {\n",
       "        vertical-align: middle;\n",
       "    }\n",
       "\n",
       "    .dataframe tbody tr th {\n",
       "        vertical-align: top;\n",
       "    }\n",
       "\n",
       "    .dataframe thead th {\n",
       "        text-align: right;\n",
       "    }\n",
       "</style>\n",
       "<table border=\"1\" class=\"dataframe\">\n",
       "  <thead>\n",
       "    <tr style=\"text-align: right;\">\n",
       "      <th></th>\n",
       "      <th>ex_id</th>\n",
       "      <th>user_id</th>\n",
       "      <th>prod_id</th>\n",
       "      <th>rating</th>\n",
       "      <th>label</th>\n",
       "      <th>date</th>\n",
       "      <th>review</th>\n",
       "      <th>Avg_Prod_Rating</th>\n",
       "      <th>Avg_user_rating</th>\n",
       "      <th>Review_Len</th>\n",
       "      <th>user_total_reviews</th>\n",
       "    </tr>\n",
       "  </thead>\n",
       "  <tbody>\n",
       "    <tr>\n",
       "      <th>0</th>\n",
       "      <td>0</td>\n",
       "      <td>923</td>\n",
       "      <td>0</td>\n",
       "      <td>3.0</td>\n",
       "      <td>1</td>\n",
       "      <td>2014-12-08</td>\n",
       "      <td>The food at snack is a selection of popular Gr...</td>\n",
       "      <td>3.954839</td>\n",
       "      <td>4.500000</td>\n",
       "      <td>215</td>\n",
       "      <td>26</td>\n",
       "    </tr>\n",
       "    <tr>\n",
       "      <th>26</th>\n",
       "      <td>1</td>\n",
       "      <td>924</td>\n",
       "      <td>0</td>\n",
       "      <td>3.0</td>\n",
       "      <td>1</td>\n",
       "      <td>2013-05-16</td>\n",
       "      <td>This little place in Soho is wonderful. I had ...</td>\n",
       "      <td>3.954839</td>\n",
       "      <td>3.000000</td>\n",
       "      <td>269</td>\n",
       "      <td>1</td>\n",
       "    </tr>\n",
       "    <tr>\n",
       "      <th>27</th>\n",
       "      <td>2</td>\n",
       "      <td>925</td>\n",
       "      <td>0</td>\n",
       "      <td>4.0</td>\n",
       "      <td>1</td>\n",
       "      <td>2013-07-01</td>\n",
       "      <td>ordered lunch for 15 from Snack last Friday.  ...</td>\n",
       "      <td>3.954839</td>\n",
       "      <td>4.000000</td>\n",
       "      <td>178</td>\n",
       "      <td>2</td>\n",
       "    </tr>\n",
       "    <tr>\n",
       "      <th>29</th>\n",
       "      <td>3</td>\n",
       "      <td>926</td>\n",
       "      <td>0</td>\n",
       "      <td>4.0</td>\n",
       "      <td>1</td>\n",
       "      <td>2011-07-28</td>\n",
       "      <td>This is a beautiful quaint little restaurant o...</td>\n",
       "      <td>3.954839</td>\n",
       "      <td>4.000000</td>\n",
       "      <td>491</td>\n",
       "      <td>1</td>\n",
       "    </tr>\n",
       "    <tr>\n",
       "      <th>30</th>\n",
       "      <td>4</td>\n",
       "      <td>927</td>\n",
       "      <td>0</td>\n",
       "      <td>4.0</td>\n",
       "      <td>1</td>\n",
       "      <td>2010-11-01</td>\n",
       "      <td>Snack is great place for a  casual sit down lu...</td>\n",
       "      <td>3.954839</td>\n",
       "      <td>4.333333</td>\n",
       "      <td>596</td>\n",
       "      <td>3</td>\n",
       "    </tr>\n",
       "    <tr>\n",
       "      <th>...</th>\n",
       "      <td>...</td>\n",
       "      <td>...</td>\n",
       "      <td>...</td>\n",
       "      <td>...</td>\n",
       "      <td>...</td>\n",
       "      <td>...</td>\n",
       "      <td>...</td>\n",
       "      <td>...</td>\n",
       "      <td>...</td>\n",
       "      <td>...</td>\n",
       "      <td>...</td>\n",
       "    </tr>\n",
       "    <tr>\n",
       "      <th>55168</th>\n",
       "      <td>358950</td>\n",
       "      <td>14671</td>\n",
       "      <td>349</td>\n",
       "      <td>5.0</td>\n",
       "      <td>0</td>\n",
       "      <td>2014-02-08</td>\n",
       "      <td>Made a reservation for an early dinner Saturda...</td>\n",
       "      <td>4.185185</td>\n",
       "      <td>4.333333</td>\n",
       "      <td>1418</td>\n",
       "      <td>3</td>\n",
       "    </tr>\n",
       "    <tr>\n",
       "      <th>11834</th>\n",
       "      <td>358951</td>\n",
       "      <td>3356</td>\n",
       "      <td>349</td>\n",
       "      <td>5.0</td>\n",
       "      <td>0</td>\n",
       "      <td>2014-02-07</td>\n",
       "      <td>Emily is like Franny's Marco, but with warmth ...</td>\n",
       "      <td>4.185185</td>\n",
       "      <td>4.100000</td>\n",
       "      <td>763</td>\n",
       "      <td>60</td>\n",
       "    </tr>\n",
       "    <tr>\n",
       "      <th>250872</th>\n",
       "      <td>358953</td>\n",
       "      <td>116424</td>\n",
       "      <td>349</td>\n",
       "      <td>5.0</td>\n",
       "      <td>0</td>\n",
       "      <td>2014-01-31</td>\n",
       "      <td>Can't say enough good things about this place....</td>\n",
       "      <td>4.185185</td>\n",
       "      <td>5.000000</td>\n",
       "      <td>475</td>\n",
       "      <td>1</td>\n",
       "    </tr>\n",
       "    <tr>\n",
       "      <th>250873</th>\n",
       "      <td>358954</td>\n",
       "      <td>161147</td>\n",
       "      <td>349</td>\n",
       "      <td>5.0</td>\n",
       "      <td>0</td>\n",
       "      <td>2014-01-30</td>\n",
       "      <td>Had a great dinner here- fantastic pizza, the ...</td>\n",
       "      <td>4.185185</td>\n",
       "      <td>5.000000</td>\n",
       "      <td>268</td>\n",
       "      <td>1</td>\n",
       "    </tr>\n",
       "    <tr>\n",
       "      <th>20199</th>\n",
       "      <td>358956</td>\n",
       "      <td>5260</td>\n",
       "      <td>349</td>\n",
       "      <td>5.0</td>\n",
       "      <td>0</td>\n",
       "      <td>2014-01-25</td>\n",
       "      <td>Pizza Loves Emily and I love Emily's pizza. Th...</td>\n",
       "      <td>4.185185</td>\n",
       "      <td>4.423729</td>\n",
       "      <td>3856</td>\n",
       "      <td>59</td>\n",
       "    </tr>\n",
       "  </tbody>\n",
       "</table>\n",
       "<p>250874 rows × 11 columns</p>\n",
       "</div>"
      ],
      "text/plain": [
       "         ex_id  user_id  prod_id  rating  label        date  \\\n",
       "0            0      923        0     3.0      1  2014-12-08   \n",
       "26           1      924        0     3.0      1  2013-05-16   \n",
       "27           2      925        0     4.0      1  2013-07-01   \n",
       "29           3      926        0     4.0      1  2011-07-28   \n",
       "30           4      927        0     4.0      1  2010-11-01   \n",
       "...        ...      ...      ...     ...    ...         ...   \n",
       "55168   358950    14671      349     5.0      0  2014-02-08   \n",
       "11834   358951     3356      349     5.0      0  2014-02-07   \n",
       "250872  358953   116424      349     5.0      0  2014-01-31   \n",
       "250873  358954   161147      349     5.0      0  2014-01-30   \n",
       "20199   358956     5260      349     5.0      0  2014-01-25   \n",
       "\n",
       "                                                   review  Avg_Prod_Rating  \\\n",
       "0       The food at snack is a selection of popular Gr...         3.954839   \n",
       "26      This little place in Soho is wonderful. I had ...         3.954839   \n",
       "27      ordered lunch for 15 from Snack last Friday.  ...         3.954839   \n",
       "29      This is a beautiful quaint little restaurant o...         3.954839   \n",
       "30      Snack is great place for a  casual sit down lu...         3.954839   \n",
       "...                                                   ...              ...   \n",
       "55168   Made a reservation for an early dinner Saturda...         4.185185   \n",
       "11834   Emily is like Franny's Marco, but with warmth ...         4.185185   \n",
       "250872  Can't say enough good things about this place....         4.185185   \n",
       "250873  Had a great dinner here- fantastic pizza, the ...         4.185185   \n",
       "20199   Pizza Loves Emily and I love Emily's pizza. Th...         4.185185   \n",
       "\n",
       "        Avg_user_rating  Review_Len  user_total_reviews  \n",
       "0              4.500000         215                  26  \n",
       "26             3.000000         269                   1  \n",
       "27             4.000000         178                   2  \n",
       "29             4.000000         491                   1  \n",
       "30             4.333333         596                   3  \n",
       "...                 ...         ...                 ...  \n",
       "55168          4.333333        1418                   3  \n",
       "11834          4.100000         763                  60  \n",
       "250872         5.000000         475                   1  \n",
       "250873         5.000000         268                   1  \n",
       "20199          4.423729        3856                  59  \n",
       "\n",
       "[250874 rows x 11 columns]"
      ]
     },
     "execution_count": 22,
     "metadata": {},
     "output_type": "execute_result"
    }
   ],
   "source": [
    "train"
   ]
  },
  {
   "cell_type": "markdown",
   "id": "blessed-sphere",
   "metadata": {},
   "source": [
    "### Data cleaning & Corpus"
   ]
  },
  {
   "cell_type": "code",
   "execution_count": 194,
   "id": "weighted-cream",
   "metadata": {},
   "outputs": [],
   "source": [
    "import numpy as np\n",
    "import re\n",
    "import nltk\n",
    "from nltk.corpus import stopwords\n",
    "from nltk.tokenize import word_tokenize\n",
    "import string\n",
    "from itertools import chain\n",
    "from collections import Counter "
   ]
  },
  {
   "cell_type": "code",
   "execution_count": 195,
   "id": "latter-jerusalem",
   "metadata": {},
   "outputs": [],
   "source": [
    "corpus = np.array(train['review']) #convert from Dataframe to array\n",
    "corpus = corpus.ravel()#used to convert from multi-dimensional array to 1 dimension"
   ]
  },
  {
   "cell_type": "code",
   "execution_count": 196,
   "id": "piano-dubai",
   "metadata": {},
   "outputs": [],
   "source": [
    "#Preprocessing Text Corpus\n",
    "wpt=nltk.WordPunctTokenizer()"
   ]
  },
  {
   "cell_type": "code",
   "execution_count": 197,
   "id": "divided-tissue",
   "metadata": {},
   "outputs": [],
   "source": [
    "stop_words = set(stopwords.words('english')) "
   ]
  },
  {
   "cell_type": "code",
   "execution_count": 198,
   "id": "equipped-washer",
   "metadata": {},
   "outputs": [],
   "source": [
    "def normalize_docuement (doc):\n",
    "    #lowercase and remove special characters\\whitespace\n",
    "    doc=re.sub(r'[^a-zA-Z\\s]', '', doc, re.I|re.A) #re.I ignore case sensitive, ASCII-only matching\n",
    "    doc=doc.lower()\n",
    "    doc=doc.strip()\n",
    "    #tokenize document\n",
    "    tokens=wpt.tokenize(doc)\n",
    "    #filter stopwords out of document\n",
    "    filtered_tokens=[token for token in tokens if token not in stop_words]\n",
    "    #re-create documenr from filtered tokens\n",
    "    doc=' '.join(filtered_tokens)\n",
    "    return doc"
   ]
  },
  {
   "cell_type": "code",
   "execution_count": 199,
   "id": "hidden-intervention",
   "metadata": {},
   "outputs": [],
   "source": [
    "normalize_corpus=np.vectorize(normalize_docuement)\n",
    "norm_corpus=normalize_corpus(corpus)"
   ]
  },
  {
   "cell_type": "code",
   "execution_count": 200,
   "id": "developing-apollo",
   "metadata": {},
   "outputs": [],
   "source": [
    "train['corpus'] = norm_corpus.tolist()"
   ]
  },
  {
   "cell_type": "code",
   "execution_count": 201,
   "id": "frank-popularity",
   "metadata": {},
   "outputs": [
    {
     "data": {
      "text/html": [
       "<div>\n",
       "<style scoped>\n",
       "    .dataframe tbody tr th:only-of-type {\n",
       "        vertical-align: middle;\n",
       "    }\n",
       "\n",
       "    .dataframe tbody tr th {\n",
       "        vertical-align: top;\n",
       "    }\n",
       "\n",
       "    .dataframe thead th {\n",
       "        text-align: right;\n",
       "    }\n",
       "</style>\n",
       "<table border=\"1\" class=\"dataframe\">\n",
       "  <thead>\n",
       "    <tr style=\"text-align: right;\">\n",
       "      <th></th>\n",
       "      <th>ex_id</th>\n",
       "      <th>user_id</th>\n",
       "      <th>prod_id</th>\n",
       "      <th>rating</th>\n",
       "      <th>label</th>\n",
       "      <th>date</th>\n",
       "      <th>review</th>\n",
       "      <th>Avg_Prod_Rating</th>\n",
       "      <th>Avg_user_rating</th>\n",
       "      <th>Review_Len</th>\n",
       "      <th>user_total_reviews</th>\n",
       "      <th>corpus</th>\n",
       "    </tr>\n",
       "  </thead>\n",
       "  <tbody>\n",
       "    <tr>\n",
       "      <th>0</th>\n",
       "      <td>0</td>\n",
       "      <td>923</td>\n",
       "      <td>0</td>\n",
       "      <td>3.0</td>\n",
       "      <td>1</td>\n",
       "      <td>2014-12-08</td>\n",
       "      <td>The food at snack is a selection of popular Gr...</td>\n",
       "      <td>3.954839</td>\n",
       "      <td>4.500000</td>\n",
       "      <td>215</td>\n",
       "      <td>26</td>\n",
       "      <td>food snack selection popular greek dishes appe...</td>\n",
       "    </tr>\n",
       "    <tr>\n",
       "      <th>26</th>\n",
       "      <td>1</td>\n",
       "      <td>924</td>\n",
       "      <td>0</td>\n",
       "      <td>3.0</td>\n",
       "      <td>1</td>\n",
       "      <td>2013-05-16</td>\n",
       "      <td>This little place in Soho is wonderful. I had ...</td>\n",
       "      <td>3.954839</td>\n",
       "      <td>3.000000</td>\n",
       "      <td>269</td>\n",
       "      <td>1</td>\n",
       "      <td>little place soho wonderful lamb sandwich glas...</td>\n",
       "    </tr>\n",
       "    <tr>\n",
       "      <th>27</th>\n",
       "      <td>2</td>\n",
       "      <td>925</td>\n",
       "      <td>0</td>\n",
       "      <td>4.0</td>\n",
       "      <td>1</td>\n",
       "      <td>2013-07-01</td>\n",
       "      <td>ordered lunch for 15 from Snack last Friday.  ...</td>\n",
       "      <td>3.954839</td>\n",
       "      <td>4.000000</td>\n",
       "      <td>178</td>\n",
       "      <td>2</td>\n",
       "      <td>ordered lunch snack last friday time nothing m...</td>\n",
       "    </tr>\n",
       "    <tr>\n",
       "      <th>29</th>\n",
       "      <td>3</td>\n",
       "      <td>926</td>\n",
       "      <td>0</td>\n",
       "      <td>4.0</td>\n",
       "      <td>1</td>\n",
       "      <td>2011-07-28</td>\n",
       "      <td>This is a beautiful quaint little restaurant o...</td>\n",
       "      <td>3.954839</td>\n",
       "      <td>4.000000</td>\n",
       "      <td>491</td>\n",
       "      <td>1</td>\n",
       "      <td>beautiful quaint little restaurant pretty stre...</td>\n",
       "    </tr>\n",
       "    <tr>\n",
       "      <th>30</th>\n",
       "      <td>4</td>\n",
       "      <td>927</td>\n",
       "      <td>0</td>\n",
       "      <td>4.0</td>\n",
       "      <td>1</td>\n",
       "      <td>2010-11-01</td>\n",
       "      <td>Snack is great place for a  casual sit down lu...</td>\n",
       "      <td>3.954839</td>\n",
       "      <td>4.333333</td>\n",
       "      <td>596</td>\n",
       "      <td>3</td>\n",
       "      <td>snack great place casual sit lunch especially ...</td>\n",
       "    </tr>\n",
       "  </tbody>\n",
       "</table>\n",
       "</div>"
      ],
      "text/plain": [
       "    ex_id  user_id  prod_id  rating  label        date  \\\n",
       "0       0      923        0     3.0      1  2014-12-08   \n",
       "26      1      924        0     3.0      1  2013-05-16   \n",
       "27      2      925        0     4.0      1  2013-07-01   \n",
       "29      3      926        0     4.0      1  2011-07-28   \n",
       "30      4      927        0     4.0      1  2010-11-01   \n",
       "\n",
       "                                               review  Avg_Prod_Rating  \\\n",
       "0   The food at snack is a selection of popular Gr...         3.954839   \n",
       "26  This little place in Soho is wonderful. I had ...         3.954839   \n",
       "27  ordered lunch for 15 from Snack last Friday.  ...         3.954839   \n",
       "29  This is a beautiful quaint little restaurant o...         3.954839   \n",
       "30  Snack is great place for a  casual sit down lu...         3.954839   \n",
       "\n",
       "    Avg_user_rating  Review_Len  user_total_reviews  \\\n",
       "0          4.500000         215                  26   \n",
       "26         3.000000         269                   1   \n",
       "27         4.000000         178                   2   \n",
       "29         4.000000         491                   1   \n",
       "30         4.333333         596                   3   \n",
       "\n",
       "                                               corpus  \n",
       "0   food snack selection popular greek dishes appe...  \n",
       "26  little place soho wonderful lamb sandwich glas...  \n",
       "27  ordered lunch snack last friday time nothing m...  \n",
       "29  beautiful quaint little restaurant pretty stre...  \n",
       "30  snack great place casual sit lunch especially ...  "
      ]
     },
     "execution_count": 201,
     "metadata": {},
     "output_type": "execute_result"
    }
   ],
   "source": [
    "train.head()"
   ]
  },
  {
   "cell_type": "markdown",
   "id": "offensive-cologne",
   "metadata": {},
   "source": [
    "### Sentiment Analysis"
   ]
  },
  {
   "cell_type": "code",
   "execution_count": 203,
   "id": "framed-priority",
   "metadata": {},
   "outputs": [],
   "source": [
    "from nltk.sentiment.vader import SentimentIntensityAnalyzer"
   ]
  },
  {
   "cell_type": "code",
   "execution_count": 204,
   "id": "specialized-summit",
   "metadata": {},
   "outputs": [],
   "source": [
    "analyzer = SentimentIntensityAnalyzer()"
   ]
  },
  {
   "cell_type": "code",
   "execution_count": 205,
   "id": "political-macedonia",
   "metadata": {},
   "outputs": [],
   "source": [
    "train['neg'] = train['corpus'].apply(lambda x:analyzer.polarity_scores(x)['neg'])\n",
    "train['neu'] = train['corpus'].apply(lambda x:analyzer.polarity_scores(x)['neu'])\n",
    "train['pos'] = train['corpus'].apply(lambda x:analyzer.polarity_scores(x)['pos'])\n",
    "train['compound'] = train['corpus'].apply(lambda x:analyzer.polarity_scores(x)['compound'])"
   ]
  },
  {
   "cell_type": "code",
   "execution_count": 206,
   "id": "authentic-causing",
   "metadata": {},
   "outputs": [
    {
     "data": {
      "text/html": [
       "<div>\n",
       "<style scoped>\n",
       "    .dataframe tbody tr th:only-of-type {\n",
       "        vertical-align: middle;\n",
       "    }\n",
       "\n",
       "    .dataframe tbody tr th {\n",
       "        vertical-align: top;\n",
       "    }\n",
       "\n",
       "    .dataframe thead th {\n",
       "        text-align: right;\n",
       "    }\n",
       "</style>\n",
       "<table border=\"1\" class=\"dataframe\">\n",
       "  <thead>\n",
       "    <tr style=\"text-align: right;\">\n",
       "      <th></th>\n",
       "      <th>ex_id</th>\n",
       "      <th>user_id</th>\n",
       "      <th>prod_id</th>\n",
       "      <th>rating</th>\n",
       "      <th>label</th>\n",
       "      <th>date</th>\n",
       "      <th>review</th>\n",
       "      <th>Avg_Prod_Rating</th>\n",
       "      <th>Avg_user_rating</th>\n",
       "      <th>Review_Len</th>\n",
       "      <th>user_total_reviews</th>\n",
       "      <th>corpus</th>\n",
       "      <th>neg</th>\n",
       "      <th>neu</th>\n",
       "      <th>pos</th>\n",
       "      <th>compound</th>\n",
       "    </tr>\n",
       "  </thead>\n",
       "  <tbody>\n",
       "    <tr>\n",
       "      <th>0</th>\n",
       "      <td>0</td>\n",
       "      <td>923</td>\n",
       "      <td>0</td>\n",
       "      <td>3.0</td>\n",
       "      <td>1</td>\n",
       "      <td>2014-12-08</td>\n",
       "      <td>The food at snack is a selection of popular Gr...</td>\n",
       "      <td>3.954839</td>\n",
       "      <td>4.500000</td>\n",
       "      <td>215</td>\n",
       "      <td>26</td>\n",
       "      <td>food snack selection popular greek dishes appe...</td>\n",
       "      <td>0.061</td>\n",
       "      <td>0.693</td>\n",
       "      <td>0.247</td>\n",
       "      <td>0.6486</td>\n",
       "    </tr>\n",
       "    <tr>\n",
       "      <th>26</th>\n",
       "      <td>1</td>\n",
       "      <td>924</td>\n",
       "      <td>0</td>\n",
       "      <td>3.0</td>\n",
       "      <td>1</td>\n",
       "      <td>2013-05-16</td>\n",
       "      <td>This little place in Soho is wonderful. I had ...</td>\n",
       "      <td>3.954839</td>\n",
       "      <td>3.000000</td>\n",
       "      <td>269</td>\n",
       "      <td>1</td>\n",
       "      <td>little place soho wonderful lamb sandwich glas...</td>\n",
       "      <td>0.159</td>\n",
       "      <td>0.602</td>\n",
       "      <td>0.239</td>\n",
       "      <td>0.5446</td>\n",
       "    </tr>\n",
       "    <tr>\n",
       "      <th>27</th>\n",
       "      <td>2</td>\n",
       "      <td>925</td>\n",
       "      <td>0</td>\n",
       "      <td>4.0</td>\n",
       "      <td>1</td>\n",
       "      <td>2013-07-01</td>\n",
       "      <td>ordered lunch for 15 from Snack last Friday.  ...</td>\n",
       "      <td>3.954839</td>\n",
       "      <td>4.000000</td>\n",
       "      <td>178</td>\n",
       "      <td>2</td>\n",
       "      <td>ordered lunch snack last friday time nothing m...</td>\n",
       "      <td>0.140</td>\n",
       "      <td>0.639</td>\n",
       "      <td>0.221</td>\n",
       "      <td>0.2249</td>\n",
       "    </tr>\n",
       "    <tr>\n",
       "      <th>29</th>\n",
       "      <td>3</td>\n",
       "      <td>926</td>\n",
       "      <td>0</td>\n",
       "      <td>4.0</td>\n",
       "      <td>1</td>\n",
       "      <td>2011-07-28</td>\n",
       "      <td>This is a beautiful quaint little restaurant o...</td>\n",
       "      <td>3.954839</td>\n",
       "      <td>4.000000</td>\n",
       "      <td>491</td>\n",
       "      <td>1</td>\n",
       "      <td>beautiful quaint little restaurant pretty stre...</td>\n",
       "      <td>0.034</td>\n",
       "      <td>0.545</td>\n",
       "      <td>0.421</td>\n",
       "      <td>0.9772</td>\n",
       "    </tr>\n",
       "    <tr>\n",
       "      <th>30</th>\n",
       "      <td>4</td>\n",
       "      <td>927</td>\n",
       "      <td>0</td>\n",
       "      <td>4.0</td>\n",
       "      <td>1</td>\n",
       "      <td>2010-11-01</td>\n",
       "      <td>Snack is great place for a  casual sit down lu...</td>\n",
       "      <td>3.954839</td>\n",
       "      <td>4.333333</td>\n",
       "      <td>596</td>\n",
       "      <td>3</td>\n",
       "      <td>snack great place casual sit lunch especially ...</td>\n",
       "      <td>0.000</td>\n",
       "      <td>0.669</td>\n",
       "      <td>0.331</td>\n",
       "      <td>0.9756</td>\n",
       "    </tr>\n",
       "  </tbody>\n",
       "</table>\n",
       "</div>"
      ],
      "text/plain": [
       "    ex_id  user_id  prod_id  rating  label        date  \\\n",
       "0       0      923        0     3.0      1  2014-12-08   \n",
       "26      1      924        0     3.0      1  2013-05-16   \n",
       "27      2      925        0     4.0      1  2013-07-01   \n",
       "29      3      926        0     4.0      1  2011-07-28   \n",
       "30      4      927        0     4.0      1  2010-11-01   \n",
       "\n",
       "                                               review  Avg_Prod_Rating  \\\n",
       "0   The food at snack is a selection of popular Gr...         3.954839   \n",
       "26  This little place in Soho is wonderful. I had ...         3.954839   \n",
       "27  ordered lunch for 15 from Snack last Friday.  ...         3.954839   \n",
       "29  This is a beautiful quaint little restaurant o...         3.954839   \n",
       "30  Snack is great place for a  casual sit down lu...         3.954839   \n",
       "\n",
       "    Avg_user_rating  Review_Len  user_total_reviews  \\\n",
       "0          4.500000         215                  26   \n",
       "26         3.000000         269                   1   \n",
       "27         4.000000         178                   2   \n",
       "29         4.000000         491                   1   \n",
       "30         4.333333         596                   3   \n",
       "\n",
       "                                               corpus    neg    neu    pos  \\\n",
       "0   food snack selection popular greek dishes appe...  0.061  0.693  0.247   \n",
       "26  little place soho wonderful lamb sandwich glas...  0.159  0.602  0.239   \n",
       "27  ordered lunch snack last friday time nothing m...  0.140  0.639  0.221   \n",
       "29  beautiful quaint little restaurant pretty stre...  0.034  0.545  0.421   \n",
       "30  snack great place casual sit lunch especially ...  0.000  0.669  0.331   \n",
       "\n",
       "    compound  \n",
       "0     0.6486  \n",
       "26    0.5446  \n",
       "27    0.2249  \n",
       "29    0.9772  \n",
       "30    0.9756  "
      ]
     },
     "execution_count": 206,
     "metadata": {},
     "output_type": "execute_result"
    }
   ],
   "source": [
    "train.head()"
   ]
  },
  {
   "cell_type": "markdown",
   "id": "comparative-delicious",
   "metadata": {},
   "source": [
    "Function to help us extract count of regex patterns from review text"
   ]
  },
  {
   "cell_type": "code",
   "execution_count": 207,
   "id": "simplified-director",
   "metadata": {},
   "outputs": [],
   "source": [
    "def count_regex(pattern, row):\n",
    "    return len(re.findall(pattern, row))"
   ]
  },
  {
   "cell_type": "markdown",
   "id": "clear-agency",
   "metadata": {},
   "source": [
    "Extracting count of capital words"
   ]
  },
  {
   "cell_type": "code",
   "execution_count": 208,
   "id": "colored-prefix",
   "metadata": {},
   "outputs": [],
   "source": [
    "count_capital_words = train['review'].apply(lambda x: count_regex(r'\\b[A-Z]{2,}\\b', x))\n",
    "train['number_Cap_Words'] = count_capital_words.to_frame();"
   ]
  },
  {
   "cell_type": "code",
   "execution_count": 209,
   "id": "confirmed-anaheim",
   "metadata": {},
   "outputs": [
    {
     "data": {
      "text/html": [
       "<div>\n",
       "<style scoped>\n",
       "    .dataframe tbody tr th:only-of-type {\n",
       "        vertical-align: middle;\n",
       "    }\n",
       "\n",
       "    .dataframe tbody tr th {\n",
       "        vertical-align: top;\n",
       "    }\n",
       "\n",
       "    .dataframe thead th {\n",
       "        text-align: right;\n",
       "    }\n",
       "</style>\n",
       "<table border=\"1\" class=\"dataframe\">\n",
       "  <thead>\n",
       "    <tr style=\"text-align: right;\">\n",
       "      <th></th>\n",
       "      <th>ex_id</th>\n",
       "      <th>user_id</th>\n",
       "      <th>prod_id</th>\n",
       "      <th>rating</th>\n",
       "      <th>label</th>\n",
       "      <th>date</th>\n",
       "      <th>review</th>\n",
       "      <th>Avg_Prod_Rating</th>\n",
       "      <th>Avg_user_rating</th>\n",
       "      <th>Review_Len</th>\n",
       "      <th>user_total_reviews</th>\n",
       "      <th>corpus</th>\n",
       "      <th>neg</th>\n",
       "      <th>neu</th>\n",
       "      <th>pos</th>\n",
       "      <th>compound</th>\n",
       "      <th>number_Cap_Words</th>\n",
       "    </tr>\n",
       "  </thead>\n",
       "  <tbody>\n",
       "    <tr>\n",
       "      <th>0</th>\n",
       "      <td>0</td>\n",
       "      <td>923</td>\n",
       "      <td>0</td>\n",
       "      <td>3.0</td>\n",
       "      <td>1</td>\n",
       "      <td>2014-12-08</td>\n",
       "      <td>The food at snack is a selection of popular Gr...</td>\n",
       "      <td>3.954839</td>\n",
       "      <td>4.5</td>\n",
       "      <td>215</td>\n",
       "      <td>26</td>\n",
       "      <td>food snack selection popular greek dishes appe...</td>\n",
       "      <td>0.061</td>\n",
       "      <td>0.693</td>\n",
       "      <td>0.247</td>\n",
       "      <td>0.6486</td>\n",
       "      <td>0</td>\n",
       "    </tr>\n",
       "  </tbody>\n",
       "</table>\n",
       "</div>"
      ],
      "text/plain": [
       "   ex_id  user_id  prod_id  rating  label        date  \\\n",
       "0      0      923        0     3.0      1  2014-12-08   \n",
       "\n",
       "                                              review  Avg_Prod_Rating  \\\n",
       "0  The food at snack is a selection of popular Gr...         3.954839   \n",
       "\n",
       "   Avg_user_rating  Review_Len  user_total_reviews  \\\n",
       "0              4.5         215                  26   \n",
       "\n",
       "                                              corpus    neg    neu    pos  \\\n",
       "0  food snack selection popular greek dishes appe...  0.061  0.693  0.247   \n",
       "\n",
       "   compound  number_Cap_Words  \n",
       "0    0.6486                 0  "
      ]
     },
     "execution_count": 209,
     "metadata": {},
     "output_type": "execute_result"
    }
   ],
   "source": [
    "train.head(1)"
   ]
  },
  {
   "cell_type": "markdown",
   "id": "subject-channel",
   "metadata": {},
   "source": [
    "### Extracting count of digits in review"
   ]
  },
  {
   "cell_type": "code",
   "execution_count": 211,
   "id": "conservative-kingdom",
   "metadata": {},
   "outputs": [],
   "source": [
    "count_digit_words = train['review'].apply(lambda x: count_regex(r'\\b[0-9]{2,}\\b', x))\n",
    "train['number_digit_Words'] = count_digit_words.to_frame();"
   ]
  },
  {
   "cell_type": "code",
   "execution_count": 212,
   "id": "accredited-appreciation",
   "metadata": {},
   "outputs": [
    {
     "data": {
      "text/html": [
       "<div>\n",
       "<style scoped>\n",
       "    .dataframe tbody tr th:only-of-type {\n",
       "        vertical-align: middle;\n",
       "    }\n",
       "\n",
       "    .dataframe tbody tr th {\n",
       "        vertical-align: top;\n",
       "    }\n",
       "\n",
       "    .dataframe thead th {\n",
       "        text-align: right;\n",
       "    }\n",
       "</style>\n",
       "<table border=\"1\" class=\"dataframe\">\n",
       "  <thead>\n",
       "    <tr style=\"text-align: right;\">\n",
       "      <th></th>\n",
       "      <th>ex_id</th>\n",
       "      <th>user_id</th>\n",
       "      <th>prod_id</th>\n",
       "      <th>rating</th>\n",
       "      <th>label</th>\n",
       "      <th>date</th>\n",
       "      <th>review</th>\n",
       "      <th>Avg_Prod_Rating</th>\n",
       "      <th>Avg_user_rating</th>\n",
       "      <th>Review_Len</th>\n",
       "      <th>user_total_reviews</th>\n",
       "      <th>corpus</th>\n",
       "      <th>neg</th>\n",
       "      <th>neu</th>\n",
       "      <th>pos</th>\n",
       "      <th>compound</th>\n",
       "      <th>number_Cap_Words</th>\n",
       "      <th>number_digit_Words</th>\n",
       "    </tr>\n",
       "  </thead>\n",
       "  <tbody>\n",
       "    <tr>\n",
       "      <th>0</th>\n",
       "      <td>0</td>\n",
       "      <td>923</td>\n",
       "      <td>0</td>\n",
       "      <td>3.0</td>\n",
       "      <td>1</td>\n",
       "      <td>2014-12-08</td>\n",
       "      <td>The food at snack is a selection of popular Gr...</td>\n",
       "      <td>3.954839</td>\n",
       "      <td>4.500000</td>\n",
       "      <td>215</td>\n",
       "      <td>26</td>\n",
       "      <td>food snack selection popular greek dishes appe...</td>\n",
       "      <td>0.061</td>\n",
       "      <td>0.693</td>\n",
       "      <td>0.247</td>\n",
       "      <td>0.6486</td>\n",
       "      <td>0</td>\n",
       "      <td>0</td>\n",
       "    </tr>\n",
       "    <tr>\n",
       "      <th>26</th>\n",
       "      <td>1</td>\n",
       "      <td>924</td>\n",
       "      <td>0</td>\n",
       "      <td>3.0</td>\n",
       "      <td>1</td>\n",
       "      <td>2013-05-16</td>\n",
       "      <td>This little place in Soho is wonderful. I had ...</td>\n",
       "      <td>3.954839</td>\n",
       "      <td>3.000000</td>\n",
       "      <td>269</td>\n",
       "      <td>1</td>\n",
       "      <td>little place soho wonderful lamb sandwich glas...</td>\n",
       "      <td>0.159</td>\n",
       "      <td>0.602</td>\n",
       "      <td>0.239</td>\n",
       "      <td>0.5446</td>\n",
       "      <td>0</td>\n",
       "      <td>0</td>\n",
       "    </tr>\n",
       "    <tr>\n",
       "      <th>27</th>\n",
       "      <td>2</td>\n",
       "      <td>925</td>\n",
       "      <td>0</td>\n",
       "      <td>4.0</td>\n",
       "      <td>1</td>\n",
       "      <td>2013-07-01</td>\n",
       "      <td>ordered lunch for 15 from Snack last Friday.  ...</td>\n",
       "      <td>3.954839</td>\n",
       "      <td>4.000000</td>\n",
       "      <td>178</td>\n",
       "      <td>2</td>\n",
       "      <td>ordered lunch snack last friday time nothing m...</td>\n",
       "      <td>0.140</td>\n",
       "      <td>0.639</td>\n",
       "      <td>0.221</td>\n",
       "      <td>0.2249</td>\n",
       "      <td>0</td>\n",
       "      <td>1</td>\n",
       "    </tr>\n",
       "    <tr>\n",
       "      <th>29</th>\n",
       "      <td>3</td>\n",
       "      <td>926</td>\n",
       "      <td>0</td>\n",
       "      <td>4.0</td>\n",
       "      <td>1</td>\n",
       "      <td>2011-07-28</td>\n",
       "      <td>This is a beautiful quaint little restaurant o...</td>\n",
       "      <td>3.954839</td>\n",
       "      <td>4.000000</td>\n",
       "      <td>491</td>\n",
       "      <td>1</td>\n",
       "      <td>beautiful quaint little restaurant pretty stre...</td>\n",
       "      <td>0.034</td>\n",
       "      <td>0.545</td>\n",
       "      <td>0.421</td>\n",
       "      <td>0.9772</td>\n",
       "      <td>0</td>\n",
       "      <td>0</td>\n",
       "    </tr>\n",
       "    <tr>\n",
       "      <th>30</th>\n",
       "      <td>4</td>\n",
       "      <td>927</td>\n",
       "      <td>0</td>\n",
       "      <td>4.0</td>\n",
       "      <td>1</td>\n",
       "      <td>2010-11-01</td>\n",
       "      <td>Snack is great place for a  casual sit down lu...</td>\n",
       "      <td>3.954839</td>\n",
       "      <td>4.333333</td>\n",
       "      <td>596</td>\n",
       "      <td>3</td>\n",
       "      <td>snack great place casual sit lunch especially ...</td>\n",
       "      <td>0.000</td>\n",
       "      <td>0.669</td>\n",
       "      <td>0.331</td>\n",
       "      <td>0.9756</td>\n",
       "      <td>0</td>\n",
       "      <td>0</td>\n",
       "    </tr>\n",
       "  </tbody>\n",
       "</table>\n",
       "</div>"
      ],
      "text/plain": [
       "    ex_id  user_id  prod_id  rating  label        date  \\\n",
       "0       0      923        0     3.0      1  2014-12-08   \n",
       "26      1      924        0     3.0      1  2013-05-16   \n",
       "27      2      925        0     4.0      1  2013-07-01   \n",
       "29      3      926        0     4.0      1  2011-07-28   \n",
       "30      4      927        0     4.0      1  2010-11-01   \n",
       "\n",
       "                                               review  Avg_Prod_Rating  \\\n",
       "0   The food at snack is a selection of popular Gr...         3.954839   \n",
       "26  This little place in Soho is wonderful. I had ...         3.954839   \n",
       "27  ordered lunch for 15 from Snack last Friday.  ...         3.954839   \n",
       "29  This is a beautiful quaint little restaurant o...         3.954839   \n",
       "30  Snack is great place for a  casual sit down lu...         3.954839   \n",
       "\n",
       "    Avg_user_rating  Review_Len  user_total_reviews  \\\n",
       "0          4.500000         215                  26   \n",
       "26         3.000000         269                   1   \n",
       "27         4.000000         178                   2   \n",
       "29         4.000000         491                   1   \n",
       "30         4.333333         596                   3   \n",
       "\n",
       "                                               corpus    neg    neu    pos  \\\n",
       "0   food snack selection popular greek dishes appe...  0.061  0.693  0.247   \n",
       "26  little place soho wonderful lamb sandwich glas...  0.159  0.602  0.239   \n",
       "27  ordered lunch snack last friday time nothing m...  0.140  0.639  0.221   \n",
       "29  beautiful quaint little restaurant pretty stre...  0.034  0.545  0.421   \n",
       "30  snack great place casual sit lunch especially ...  0.000  0.669  0.331   \n",
       "\n",
       "    compound  number_Cap_Words  number_digit_Words  \n",
       "0     0.6486                 0                   0  \n",
       "26    0.5446                 0                   0  \n",
       "27    0.2249                 0                   1  \n",
       "29    0.9772                 0                   0  \n",
       "30    0.9756                 0                   0  "
      ]
     },
     "execution_count": 212,
     "metadata": {},
     "output_type": "execute_result"
    }
   ],
   "source": [
    "train.head()"
   ]
  },
  {
   "cell_type": "markdown",
   "id": "numerical-today",
   "metadata": {},
   "source": [
    "#### Function to count noun phrases in review text"
   ]
  },
  {
   "cell_type": "code",
   "execution_count": 214,
   "id": "supposed-russian",
   "metadata": {},
   "outputs": [],
   "source": [
    "#! pip install -U git+https://github.com/sloria/TextBlob.git@dev\n",
    "from textblob import TextBlob"
   ]
  },
  {
   "cell_type": "code",
   "execution_count": 215,
   "id": "unknown-array",
   "metadata": {},
   "outputs": [],
   "source": [
    "def identify_noun_count(sentence):\n",
    "    blob = TextBlob(sentence)\n",
    "    return len(blob.noun_phrases)"
   ]
  },
  {
   "cell_type": "code",
   "execution_count": 216,
   "id": "asian-hamburg",
   "metadata": {},
   "outputs": [],
   "source": [
    "#Extracting noun count from our review text\n",
    "train['noun_count'] = train['review'].apply(identify_noun_count)"
   ]
  },
  {
   "cell_type": "code",
   "execution_count": 217,
   "id": "unique-obligation",
   "metadata": {},
   "outputs": [
    {
     "data": {
      "text/html": [
       "<div>\n",
       "<style scoped>\n",
       "    .dataframe tbody tr th:only-of-type {\n",
       "        vertical-align: middle;\n",
       "    }\n",
       "\n",
       "    .dataframe tbody tr th {\n",
       "        vertical-align: top;\n",
       "    }\n",
       "\n",
       "    .dataframe thead th {\n",
       "        text-align: right;\n",
       "    }\n",
       "</style>\n",
       "<table border=\"1\" class=\"dataframe\">\n",
       "  <thead>\n",
       "    <tr style=\"text-align: right;\">\n",
       "      <th></th>\n",
       "      <th>ex_id</th>\n",
       "      <th>user_id</th>\n",
       "      <th>prod_id</th>\n",
       "      <th>rating</th>\n",
       "      <th>label</th>\n",
       "      <th>date</th>\n",
       "      <th>review</th>\n",
       "      <th>Avg_Prod_Rating</th>\n",
       "      <th>Avg_user_rating</th>\n",
       "      <th>Review_Len</th>\n",
       "      <th>user_total_reviews</th>\n",
       "      <th>corpus</th>\n",
       "      <th>neg</th>\n",
       "      <th>neu</th>\n",
       "      <th>pos</th>\n",
       "      <th>compound</th>\n",
       "      <th>number_Cap_Words</th>\n",
       "      <th>number_digit_Words</th>\n",
       "      <th>noun_count</th>\n",
       "    </tr>\n",
       "  </thead>\n",
       "  <tbody>\n",
       "    <tr>\n",
       "      <th>0</th>\n",
       "      <td>0</td>\n",
       "      <td>923</td>\n",
       "      <td>0</td>\n",
       "      <td>3.0</td>\n",
       "      <td>1</td>\n",
       "      <td>2014-12-08</td>\n",
       "      <td>The food at snack is a selection of popular Gr...</td>\n",
       "      <td>3.954839</td>\n",
       "      <td>4.500000</td>\n",
       "      <td>215</td>\n",
       "      <td>26</td>\n",
       "      <td>food snack selection popular greek dishes appe...</td>\n",
       "      <td>0.061</td>\n",
       "      <td>0.693</td>\n",
       "      <td>0.247</td>\n",
       "      <td>0.6486</td>\n",
       "      <td>0</td>\n",
       "      <td>0</td>\n",
       "      <td>3</td>\n",
       "    </tr>\n",
       "    <tr>\n",
       "      <th>26</th>\n",
       "      <td>1</td>\n",
       "      <td>924</td>\n",
       "      <td>0</td>\n",
       "      <td>3.0</td>\n",
       "      <td>1</td>\n",
       "      <td>2013-05-16</td>\n",
       "      <td>This little place in Soho is wonderful. I had ...</td>\n",
       "      <td>3.954839</td>\n",
       "      <td>3.000000</td>\n",
       "      <td>269</td>\n",
       "      <td>1</td>\n",
       "      <td>little place soho wonderful lamb sandwich glas...</td>\n",
       "      <td>0.159</td>\n",
       "      <td>0.602</td>\n",
       "      <td>0.239</td>\n",
       "      <td>0.5446</td>\n",
       "      <td>0</td>\n",
       "      <td>0</td>\n",
       "      <td>5</td>\n",
       "    </tr>\n",
       "    <tr>\n",
       "      <th>27</th>\n",
       "      <td>2</td>\n",
       "      <td>925</td>\n",
       "      <td>0</td>\n",
       "      <td>4.0</td>\n",
       "      <td>1</td>\n",
       "      <td>2013-07-01</td>\n",
       "      <td>ordered lunch for 15 from Snack last Friday.  ...</td>\n",
       "      <td>3.954839</td>\n",
       "      <td>4.000000</td>\n",
       "      <td>178</td>\n",
       "      <td>2</td>\n",
       "      <td>ordered lunch snack last friday time nothing m...</td>\n",
       "      <td>0.140</td>\n",
       "      <td>0.639</td>\n",
       "      <td>0.221</td>\n",
       "      <td>0.2249</td>\n",
       "      <td>0</td>\n",
       "      <td>1</td>\n",
       "      <td>2</td>\n",
       "    </tr>\n",
       "    <tr>\n",
       "      <th>29</th>\n",
       "      <td>3</td>\n",
       "      <td>926</td>\n",
       "      <td>0</td>\n",
       "      <td>4.0</td>\n",
       "      <td>1</td>\n",
       "      <td>2011-07-28</td>\n",
       "      <td>This is a beautiful quaint little restaurant o...</td>\n",
       "      <td>3.954839</td>\n",
       "      <td>4.000000</td>\n",
       "      <td>491</td>\n",
       "      <td>1</td>\n",
       "      <td>beautiful quaint little restaurant pretty stre...</td>\n",
       "      <td>0.034</td>\n",
       "      <td>0.545</td>\n",
       "      <td>0.421</td>\n",
       "      <td>0.9772</td>\n",
       "      <td>0</td>\n",
       "      <td>0</td>\n",
       "      <td>6</td>\n",
       "    </tr>\n",
       "    <tr>\n",
       "      <th>30</th>\n",
       "      <td>4</td>\n",
       "      <td>927</td>\n",
       "      <td>0</td>\n",
       "      <td>4.0</td>\n",
       "      <td>1</td>\n",
       "      <td>2010-11-01</td>\n",
       "      <td>Snack is great place for a  casual sit down lu...</td>\n",
       "      <td>3.954839</td>\n",
       "      <td>4.333333</td>\n",
       "      <td>596</td>\n",
       "      <td>3</td>\n",
       "      <td>snack great place casual sit lunch especially ...</td>\n",
       "      <td>0.000</td>\n",
       "      <td>0.669</td>\n",
       "      <td>0.331</td>\n",
       "      <td>0.9756</td>\n",
       "      <td>0</td>\n",
       "      <td>0</td>\n",
       "      <td>14</td>\n",
       "    </tr>\n",
       "    <tr>\n",
       "      <th>...</th>\n",
       "      <td>...</td>\n",
       "      <td>...</td>\n",
       "      <td>...</td>\n",
       "      <td>...</td>\n",
       "      <td>...</td>\n",
       "      <td>...</td>\n",
       "      <td>...</td>\n",
       "      <td>...</td>\n",
       "      <td>...</td>\n",
       "      <td>...</td>\n",
       "      <td>...</td>\n",
       "      <td>...</td>\n",
       "      <td>...</td>\n",
       "      <td>...</td>\n",
       "      <td>...</td>\n",
       "      <td>...</td>\n",
       "      <td>...</td>\n",
       "      <td>...</td>\n",
       "      <td>...</td>\n",
       "    </tr>\n",
       "    <tr>\n",
       "      <th>55168</th>\n",
       "      <td>358950</td>\n",
       "      <td>14671</td>\n",
       "      <td>349</td>\n",
       "      <td>5.0</td>\n",
       "      <td>0</td>\n",
       "      <td>2014-02-08</td>\n",
       "      <td>Made a reservation for an early dinner Saturda...</td>\n",
       "      <td>4.185185</td>\n",
       "      <td>4.333333</td>\n",
       "      <td>1418</td>\n",
       "      <td>3</td>\n",
       "      <td>made reservation early dinner saturday night l...</td>\n",
       "      <td>0.000</td>\n",
       "      <td>0.525</td>\n",
       "      <td>0.475</td>\n",
       "      <td>0.9980</td>\n",
       "      <td>0</td>\n",
       "      <td>0</td>\n",
       "      <td>32</td>\n",
       "    </tr>\n",
       "    <tr>\n",
       "      <th>11834</th>\n",
       "      <td>358951</td>\n",
       "      <td>3356</td>\n",
       "      <td>349</td>\n",
       "      <td>5.0</td>\n",
       "      <td>0</td>\n",
       "      <td>2014-02-07</td>\n",
       "      <td>Emily is like Franny's Marco, but with warmth ...</td>\n",
       "      <td>4.185185</td>\n",
       "      <td>4.100000</td>\n",
       "      <td>763</td>\n",
       "      <td>60</td>\n",
       "      <td>emily like frannys marco warmth value emily ch...</td>\n",
       "      <td>0.000</td>\n",
       "      <td>0.611</td>\n",
       "      <td>0.389</td>\n",
       "      <td>0.9901</td>\n",
       "      <td>0</td>\n",
       "      <td>1</td>\n",
       "      <td>18</td>\n",
       "    </tr>\n",
       "    <tr>\n",
       "      <th>250872</th>\n",
       "      <td>358953</td>\n",
       "      <td>116424</td>\n",
       "      <td>349</td>\n",
       "      <td>5.0</td>\n",
       "      <td>0</td>\n",
       "      <td>2014-01-31</td>\n",
       "      <td>Can't say enough good things about this place....</td>\n",
       "      <td>4.185185</td>\n",
       "      <td>5.000000</td>\n",
       "      <td>475</td>\n",
       "      <td>1</td>\n",
       "      <td>cant say enough good things place stopped last...</td>\n",
       "      <td>0.061</td>\n",
       "      <td>0.484</td>\n",
       "      <td>0.455</td>\n",
       "      <td>0.9829</td>\n",
       "      <td>0</td>\n",
       "      <td>0</td>\n",
       "      <td>9</td>\n",
       "    </tr>\n",
       "    <tr>\n",
       "      <th>250873</th>\n",
       "      <td>358954</td>\n",
       "      <td>161147</td>\n",
       "      <td>349</td>\n",
       "      <td>5.0</td>\n",
       "      <td>0</td>\n",
       "      <td>2014-01-30</td>\n",
       "      <td>Had a great dinner here- fantastic pizza, the ...</td>\n",
       "      <td>4.185185</td>\n",
       "      <td>5.000000</td>\n",
       "      <td>268</td>\n",
       "      <td>1</td>\n",
       "      <td>great dinner fantastic pizza smore pizza desse...</td>\n",
       "      <td>0.000</td>\n",
       "      <td>0.467</td>\n",
       "      <td>0.533</td>\n",
       "      <td>0.9750</td>\n",
       "      <td>0</td>\n",
       "      <td>0</td>\n",
       "      <td>4</td>\n",
       "    </tr>\n",
       "    <tr>\n",
       "      <th>20199</th>\n",
       "      <td>358956</td>\n",
       "      <td>5260</td>\n",
       "      <td>349</td>\n",
       "      <td>5.0</td>\n",
       "      <td>0</td>\n",
       "      <td>2014-01-25</td>\n",
       "      <td>Pizza Loves Emily and I love Emily's pizza. Th...</td>\n",
       "      <td>4.185185</td>\n",
       "      <td>4.423729</td>\n",
       "      <td>3856</td>\n",
       "      <td>59</td>\n",
       "      <td>pizza loves emily love emilys pizza emily grea...</td>\n",
       "      <td>0.018</td>\n",
       "      <td>0.597</td>\n",
       "      <td>0.384</td>\n",
       "      <td>0.9995</td>\n",
       "      <td>0</td>\n",
       "      <td>4</td>\n",
       "      <td>56</td>\n",
       "    </tr>\n",
       "  </tbody>\n",
       "</table>\n",
       "<p>250874 rows × 19 columns</p>\n",
       "</div>"
      ],
      "text/plain": [
       "         ex_id  user_id  prod_id  rating  label        date  \\\n",
       "0            0      923        0     3.0      1  2014-12-08   \n",
       "26           1      924        0     3.0      1  2013-05-16   \n",
       "27           2      925        0     4.0      1  2013-07-01   \n",
       "29           3      926        0     4.0      1  2011-07-28   \n",
       "30           4      927        0     4.0      1  2010-11-01   \n",
       "...        ...      ...      ...     ...    ...         ...   \n",
       "55168   358950    14671      349     5.0      0  2014-02-08   \n",
       "11834   358951     3356      349     5.0      0  2014-02-07   \n",
       "250872  358953   116424      349     5.0      0  2014-01-31   \n",
       "250873  358954   161147      349     5.0      0  2014-01-30   \n",
       "20199   358956     5260      349     5.0      0  2014-01-25   \n",
       "\n",
       "                                                   review  Avg_Prod_Rating  \\\n",
       "0       The food at snack is a selection of popular Gr...         3.954839   \n",
       "26      This little place in Soho is wonderful. I had ...         3.954839   \n",
       "27      ordered lunch for 15 from Snack last Friday.  ...         3.954839   \n",
       "29      This is a beautiful quaint little restaurant o...         3.954839   \n",
       "30      Snack is great place for a  casual sit down lu...         3.954839   \n",
       "...                                                   ...              ...   \n",
       "55168   Made a reservation for an early dinner Saturda...         4.185185   \n",
       "11834   Emily is like Franny's Marco, but with warmth ...         4.185185   \n",
       "250872  Can't say enough good things about this place....         4.185185   \n",
       "250873  Had a great dinner here- fantastic pizza, the ...         4.185185   \n",
       "20199   Pizza Loves Emily and I love Emily's pizza. Th...         4.185185   \n",
       "\n",
       "        Avg_user_rating  Review_Len  user_total_reviews  \\\n",
       "0              4.500000         215                  26   \n",
       "26             3.000000         269                   1   \n",
       "27             4.000000         178                   2   \n",
       "29             4.000000         491                   1   \n",
       "30             4.333333         596                   3   \n",
       "...                 ...         ...                 ...   \n",
       "55168          4.333333        1418                   3   \n",
       "11834          4.100000         763                  60   \n",
       "250872         5.000000         475                   1   \n",
       "250873         5.000000         268                   1   \n",
       "20199          4.423729        3856                  59   \n",
       "\n",
       "                                                   corpus    neg    neu  \\\n",
       "0       food snack selection popular greek dishes appe...  0.061  0.693   \n",
       "26      little place soho wonderful lamb sandwich glas...  0.159  0.602   \n",
       "27      ordered lunch snack last friday time nothing m...  0.140  0.639   \n",
       "29      beautiful quaint little restaurant pretty stre...  0.034  0.545   \n",
       "30      snack great place casual sit lunch especially ...  0.000  0.669   \n",
       "...                                                   ...    ...    ...   \n",
       "55168   made reservation early dinner saturday night l...  0.000  0.525   \n",
       "11834   emily like frannys marco warmth value emily ch...  0.000  0.611   \n",
       "250872  cant say enough good things place stopped last...  0.061  0.484   \n",
       "250873  great dinner fantastic pizza smore pizza desse...  0.000  0.467   \n",
       "20199   pizza loves emily love emilys pizza emily grea...  0.018  0.597   \n",
       "\n",
       "          pos  compound  number_Cap_Words  number_digit_Words  noun_count  \n",
       "0       0.247    0.6486                 0                   0           3  \n",
       "26      0.239    0.5446                 0                   0           5  \n",
       "27      0.221    0.2249                 0                   1           2  \n",
       "29      0.421    0.9772                 0                   0           6  \n",
       "30      0.331    0.9756                 0                   0          14  \n",
       "...       ...       ...               ...                 ...         ...  \n",
       "55168   0.475    0.9980                 0                   0          32  \n",
       "11834   0.389    0.9901                 0                   1          18  \n",
       "250872  0.455    0.9829                 0                   0           9  \n",
       "250873  0.533    0.9750                 0                   0           4  \n",
       "20199   0.384    0.9995                 0                   4          56  \n",
       "\n",
       "[250874 rows x 19 columns]"
      ]
     },
     "execution_count": 217,
     "metadata": {},
     "output_type": "execute_result"
    }
   ],
   "source": [
    "train"
   ]
  },
  {
   "cell_type": "code",
   "execution_count": null,
   "id": "korean-graduate",
   "metadata": {},
   "outputs": [],
   "source": [
    "path= r\"C:\\Users\\13152\\Desktop\\KAJJU\\GBA 6410\\Project\\Final\" #Change the path\n",
    "import os\n",
    "train.to_csv(os.path.join(path,r'Final_Processed_data.csv'))"
   ]
  },
  {
   "cell_type": "code",
   "execution_count": null,
   "id": "latest-nation",
   "metadata": {},
   "outputs": [],
   "source": []
  },
  {
   "cell_type": "markdown",
   "id": "previous-modeling",
   "metadata": {},
   "source": [
    "### Reading Final Dataset After Pre-Processing"
   ]
  },
  {
   "cell_type": "code",
   "execution_count": 23,
   "id": "constant-heater",
   "metadata": {},
   "outputs": [],
   "source": [
    "import os\n",
    "import numpy as np # linear algebra\n",
    "import pandas as pd"
   ]
  },
  {
   "cell_type": "code",
   "execution_count": 24,
   "id": "coral-waterproof",
   "metadata": {},
   "outputs": [],
   "source": [
    "data = pd.read_csv(r\"....\\Project\\Final\\Final_Processed_data.csv\")"
   ]
  },
  {
   "cell_type": "code",
   "execution_count": 25,
   "id": "downtown-shore",
   "metadata": {},
   "outputs": [
    {
     "data": {
      "text/html": [
       "<div>\n",
       "<style scoped>\n",
       "    .dataframe tbody tr th:only-of-type {\n",
       "        vertical-align: middle;\n",
       "    }\n",
       "\n",
       "    .dataframe tbody tr th {\n",
       "        vertical-align: top;\n",
       "    }\n",
       "\n",
       "    .dataframe thead th {\n",
       "        text-align: right;\n",
       "    }\n",
       "</style>\n",
       "<table border=\"1\" class=\"dataframe\">\n",
       "  <thead>\n",
       "    <tr style=\"text-align: right;\">\n",
       "      <th></th>\n",
       "      <th>ex_id</th>\n",
       "      <th>user_id</th>\n",
       "      <th>prod_id</th>\n",
       "      <th>rating</th>\n",
       "      <th>label</th>\n",
       "      <th>date</th>\n",
       "      <th>review</th>\n",
       "      <th>Avg_Prod_Rating</th>\n",
       "      <th>Avg_user_rating</th>\n",
       "      <th>Review_Len</th>\n",
       "      <th>user_total_reviews</th>\n",
       "      <th>corpus</th>\n",
       "      <th>neg</th>\n",
       "      <th>neu</th>\n",
       "      <th>pos</th>\n",
       "      <th>compound</th>\n",
       "      <th>number_Cap_Words</th>\n",
       "      <th>number_digit_Words</th>\n",
       "      <th>noun_count</th>\n",
       "    </tr>\n",
       "  </thead>\n",
       "  <tbody>\n",
       "    <tr>\n",
       "      <th>0</th>\n",
       "      <td>0</td>\n",
       "      <td>923</td>\n",
       "      <td>0</td>\n",
       "      <td>3.0</td>\n",
       "      <td>1</td>\n",
       "      <td>2014-12-08</td>\n",
       "      <td>The food at snack is a selection of popular Gr...</td>\n",
       "      <td>3.954839</td>\n",
       "      <td>4.500000</td>\n",
       "      <td>215</td>\n",
       "      <td>26</td>\n",
       "      <td>food snack selection popular greek dishes appe...</td>\n",
       "      <td>0.061</td>\n",
       "      <td>0.693</td>\n",
       "      <td>0.247</td>\n",
       "      <td>0.6486</td>\n",
       "      <td>0</td>\n",
       "      <td>0</td>\n",
       "      <td>3</td>\n",
       "    </tr>\n",
       "    <tr>\n",
       "      <th>1</th>\n",
       "      <td>1</td>\n",
       "      <td>924</td>\n",
       "      <td>0</td>\n",
       "      <td>3.0</td>\n",
       "      <td>1</td>\n",
       "      <td>2013-05-16</td>\n",
       "      <td>This little place in Soho is wonderful. I had ...</td>\n",
       "      <td>3.954839</td>\n",
       "      <td>3.000000</td>\n",
       "      <td>269</td>\n",
       "      <td>1</td>\n",
       "      <td>little place soho wonderful lamb sandwich glas...</td>\n",
       "      <td>0.159</td>\n",
       "      <td>0.602</td>\n",
       "      <td>0.239</td>\n",
       "      <td>0.5446</td>\n",
       "      <td>0</td>\n",
       "      <td>0</td>\n",
       "      <td>5</td>\n",
       "    </tr>\n",
       "    <tr>\n",
       "      <th>2</th>\n",
       "      <td>2</td>\n",
       "      <td>925</td>\n",
       "      <td>0</td>\n",
       "      <td>4.0</td>\n",
       "      <td>1</td>\n",
       "      <td>2013-07-01</td>\n",
       "      <td>ordered lunch for 15 from Snack last Friday.  ...</td>\n",
       "      <td>3.954839</td>\n",
       "      <td>4.000000</td>\n",
       "      <td>178</td>\n",
       "      <td>2</td>\n",
       "      <td>ordered lunch snack last friday time nothing m...</td>\n",
       "      <td>0.140</td>\n",
       "      <td>0.639</td>\n",
       "      <td>0.221</td>\n",
       "      <td>0.2249</td>\n",
       "      <td>0</td>\n",
       "      <td>1</td>\n",
       "      <td>2</td>\n",
       "    </tr>\n",
       "    <tr>\n",
       "      <th>3</th>\n",
       "      <td>3</td>\n",
       "      <td>926</td>\n",
       "      <td>0</td>\n",
       "      <td>4.0</td>\n",
       "      <td>1</td>\n",
       "      <td>2011-07-28</td>\n",
       "      <td>This is a beautiful quaint little restaurant o...</td>\n",
       "      <td>3.954839</td>\n",
       "      <td>4.000000</td>\n",
       "      <td>491</td>\n",
       "      <td>1</td>\n",
       "      <td>beautiful quaint little restaurant pretty stre...</td>\n",
       "      <td>0.034</td>\n",
       "      <td>0.545</td>\n",
       "      <td>0.421</td>\n",
       "      <td>0.9772</td>\n",
       "      <td>0</td>\n",
       "      <td>0</td>\n",
       "      <td>6</td>\n",
       "    </tr>\n",
       "    <tr>\n",
       "      <th>4</th>\n",
       "      <td>4</td>\n",
       "      <td>927</td>\n",
       "      <td>0</td>\n",
       "      <td>4.0</td>\n",
       "      <td>1</td>\n",
       "      <td>2010-11-01</td>\n",
       "      <td>Snack is great place for a  casual sit down lu...</td>\n",
       "      <td>3.954839</td>\n",
       "      <td>4.333333</td>\n",
       "      <td>596</td>\n",
       "      <td>3</td>\n",
       "      <td>snack great place casual sit lunch especially ...</td>\n",
       "      <td>0.000</td>\n",
       "      <td>0.669</td>\n",
       "      <td>0.331</td>\n",
       "      <td>0.9756</td>\n",
       "      <td>0</td>\n",
       "      <td>0</td>\n",
       "      <td>14</td>\n",
       "    </tr>\n",
       "    <tr>\n",
       "      <th>...</th>\n",
       "      <td>...</td>\n",
       "      <td>...</td>\n",
       "      <td>...</td>\n",
       "      <td>...</td>\n",
       "      <td>...</td>\n",
       "      <td>...</td>\n",
       "      <td>...</td>\n",
       "      <td>...</td>\n",
       "      <td>...</td>\n",
       "      <td>...</td>\n",
       "      <td>...</td>\n",
       "      <td>...</td>\n",
       "      <td>...</td>\n",
       "      <td>...</td>\n",
       "      <td>...</td>\n",
       "      <td>...</td>\n",
       "      <td>...</td>\n",
       "      <td>...</td>\n",
       "      <td>...</td>\n",
       "    </tr>\n",
       "    <tr>\n",
       "      <th>250869</th>\n",
       "      <td>358950</td>\n",
       "      <td>14671</td>\n",
       "      <td>349</td>\n",
       "      <td>5.0</td>\n",
       "      <td>0</td>\n",
       "      <td>2014-02-08</td>\n",
       "      <td>Made a reservation for an early dinner Saturda...</td>\n",
       "      <td>4.185185</td>\n",
       "      <td>4.333333</td>\n",
       "      <td>1418</td>\n",
       "      <td>3</td>\n",
       "      <td>made reservation early dinner saturday night l...</td>\n",
       "      <td>0.000</td>\n",
       "      <td>0.525</td>\n",
       "      <td>0.475</td>\n",
       "      <td>0.9980</td>\n",
       "      <td>0</td>\n",
       "      <td>0</td>\n",
       "      <td>32</td>\n",
       "    </tr>\n",
       "    <tr>\n",
       "      <th>250870</th>\n",
       "      <td>358951</td>\n",
       "      <td>3356</td>\n",
       "      <td>349</td>\n",
       "      <td>5.0</td>\n",
       "      <td>0</td>\n",
       "      <td>2014-02-07</td>\n",
       "      <td>Emily is like Franny's Marco, but with warmth ...</td>\n",
       "      <td>4.185185</td>\n",
       "      <td>4.100000</td>\n",
       "      <td>763</td>\n",
       "      <td>60</td>\n",
       "      <td>emily like frannys marco warmth value emily ch...</td>\n",
       "      <td>0.000</td>\n",
       "      <td>0.611</td>\n",
       "      <td>0.389</td>\n",
       "      <td>0.9901</td>\n",
       "      <td>0</td>\n",
       "      <td>1</td>\n",
       "      <td>18</td>\n",
       "    </tr>\n",
       "    <tr>\n",
       "      <th>250871</th>\n",
       "      <td>358953</td>\n",
       "      <td>116424</td>\n",
       "      <td>349</td>\n",
       "      <td>5.0</td>\n",
       "      <td>0</td>\n",
       "      <td>2014-01-31</td>\n",
       "      <td>Can't say enough good things about this place....</td>\n",
       "      <td>4.185185</td>\n",
       "      <td>5.000000</td>\n",
       "      <td>475</td>\n",
       "      <td>1</td>\n",
       "      <td>cant say enough good things place stopped last...</td>\n",
       "      <td>0.061</td>\n",
       "      <td>0.484</td>\n",
       "      <td>0.455</td>\n",
       "      <td>0.9829</td>\n",
       "      <td>0</td>\n",
       "      <td>0</td>\n",
       "      <td>9</td>\n",
       "    </tr>\n",
       "    <tr>\n",
       "      <th>250872</th>\n",
       "      <td>358954</td>\n",
       "      <td>161147</td>\n",
       "      <td>349</td>\n",
       "      <td>5.0</td>\n",
       "      <td>0</td>\n",
       "      <td>2014-01-30</td>\n",
       "      <td>Had a great dinner here- fantastic pizza, the ...</td>\n",
       "      <td>4.185185</td>\n",
       "      <td>5.000000</td>\n",
       "      <td>268</td>\n",
       "      <td>1</td>\n",
       "      <td>great dinner fantastic pizza smore pizza desse...</td>\n",
       "      <td>0.000</td>\n",
       "      <td>0.467</td>\n",
       "      <td>0.533</td>\n",
       "      <td>0.9750</td>\n",
       "      <td>0</td>\n",
       "      <td>0</td>\n",
       "      <td>4</td>\n",
       "    </tr>\n",
       "    <tr>\n",
       "      <th>250873</th>\n",
       "      <td>358956</td>\n",
       "      <td>5260</td>\n",
       "      <td>349</td>\n",
       "      <td>5.0</td>\n",
       "      <td>0</td>\n",
       "      <td>2014-01-25</td>\n",
       "      <td>Pizza Loves Emily and I love Emily's pizza. Th...</td>\n",
       "      <td>4.185185</td>\n",
       "      <td>4.423729</td>\n",
       "      <td>3856</td>\n",
       "      <td>59</td>\n",
       "      <td>pizza loves emily love emilys pizza emily grea...</td>\n",
       "      <td>0.018</td>\n",
       "      <td>0.597</td>\n",
       "      <td>0.384</td>\n",
       "      <td>0.9995</td>\n",
       "      <td>0</td>\n",
       "      <td>4</td>\n",
       "      <td>56</td>\n",
       "    </tr>\n",
       "  </tbody>\n",
       "</table>\n",
       "<p>250874 rows × 19 columns</p>\n",
       "</div>"
      ],
      "text/plain": [
       "         ex_id  user_id  prod_id  rating  label        date  \\\n",
       "0            0      923        0     3.0      1  2014-12-08   \n",
       "1            1      924        0     3.0      1  2013-05-16   \n",
       "2            2      925        0     4.0      1  2013-07-01   \n",
       "3            3      926        0     4.0      1  2011-07-28   \n",
       "4            4      927        0     4.0      1  2010-11-01   \n",
       "...        ...      ...      ...     ...    ...         ...   \n",
       "250869  358950    14671      349     5.0      0  2014-02-08   \n",
       "250870  358951     3356      349     5.0      0  2014-02-07   \n",
       "250871  358953   116424      349     5.0      0  2014-01-31   \n",
       "250872  358954   161147      349     5.0      0  2014-01-30   \n",
       "250873  358956     5260      349     5.0      0  2014-01-25   \n",
       "\n",
       "                                                   review  Avg_Prod_Rating  \\\n",
       "0       The food at snack is a selection of popular Gr...         3.954839   \n",
       "1       This little place in Soho is wonderful. I had ...         3.954839   \n",
       "2       ordered lunch for 15 from Snack last Friday.  ...         3.954839   \n",
       "3       This is a beautiful quaint little restaurant o...         3.954839   \n",
       "4       Snack is great place for a  casual sit down lu...         3.954839   \n",
       "...                                                   ...              ...   \n",
       "250869  Made a reservation for an early dinner Saturda...         4.185185   \n",
       "250870  Emily is like Franny's Marco, but with warmth ...         4.185185   \n",
       "250871  Can't say enough good things about this place....         4.185185   \n",
       "250872  Had a great dinner here- fantastic pizza, the ...         4.185185   \n",
       "250873  Pizza Loves Emily and I love Emily's pizza. Th...         4.185185   \n",
       "\n",
       "        Avg_user_rating  Review_Len  user_total_reviews  \\\n",
       "0              4.500000         215                  26   \n",
       "1              3.000000         269                   1   \n",
       "2              4.000000         178                   2   \n",
       "3              4.000000         491                   1   \n",
       "4              4.333333         596                   3   \n",
       "...                 ...         ...                 ...   \n",
       "250869         4.333333        1418                   3   \n",
       "250870         4.100000         763                  60   \n",
       "250871         5.000000         475                   1   \n",
       "250872         5.000000         268                   1   \n",
       "250873         4.423729        3856                  59   \n",
       "\n",
       "                                                   corpus    neg    neu  \\\n",
       "0       food snack selection popular greek dishes appe...  0.061  0.693   \n",
       "1       little place soho wonderful lamb sandwich glas...  0.159  0.602   \n",
       "2       ordered lunch snack last friday time nothing m...  0.140  0.639   \n",
       "3       beautiful quaint little restaurant pretty stre...  0.034  0.545   \n",
       "4       snack great place casual sit lunch especially ...  0.000  0.669   \n",
       "...                                                   ...    ...    ...   \n",
       "250869  made reservation early dinner saturday night l...  0.000  0.525   \n",
       "250870  emily like frannys marco warmth value emily ch...  0.000  0.611   \n",
       "250871  cant say enough good things place stopped last...  0.061  0.484   \n",
       "250872  great dinner fantastic pizza smore pizza desse...  0.000  0.467   \n",
       "250873  pizza loves emily love emilys pizza emily grea...  0.018  0.597   \n",
       "\n",
       "          pos  compound  number_Cap_Words  number_digit_Words  noun_count  \n",
       "0       0.247    0.6486                 0                   0           3  \n",
       "1       0.239    0.5446                 0                   0           5  \n",
       "2       0.221    0.2249                 0                   1           2  \n",
       "3       0.421    0.9772                 0                   0           6  \n",
       "4       0.331    0.9756                 0                   0          14  \n",
       "...       ...       ...               ...                 ...         ...  \n",
       "250869  0.475    0.9980                 0                   0          32  \n",
       "250870  0.389    0.9901                 0                   1          18  \n",
       "250871  0.455    0.9829                 0                   0           9  \n",
       "250872  0.533    0.9750                 0                   0           4  \n",
       "250873  0.384    0.9995                 0                   4          56  \n",
       "\n",
       "[250874 rows x 19 columns]"
      ]
     },
     "execution_count": 25,
     "metadata": {},
     "output_type": "execute_result"
    }
   ],
   "source": [
    "data = data.drop(columns=['Unnamed: 0'])\n",
    "data"
   ]
  },
  {
   "cell_type": "code",
   "execution_count": 26,
   "id": "finished-anger",
   "metadata": {},
   "outputs": [],
   "source": [
    "data.dropna(axis=0, inplace=True)"
   ]
  },
  {
   "cell_type": "markdown",
   "id": "impressive-syndicate",
   "metadata": {},
   "source": [
    "#### Identifying the most common words for Fake and True reviews"
   ]
  },
  {
   "cell_type": "code",
   "execution_count": 99,
   "id": "confidential-roads",
   "metadata": {},
   "outputs": [],
   "source": [
    "positive = data[data['label']== 0]\n",
    "fake = data[data['label'] == 1]\n",
    "true_word_list = []"
   ]
  },
  {
   "cell_type": "code",
   "execution_count": 100,
   "id": "micro-annex",
   "metadata": {},
   "outputs": [],
   "source": [
    "for i in range(0,positive['corpus'].count()):\n",
    "    true_word_temp = positive['corpus'].iloc[i].split()\n",
    "    true_word_list.append(true_word_temp)\n",
    "from itertools import chain\n",
    "list1 = list(chain.from_iterable(true_word_list))\n",
    "from collections import Counter \n",
    "true_mc = Counter(list1).most_common()\n",
    " \n",
    "fake_word_list= fake['corpus'].str.split(expand=True).stack()\n",
    "from collections import Counter \n",
    "fake_mc = Counter(fake_word_list).most_common() "
   ]
  },
  {
   "cell_type": "code",
   "execution_count": 101,
   "id": "purple-cleaners",
   "metadata": {},
   "outputs": [],
   "source": [
    "for i in range(0,positive['corpus'].count()):\n",
    "    true_word_temp = positive['corpus'].iloc[i].split()\n",
    "    true_word_list.append(true_word_temp)\n",
    "from itertools import chain\n",
    "list1 = list(chain.from_iterable(true_word_list))\n",
    "from collections import Counter\n",
    "true_mc = Counter(list1).most_common()\n",
    "\n",
    "fake_word_list= fake['corpus'].str.split(expand=True).stack()\n",
    "from collections import Counter\n",
    "fake_mc = Counter(fake_word_list).most_common()"
   ]
  },
  {
   "cell_type": "code",
   "execution_count": 102,
   "id": "reliable-testament",
   "metadata": {},
   "outputs": [
    {
     "data": {
      "text/plain": [
       "['time',\n",
       " 'like',\n",
       " 'really',\n",
       " 'dont',\n",
       " 'best',\n",
       " 'place',\n",
       " 'food',\n",
       " 'also',\n",
       " 'restaurant',\n",
       " 'get',\n",
       " 'delicious',\n",
       " 'back',\n",
       " 'one',\n",
       " 'go',\n",
       " 'us',\n",
       " 'good',\n",
       " 'great',\n",
       " 'service',\n",
       " 'would',\n",
       " 'wait']"
      ]
     },
     "execution_count": 102,
     "metadata": {},
     "output_type": "execute_result"
    }
   ],
   "source": [
    "for i in range(0,positive['corpus'].count()):\n",
    "    true_word_temp = positive['corpus'].iloc[i].split()\n",
    "    true_word_list.append(true_word_temp)\n",
    "from itertools import chain\n",
    "list1 = list(chain.from_iterable(true_word_list))\n",
    "from collections import Counter\n",
    "true_mc = Counter(list1).most_common()\n",
    " \n",
    "fake = data[data['label'] == 1]\n",
    "fake_word_list= fake['corpus'].str.split(expand=True).stack()\n",
    "from collections import Counter\n",
    "fake_mc = Counter(fake_word_list).most_common()\n",
    "fake_mc\n",
    " \n",
    "df_true = pd.DataFrame(true_mc)\n",
    "df_false = pd.DataFrame(fake_mc)\n",
    "df_false1 = df_false[0:23]\n",
    "df_true1 = df_true[0:23]\n",
    "df_common = list(set(df_true1.iloc[:,0]) & set(df_false1.iloc[:,0]))\n",
    "df_common"
   ]
  },
  {
   "cell_type": "markdown",
   "id": "younger-material",
   "metadata": {},
   "source": [
    "# Logistic Regression"
   ]
  },
  {
   "cell_type": "code",
   "execution_count": 103,
   "id": "intimate-diary",
   "metadata": {},
   "outputs": [],
   "source": [
    "from sklearn.feature_extraction.text import CountVectorizer\n",
    "from sklearn.model_selection import train_test_split\n",
    "from sklearn.linear_model import LogisticRegression\n",
    "from sklearn.preprocessing import LabelEncoder\n",
    "from sklearn.preprocessing import OneHotEncoder\n",
    "from sklearn.model_selection import RandomizedSearchCV"
   ]
  },
  {
   "cell_type": "markdown",
   "id": "early-casino",
   "metadata": {},
   "source": [
    "#### Split original data into train and test"
   ]
  },
  {
   "cell_type": "code",
   "execution_count": 110,
   "id": "competent-emperor",
   "metadata": {},
   "outputs": [],
   "source": [
    "sentences_train, sentences_test, y_train, y_test = train_test_split(data.drop(columns=['label']), data['label'], test_size=0.2, random_state=101)"
   ]
  },
  {
   "cell_type": "code",
   "execution_count": 111,
   "id": "smoking-elite",
   "metadata": {},
   "outputs": [
    {
     "data": {
      "text/plain": [
       "(200672, 18)"
      ]
     },
     "execution_count": 111,
     "metadata": {},
     "output_type": "execute_result"
    }
   ],
   "source": [
    "sentences_train.shape"
   ]
  },
  {
   "cell_type": "code",
   "execution_count": 112,
   "id": "induced-bullet",
   "metadata": {},
   "outputs": [
    {
     "data": {
      "text/plain": [
       "(50168, 18)"
      ]
     },
     "execution_count": 112,
     "metadata": {},
     "output_type": "execute_result"
    }
   ],
   "source": [
    "sentences_test.shape"
   ]
  },
  {
   "cell_type": "markdown",
   "id": "intense-twist",
   "metadata": {},
   "source": [
    "#### Using Count Vectorizer only on corpus column of train data set to generate features also using ngram = 3 and removing stop words (df_common)"
   ]
  },
  {
   "cell_type": "code",
   "execution_count": 113,
   "id": "directed-plate",
   "metadata": {},
   "outputs": [
    {
     "data": {
      "text/plain": [
       "CountVectorizer(max_features=15000, ngram_range=(2, 3),\n",
       "                stop_words=['time', 'like', 'really', 'dont', 'best', 'place',\n",
       "                            'food', 'also', 'restaurant', 'get', 'delicious',\n",
       "                            'back', 'one', 'go', 'us', 'good', 'great',\n",
       "                            'service', 'would', 'wait'])"
      ]
     },
     "execution_count": 113,
     "metadata": {},
     "output_type": "execute_result"
    }
   ],
   "source": [
    "vectorizer = CountVectorizer(stop_words= df_common, ngram_range=(2,3), max_features= 15000)\n",
    "vectorizer.fit(sentences_train.corpus)"
   ]
  },
  {
   "cell_type": "markdown",
   "id": "irish-football",
   "metadata": {},
   "source": [
    "Transforming text values to numeric using above vectorizer on train and test dataset"
   ]
  },
  {
   "cell_type": "code",
   "execution_count": 115,
   "id": "popular-cliff",
   "metadata": {},
   "outputs": [],
   "source": [
    "x_train = vectorizer.transform(sentences_train.corpus)\n",
    "x_test  = vectorizer.transform(sentences_test.corpus)"
   ]
  },
  {
   "cell_type": "markdown",
   "id": "mature-permission",
   "metadata": {},
   "source": [
    "Merging vectorised features with our extracted features using scipy library"
   ]
  },
  {
   "cell_type": "code",
   "execution_count": 116,
   "id": "bound-recovery",
   "metadata": {},
   "outputs": [],
   "source": [
    "import scipy as sp"
   ]
  },
  {
   "cell_type": "code",
   "execution_count": 117,
   "id": "excellent-election",
   "metadata": {},
   "outputs": [],
   "source": [
    "final_train = sp.sparse.hstack((x_train,sentences_train[['rating','Avg_Prod_Rating','Avg_user_rating', 'Review_Len','user_total_reviews','compound','number_Cap_Words','number_digit_Words','noun_count']].values),format='csr')\n",
    "final_test = sp.sparse.hstack((x_test,sentences_test[['rating','Avg_Prod_Rating','Avg_user_rating', 'Review_Len','user_total_reviews','compound','number_Cap_Words','number_digit_Words','noun_count']].values),format='csr')"
   ]
  },
  {
   "cell_type": "markdown",
   "id": "electoral-former",
   "metadata": {},
   "source": [
    "### Using Random UnderSampling to handle imbalance data"
   ]
  },
  {
   "cell_type": "code",
   "execution_count": 121,
   "id": "dependent-meditation",
   "metadata": {},
   "outputs": [
    {
     "name": "stdout",
     "output_type": "stream",
     "text": [
      "[(0, 20734), (1, 20734)]\n"
     ]
    }
   ],
   "source": [
    "from imblearn.under_sampling import RandomUnderSampler \n",
    "rus = RandomUnderSampler(random_state=0)\n",
    "X_resampled, y_resampled = rus.fit_resample(final_train, y_train)\n",
    "from collections import Counter\n",
    "print(sorted(Counter(y_resampled).items()))"
   ]
  },
  {
   "cell_type": "markdown",
   "id": "theoretical-investment",
   "metadata": {},
   "source": [
    "Model to be fit"
   ]
  },
  {
   "cell_type": "code",
   "execution_count": 124,
   "id": "minute-general",
   "metadata": {},
   "outputs": [
    {
     "name": "stdout",
     "output_type": "stream",
     "text": [
      "Accuracy: 0.55224445861904\n"
     ]
    },
    {
     "name": "stderr",
     "output_type": "stream",
     "text": [
      "C:\\Users\\13152\\anaconda3\\envs\\PSAPI\\lib\\site-packages\\sklearn\\linear_model\\_logistic.py:765: ConvergenceWarning: lbfgs failed to converge (status=1):\n",
      "STOP: TOTAL NO. of ITERATIONS REACHED LIMIT.\n",
      "\n",
      "Increase the number of iterations (max_iter) or scale the data as shown in:\n",
      "    https://scikit-learn.org/stable/modules/preprocessing.html\n",
      "Please also refer to the documentation for alternative solver options:\n",
      "    https://scikit-learn.org/stable/modules/linear_model.html#logistic-regression\n",
      "  extra_warning_msg=_LOGISTIC_SOLVER_CONVERGENCE_MSG)\n"
     ]
    }
   ],
   "source": [
    "#ML Model\n",
    "classifier = LogisticRegression()\n",
    "classifier.fit(X_resampled,  y_resampled)\n",
    "score = classifier.score(final_test, y_test)\n",
    "\n",
    "print(\"Accuracy:\", score)"
   ]
  },
  {
   "cell_type": "markdown",
   "id": "desperate-sport",
   "metadata": {},
   "source": [
    "Accuracy + Report + Confusion Matrix"
   ]
  },
  {
   "cell_type": "code",
   "execution_count": 125,
   "id": "revised-seating",
   "metadata": {},
   "outputs": [
    {
     "name": "stdout",
     "output_type": "stream",
     "text": [
      "              precision    recall  f1-score   support\n",
      "\n",
      "           0       0.97      0.52      0.68     45087\n",
      "           1       0.17      0.85      0.28      5081\n",
      "\n",
      "    accuracy                           0.55     50168\n",
      "   macro avg       0.57      0.68      0.48     50168\n",
      "weighted avg       0.89      0.55      0.64     50168\n",
      "\n"
     ]
    },
    {
     "data": {
      "text/plain": [
       "array([[23411, 21676],\n",
       "       [  787,  4294]], dtype=int64)"
      ]
     },
     "execution_count": 125,
     "metadata": {},
     "output_type": "execute_result"
    }
   ],
   "source": [
    "from sklearn.metrics import confusion_matrix, classification_report\n",
    "predictions = classifier.predict(final_test)\n",
    "print(classification_report(y_test, predictions))\n",
    "confusion_matrix(y_test, predictions)"
   ]
  },
  {
   "cell_type": "markdown",
   "id": "sought-waterproof",
   "metadata": {},
   "source": [
    "### Using Random OverSampling to handle imbalance data"
   ]
  },
  {
   "cell_type": "code",
   "execution_count": 126,
   "id": "remarkable-parts",
   "metadata": {},
   "outputs": [
    {
     "name": "stdout",
     "output_type": "stream",
     "text": [
      "[(0, 179938), (1, 179938)]\n"
     ]
    }
   ],
   "source": [
    "from imblearn.over_sampling import RandomOverSampler\n",
    "ros = RandomOverSampler(random_state=0)\n",
    "X_resampled, y_resampled = ros.fit_resample(x_train, y_train)\n",
    "from collections import Counter\n",
    "print(sorted(Counter(y_resampled).items()))"
   ]
  },
  {
   "cell_type": "markdown",
   "id": "greek-recorder",
   "metadata": {},
   "source": [
    "Model to be fit"
   ]
  },
  {
   "cell_type": "code",
   "execution_count": 127,
   "id": "commercial-steps",
   "metadata": {},
   "outputs": [
    {
     "name": "stdout",
     "output_type": "stream",
     "text": [
      "Accuracy: 0.6345479189921862\n"
     ]
    },
    {
     "name": "stderr",
     "output_type": "stream",
     "text": [
      "C:\\Users\\13152\\anaconda3\\envs\\PSAPI\\lib\\site-packages\\sklearn\\linear_model\\_logistic.py:765: ConvergenceWarning: lbfgs failed to converge (status=1):\n",
      "STOP: TOTAL NO. of ITERATIONS REACHED LIMIT.\n",
      "\n",
      "Increase the number of iterations (max_iter) or scale the data as shown in:\n",
      "    https://scikit-learn.org/stable/modules/preprocessing.html\n",
      "Please also refer to the documentation for alternative solver options:\n",
      "    https://scikit-learn.org/stable/modules/linear_model.html#logistic-regression\n",
      "  extra_warning_msg=_LOGISTIC_SOLVER_CONVERGENCE_MSG)\n"
     ]
    }
   ],
   "source": [
    "classifier = LogisticRegression()\n",
    "classifier.fit(X_resampled, y_resampled)\n",
    "score = classifier.score(x_test, y_test)\n",
    "\n",
    "print(\"Accuracy:\", score) "
   ]
  },
  {
   "cell_type": "markdown",
   "id": "ignored-ecuador",
   "metadata": {},
   "source": [
    "Accuracy + Report + Confusion Matrix"
   ]
  },
  {
   "cell_type": "code",
   "execution_count": 128,
   "id": "respected-blowing",
   "metadata": {},
   "outputs": [
    {
     "name": "stdout",
     "output_type": "stream",
     "text": [
      "              precision    recall  f1-score   support\n",
      "\n",
      "           0       0.93      0.64      0.76     45087\n",
      "           1       0.15      0.58      0.24      5081\n",
      "\n",
      "    accuracy                           0.63     50168\n",
      "   macro avg       0.54      0.61      0.50     50168\n",
      "weighted avg       0.85      0.63      0.71     50168\n",
      "\n"
     ]
    },
    {
     "data": {
      "text/plain": [
       "array([[28904, 16183],\n",
       "       [ 2151,  2930]], dtype=int64)"
      ]
     },
     "execution_count": 128,
     "metadata": {},
     "output_type": "execute_result"
    }
   ],
   "source": [
    "from sklearn.metrics import confusion_matrix, classification_report\n",
    "predictions = classifier.predict(x_test)\n",
    "print(classification_report(y_test, predictions))\n",
    "confusion_matrix(y_test, predictions)"
   ]
  },
  {
   "cell_type": "markdown",
   "id": "comfortable-sunset",
   "metadata": {},
   "source": [
    "### Using SMOTE to handle imbalanced dataset"
   ]
  },
  {
   "cell_type": "code",
   "execution_count": 129,
   "id": "roman-intersection",
   "metadata": {},
   "outputs": [],
   "source": [
    "from imblearn.over_sampling import SMOTE\n",
    "ros = SMOTE(random_state=0)\n",
    "final_train_dataset, y_dataset = ros.fit_resample(final_train, y_train)\n",
    "final_train_dataset = final_train\n",
    "y_dataset = y_train"
   ]
  },
  {
   "cell_type": "markdown",
   "id": "concerned-setting",
   "metadata": {},
   "source": [
    "Model to be fit"
   ]
  },
  {
   "cell_type": "code",
   "execution_count": 130,
   "id": "dental-basic",
   "metadata": {},
   "outputs": [
    {
     "name": "stdout",
     "output_type": "stream",
     "text": [
      "Accuracy: 0.8987202997926965\n"
     ]
    },
    {
     "name": "stderr",
     "output_type": "stream",
     "text": [
      "C:\\Users\\13152\\anaconda3\\envs\\PSAPI\\lib\\site-packages\\sklearn\\linear_model\\_logistic.py:765: ConvergenceWarning: lbfgs failed to converge (status=1):\n",
      "STOP: TOTAL NO. of ITERATIONS REACHED LIMIT.\n",
      "\n",
      "Increase the number of iterations (max_iter) or scale the data as shown in:\n",
      "    https://scikit-learn.org/stable/modules/preprocessing.html\n",
      "Please also refer to the documentation for alternative solver options:\n",
      "    https://scikit-learn.org/stable/modules/linear_model.html#logistic-regression\n",
      "  extra_warning_msg=_LOGISTIC_SOLVER_CONVERGENCE_MSG)\n"
     ]
    }
   ],
   "source": [
    "#ML Model\n",
    "classifier = LogisticRegression()\n",
    "classifier.fit(final_train_dataset, y_dataset)\n",
    "score = classifier.score(final_test, y_test)\n",
    "\n",
    "print(\"Accuracy:\", score)"
   ]
  },
  {
   "cell_type": "markdown",
   "id": "expressed-cooling",
   "metadata": {},
   "source": [
    "Accuracy + Report + Confusion Matrix"
   ]
  },
  {
   "cell_type": "code",
   "execution_count": 131,
   "id": "breathing-relay",
   "metadata": {},
   "outputs": [
    {
     "name": "stdout",
     "output_type": "stream",
     "text": [
      "              precision    recall  f1-score   support\n",
      "\n",
      "           0       0.90      1.00      0.95     45087\n",
      "           1       0.50      0.00      0.00      5081\n",
      "\n",
      "    accuracy                           0.90     50168\n",
      "   macro avg       0.70      0.50      0.47     50168\n",
      "weighted avg       0.86      0.90      0.85     50168\n",
      "\n"
     ]
    },
    {
     "data": {
      "text/plain": [
       "array([[45085,     2],\n",
       "       [ 5079,     2]], dtype=int64)"
      ]
     },
     "execution_count": 131,
     "metadata": {},
     "output_type": "execute_result"
    }
   ],
   "source": [
    "from sklearn.metrics import confusion_matrix, classification_report\n",
    "predictions = classifier.predict(final_test)\n",
    "print(classification_report(y_test, predictions))\n",
    "confusion_matrix(y_test, predictions)"
   ]
  },
  {
   "cell_type": "markdown",
   "id": "announced-norfolk",
   "metadata": {},
   "source": [
    "# Naive Bayes"
   ]
  },
  {
   "cell_type": "markdown",
   "id": "curious-degree",
   "metadata": {},
   "source": [
    "Dropping the columns that are not required by the model"
   ]
  },
  {
   "cell_type": "code",
   "execution_count": 132,
   "id": "nominated-windsor",
   "metadata": {},
   "outputs": [],
   "source": [
    "data = data.dropna()\n",
    "final_data_for_train =  data.drop(columns=['ex_id','user_id','prod_id','date','review','compound'])"
   ]
  },
  {
   "cell_type": "markdown",
   "id": "geological-conducting",
   "metadata": {},
   "source": [
    "Vectorization and OneHotEncoding"
   ]
  },
  {
   "cell_type": "code",
   "execution_count": 134,
   "id": "amended-montgomery",
   "metadata": {},
   "outputs": [],
   "source": [
    "from sklearn.feature_extraction.text import CountVectorizer\n",
    "from sklearn.model_selection import train_test_split\n",
    "from sklearn.preprocessing import LabelEncoder\n",
    "from sklearn.preprocessing import OneHotEncoder\n",
    "from sklearn.model_selection import RandomizedSearchCV\n",
    " \n",
    "#Split\n",
    "X_train, X_test, y_train, y_test = train_test_split(final_data_for_train, data['label'], test_size=0.2, random_state=101)\n",
    "#Vectorize\n",
    "vectorizer = CountVectorizer(stop_words= df_common, ngram_range=(3,3), max_features= 15000)"
   ]
  },
  {
   "cell_type": "code",
   "execution_count": 135,
   "id": "matched-trout",
   "metadata": {},
   "outputs": [],
   "source": [
    "X_train_vector = vectorizer.fit_transform(X_train['corpus'])\n",
    "X_test_vector  = vectorizer.fit_transform(X_test['corpus'])"
   ]
  },
  {
   "cell_type": "code",
   "execution_count": 136,
   "id": "south-voice",
   "metadata": {},
   "outputs": [],
   "source": [
    "import scipy as sp\n",
    "final_train = sp.sparse.hstack((X_train_vector,X_train[['rating','Avg_Prod_Rating','Avg_user_rating','user_total_reviews','neu','neg','pos','number_Cap_Words','number_digit_Words','noun_count']].values),format='csr')\n",
    "final_test = sp.sparse.hstack((X_test_vector,X_test[['rating','Avg_Prod_Rating','Avg_user_rating','user_total_reviews','neu','neg','pos','number_Cap_Words','number_digit_Words','noun_count']].values),format='csr')"
   ]
  },
  {
   "cell_type": "markdown",
   "id": "desirable-dutch",
   "metadata": {},
   "source": [
    "### Using Random UnderSampling to handle imbalance data"
   ]
  },
  {
   "cell_type": "code",
   "execution_count": 152,
   "id": "external-complex",
   "metadata": {},
   "outputs": [
    {
     "name": "stdout",
     "output_type": "stream",
     "text": [
      "[(0, 20734), (1, 20734)]\n"
     ]
    }
   ],
   "source": [
    "from imblearn.under_sampling import RandomUnderSampler \n",
    "rus = RandomUnderSampler(random_state=0)\n",
    "X_resampled, y_resampled = rus.fit_resample(final_train, y_train)\n",
    "from collections import Counter\n",
    "print(sorted(Counter(y_resampled).items()))"
   ]
  },
  {
   "cell_type": "markdown",
   "id": "german-person",
   "metadata": {},
   "source": [
    "#### Using Multinomial Naive bayes model as the data is discrete"
   ]
  },
  {
   "cell_type": "code",
   "execution_count": 153,
   "id": "billion-hardwood",
   "metadata": {},
   "outputs": [],
   "source": [
    "from sklearn.naive_bayes import MultinomialNB \n",
    "mnb = MultinomialNB().fit(X_resampled,y_resampled)"
   ]
  },
  {
   "cell_type": "code",
   "execution_count": 154,
   "id": "smart-salon",
   "metadata": {},
   "outputs": [],
   "source": [
    "mnb_pred=mnb.predict(final_test)"
   ]
  },
  {
   "cell_type": "markdown",
   "id": "engaged-electronics",
   "metadata": {},
   "source": [
    "#### Metrics for evaluating the model"
   ]
  },
  {
   "cell_type": "code",
   "execution_count": 158,
   "id": "flush-karaoke",
   "metadata": {},
   "outputs": [
    {
     "name": "stdout",
     "output_type": "stream",
     "text": [
      "0.5614377603917541\n",
      "              precision    recall  f1-score   support\n",
      "\n",
      "           0       0.43      0.97      0.59     19858\n",
      "           1       0.89      0.15      0.26     30310\n",
      "\n",
      "    accuracy                           0.48     50168\n",
      "   macro avg       0.66      0.56      0.43     50168\n",
      "weighted avg       0.71      0.48      0.39     50168\n",
      "\n",
      "Confused Matrix: \n",
      " [[19321   537]\n",
      " [25766  4544]]\n"
     ]
    }
   ],
   "source": [
    "from sklearn.metrics import classification_report, roc_auc_score, confusion_matrix, accuracy_score\n",
    "print(roc_auc_score(mnb_pred, y_test))\n",
    "print(classification_report(mnb_pred, y_test))\n",
    "print('Confused Matrix: \\n',confusion_matrix(mnb_pred, y_test))"
   ]
  },
  {
   "cell_type": "markdown",
   "id": "standard-backing",
   "metadata": {},
   "source": [
    "### Random Over Sampling technique is used to handle unbalanced dataset"
   ]
  },
  {
   "cell_type": "code",
   "execution_count": 160,
   "id": "fifteen-career",
   "metadata": {},
   "outputs": [
    {
     "name": "stdout",
     "output_type": "stream",
     "text": [
      "[(0, 179938), (1, 179938)]\n"
     ]
    }
   ],
   "source": [
    "from imblearn.over_sampling import RandomOverSampler\n",
    "ros = RandomOverSampler(random_state=0)\n",
    "X_resampled, y_resampled = ros.fit_resample(final_train, y_train)\n",
    "from collections import Counter\n",
    "print(sorted(Counter(y_resampled).items()))"
   ]
  },
  {
   "cell_type": "code",
   "execution_count": 161,
   "id": "stretch-relation",
   "metadata": {},
   "outputs": [
    {
     "name": "stdout",
     "output_type": "stream",
     "text": [
      "(359876, 15010)\n"
     ]
    }
   ],
   "source": [
    "print(X_resampled.shape)"
   ]
  },
  {
   "cell_type": "markdown",
   "id": "ordered-malpractice",
   "metadata": {},
   "source": [
    "#### Using Multinomial Naive bayes model as the data is discrete"
   ]
  },
  {
   "cell_type": "code",
   "execution_count": 162,
   "id": "automotive-affairs",
   "metadata": {},
   "outputs": [],
   "source": [
    "from sklearn.naive_bayes import MultinomialNB \n",
    "mnb = MultinomialNB().fit(X_resampled,y_resampled)"
   ]
  },
  {
   "cell_type": "code",
   "execution_count": 163,
   "id": "opponent-proposition",
   "metadata": {},
   "outputs": [],
   "source": [
    "mnb_pred=mnb.predict(final_test)"
   ]
  },
  {
   "cell_type": "markdown",
   "id": "marine-consent",
   "metadata": {},
   "source": [
    "#### Metrics for evaluating the model"
   ]
  },
  {
   "cell_type": "code",
   "execution_count": 164,
   "id": "aware-cooler",
   "metadata": {},
   "outputs": [],
   "source": [
    "from sklearn.metrics import classification_report, roc_auc_score, confusion_matrix, accuracy_score"
   ]
  },
  {
   "cell_type": "code",
   "execution_count": 165,
   "id": "severe-madonna",
   "metadata": {},
   "outputs": [
    {
     "name": "stdout",
     "output_type": "stream",
     "text": [
      "              precision    recall  f1-score   support\n",
      "\n",
      "           0       0.55      0.96      0.70     25937\n",
      "           1       0.78      0.16      0.27     24231\n",
      "\n",
      "    accuracy                           0.57     50168\n",
      "   macro avg       0.66      0.56      0.48     50168\n",
      "weighted avg       0.66      0.57      0.49     50168\n",
      "\n",
      "0.5599438035401658\n",
      "Confused Matrix: \n",
      " [[24812  1125]\n",
      " [20275  3956]]\n"
     ]
    }
   ],
   "source": [
    "print(classification_report(mnb_pred, y_test))\n",
    "print(roc_auc_score(mnb_pred, y_test))\n",
    "print('Confused Matrix: \\n',confusion_matrix(mnb_pred, y_test))"
   ]
  },
  {
   "cell_type": "markdown",
   "id": "naval-fetish",
   "metadata": {},
   "source": [
    "### SMOTE over sampling technique used to balance the unbalanced dataset"
   ]
  },
  {
   "cell_type": "code",
   "execution_count": 166,
   "id": "downtown-security",
   "metadata": {},
   "outputs": [
    {
     "name": "stdout",
     "output_type": "stream",
     "text": [
      "[(0, 179938), (1, 179938)]\n"
     ]
    }
   ],
   "source": [
    "from imblearn.over_sampling import SMOTE\n",
    "smote = SMOTE(random_state=0)\n",
    "X_resampled1, y_resampled1 = smote.fit_resample(final_train, y_train)\n",
    "from collections import Counter\n",
    "print(sorted(Counter(y_resampled).items()))"
   ]
  },
  {
   "cell_type": "markdown",
   "id": "stuffed-configuration",
   "metadata": {},
   "source": [
    "#### Using Multinomial Naive bayes model as the data is discrete"
   ]
  },
  {
   "cell_type": "code",
   "execution_count": 167,
   "id": "juvenile-hierarchy",
   "metadata": {},
   "outputs": [],
   "source": [
    "from sklearn.naive_bayes import MultinomialNB \n",
    "mnb1 = MultinomialNB().fit(X_resampled1,y_resampled1)"
   ]
  },
  {
   "cell_type": "code",
   "execution_count": 168,
   "id": "indoor-lemon",
   "metadata": {},
   "outputs": [],
   "source": [
    "mnb_pred=mnb1.predict(final_test)"
   ]
  },
  {
   "cell_type": "markdown",
   "id": "contemporary-confusion",
   "metadata": {},
   "source": [
    "#### Metrics for evaluating the model"
   ]
  },
  {
   "cell_type": "code",
   "execution_count": 169,
   "id": "unlikely-falls",
   "metadata": {},
   "outputs": [
    {
     "name": "stdout",
     "output_type": "stream",
     "text": [
      "              precision    recall  f1-score   support\n",
      "\n",
      "           0       0.55      0.96      0.70     26170\n",
      "           1       0.77      0.16      0.27     23998\n",
      "\n",
      "    accuracy                           0.58     50168\n",
      "   macro avg       0.66      0.56      0.49     50168\n",
      "weighted avg       0.66      0.58      0.50     50168\n",
      "\n",
      "0.5594915851317758\n",
      "[[25009  1161]\n",
      " [20078  3920]]\n"
     ]
    }
   ],
   "source": [
    "from sklearn.metrics import classification_report, roc_auc_score, confusion_matrix, accuracy_score\n",
    "x=classification_report(mnb_pred, y_test)\n",
    "print(classification_report(mnb_pred, y_test))\n",
    "print(roc_auc_score(mnb_pred, y_test))\n",
    "print(confusion_matrix(mnb_pred, y_test))"
   ]
  },
  {
   "cell_type": "markdown",
   "id": "third-broadcast",
   "metadata": {},
   "source": [
    "# Random Forest Classification"
   ]
  },
  {
   "cell_type": "code",
   "execution_count": null,
   "id": "robust-alabama",
   "metadata": {},
   "outputs": [],
   "source": []
  },
  {
   "cell_type": "markdown",
   "id": "individual-conversion",
   "metadata": {},
   "source": [
    "Dropping the columns that are not required by the model"
   ]
  },
  {
   "cell_type": "code",
   "execution_count": 170,
   "id": "otherwise-freeware",
   "metadata": {
    "scrolled": true
   },
   "outputs": [
    {
     "data": {
      "text/html": [
       "<div>\n",
       "<style scoped>\n",
       "    .dataframe tbody tr th:only-of-type {\n",
       "        vertical-align: middle;\n",
       "    }\n",
       "\n",
       "    .dataframe tbody tr th {\n",
       "        vertical-align: top;\n",
       "    }\n",
       "\n",
       "    .dataframe thead th {\n",
       "        text-align: right;\n",
       "    }\n",
       "</style>\n",
       "<table border=\"1\" class=\"dataframe\">\n",
       "  <thead>\n",
       "    <tr style=\"text-align: right;\">\n",
       "      <th></th>\n",
       "      <th>rating</th>\n",
       "      <th>label</th>\n",
       "      <th>Avg_Prod_Rating</th>\n",
       "      <th>Avg_user_rating</th>\n",
       "      <th>Review_Len</th>\n",
       "      <th>user_total_reviews</th>\n",
       "      <th>corpus</th>\n",
       "      <th>compound</th>\n",
       "      <th>number_Cap_Words</th>\n",
       "      <th>number_digit_Words</th>\n",
       "      <th>noun_count</th>\n",
       "    </tr>\n",
       "  </thead>\n",
       "  <tbody>\n",
       "    <tr>\n",
       "      <th>0</th>\n",
       "      <td>3.0</td>\n",
       "      <td>1</td>\n",
       "      <td>3.954839</td>\n",
       "      <td>4.5</td>\n",
       "      <td>215</td>\n",
       "      <td>26</td>\n",
       "      <td>food snack selection popular greek dishes appe...</td>\n",
       "      <td>0.6486</td>\n",
       "      <td>0</td>\n",
       "      <td>0</td>\n",
       "      <td>3</td>\n",
       "    </tr>\n",
       "  </tbody>\n",
       "</table>\n",
       "</div>"
      ],
      "text/plain": [
       "   rating  label  Avg_Prod_Rating  Avg_user_rating  Review_Len  \\\n",
       "0     3.0      1         3.954839              4.5         215   \n",
       "\n",
       "   user_total_reviews                                             corpus  \\\n",
       "0                  26  food snack selection popular greek dishes appe...   \n",
       "\n",
       "   compound  number_Cap_Words  number_digit_Words  noun_count  \n",
       "0    0.6486                 0                   0           3  "
      ]
     },
     "execution_count": 170,
     "metadata": {},
     "output_type": "execute_result"
    }
   ],
   "source": [
    "corr_final_data=data.drop(columns=['ex_id','user_id','prod_id','date','review','neg','neu','pos'])\n",
    "corr_final_data.head(1)"
   ]
  },
  {
   "cell_type": "code",
   "execution_count": 171,
   "id": "interior-hayes",
   "metadata": {},
   "outputs": [
    {
     "data": {
      "text/html": [
       "<style  type=\"text/css\" >\n",
       "#T_561de56e_12b9_11ed_9d8b_00e04c681c3brow0_col0,#T_561de56e_12b9_11ed_9d8b_00e04c681c3brow1_col1,#T_561de56e_12b9_11ed_9d8b_00e04c681c3brow2_col2,#T_561de56e_12b9_11ed_9d8b_00e04c681c3brow3_col3,#T_561de56e_12b9_11ed_9d8b_00e04c681c3brow4_col4,#T_561de56e_12b9_11ed_9d8b_00e04c681c3brow5_col5,#T_561de56e_12b9_11ed_9d8b_00e04c681c3brow6_col6,#T_561de56e_12b9_11ed_9d8b_00e04c681c3brow7_col7,#T_561de56e_12b9_11ed_9d8b_00e04c681c3brow8_col8,#T_561de56e_12b9_11ed_9d8b_00e04c681c3brow9_col9{\n",
       "            background-color:  #b40426;\n",
       "            color:  #f1f1f1;\n",
       "        }#T_561de56e_12b9_11ed_9d8b_00e04c681c3brow0_col1,#T_561de56e_12b9_11ed_9d8b_00e04c681c3brow7_col1,#T_561de56e_12b9_11ed_9d8b_00e04c681c3brow8_col6{\n",
       "            background-color:  #5a78e4;\n",
       "            color:  #000000;\n",
       "        }#T_561de56e_12b9_11ed_9d8b_00e04c681c3brow0_col2{\n",
       "            background-color:  #86a9fc;\n",
       "            color:  #000000;\n",
       "        }#T_561de56e_12b9_11ed_9d8b_00e04c681c3brow0_col3,#T_561de56e_12b9_11ed_9d8b_00e04c681c3brow3_col0{\n",
       "            background-color:  #ea7b60;\n",
       "            color:  #000000;\n",
       "        }#T_561de56e_12b9_11ed_9d8b_00e04c681c3brow0_col4,#T_561de56e_12b9_11ed_9d8b_00e04c681c3brow0_col8,#T_561de56e_12b9_11ed_9d8b_00e04c681c3brow1_col4,#T_561de56e_12b9_11ed_9d8b_00e04c681c3brow1_col5,#T_561de56e_12b9_11ed_9d8b_00e04c681c3brow1_col6,#T_561de56e_12b9_11ed_9d8b_00e04c681c3brow1_col9,#T_561de56e_12b9_11ed_9d8b_00e04c681c3brow3_col4,#T_561de56e_12b9_11ed_9d8b_00e04c681c3brow3_col7,#T_561de56e_12b9_11ed_9d8b_00e04c681c3brow3_col8,#T_561de56e_12b9_11ed_9d8b_00e04c681c3brow5_col1,#T_561de56e_12b9_11ed_9d8b_00e04c681c3brow8_col0,#T_561de56e_12b9_11ed_9d8b_00e04c681c3brow8_col2,#T_561de56e_12b9_11ed_9d8b_00e04c681c3brow8_col3{\n",
       "            background-color:  #3b4cc0;\n",
       "            color:  #f1f1f1;\n",
       "        }#T_561de56e_12b9_11ed_9d8b_00e04c681c3brow0_col5,#T_561de56e_12b9_11ed_9d8b_00e04c681c3brow0_col9,#T_561de56e_12b9_11ed_9d8b_00e04c681c3brow8_col1{\n",
       "            background-color:  #5470de;\n",
       "            color:  #000000;\n",
       "        }#T_561de56e_12b9_11ed_9d8b_00e04c681c3brow0_col6{\n",
       "            background-color:  #c4d5f3;\n",
       "            color:  #000000;\n",
       "        }#T_561de56e_12b9_11ed_9d8b_00e04c681c3brow0_col7,#T_561de56e_12b9_11ed_9d8b_00e04c681c3brow1_col7,#T_561de56e_12b9_11ed_9d8b_00e04c681c3brow4_col0,#T_561de56e_12b9_11ed_9d8b_00e04c681c3brow4_col2{\n",
       "            background-color:  #3d50c3;\n",
       "            color:  #f1f1f1;\n",
       "        }#T_561de56e_12b9_11ed_9d8b_00e04c681c3brow1_col0,#T_561de56e_12b9_11ed_9d8b_00e04c681c3brow7_col0{\n",
       "            background-color:  #5572df;\n",
       "            color:  #000000;\n",
       "        }#T_561de56e_12b9_11ed_9d8b_00e04c681c3brow1_col2{\n",
       "            background-color:  #485fd1;\n",
       "            color:  #f1f1f1;\n",
       "        }#T_561de56e_12b9_11ed_9d8b_00e04c681c3brow1_col3,#T_561de56e_12b9_11ed_9d8b_00e04c681c3brow2_col4,#T_561de56e_12b9_11ed_9d8b_00e04c681c3brow2_col8{\n",
       "            background-color:  #536edd;\n",
       "            color:  #000000;\n",
       "        }#T_561de56e_12b9_11ed_9d8b_00e04c681c3brow1_col8,#T_561de56e_12b9_11ed_9d8b_00e04c681c3brow5_col0,#T_561de56e_12b9_11ed_9d8b_00e04c681c3brow6_col7{\n",
       "            background-color:  #4e68d8;\n",
       "            color:  #000000;\n",
       "        }#T_561de56e_12b9_11ed_9d8b_00e04c681c3brow2_col0{\n",
       "            background-color:  #9dbdff;\n",
       "            color:  #000000;\n",
       "        }#T_561de56e_12b9_11ed_9d8b_00e04c681c3brow2_col1,#T_561de56e_12b9_11ed_9d8b_00e04c681c3brow6_col8{\n",
       "            background-color:  #6687ed;\n",
       "            color:  #000000;\n",
       "        }#T_561de56e_12b9_11ed_9d8b_00e04c681c3brow2_col3{\n",
       "            background-color:  #8badfd;\n",
       "            color:  #000000;\n",
       "        }#T_561de56e_12b9_11ed_9d8b_00e04c681c3brow2_col5{\n",
       "            background-color:  #5d7ce6;\n",
       "            color:  #000000;\n",
       "        }#T_561de56e_12b9_11ed_9d8b_00e04c681c3brow2_col6{\n",
       "            background-color:  #5e7de7;\n",
       "            color:  #000000;\n",
       "        }#T_561de56e_12b9_11ed_9d8b_00e04c681c3brow2_col7,#T_561de56e_12b9_11ed_9d8b_00e04c681c3brow4_col1{\n",
       "            background-color:  #4358cb;\n",
       "            color:  #f1f1f1;\n",
       "        }#T_561de56e_12b9_11ed_9d8b_00e04c681c3brow2_col9{\n",
       "            background-color:  #5875e1;\n",
       "            color:  #000000;\n",
       "        }#T_561de56e_12b9_11ed_9d8b_00e04c681c3brow3_col1,#T_561de56e_12b9_11ed_9d8b_00e04c681c3brow7_col6{\n",
       "            background-color:  #5977e3;\n",
       "            color:  #000000;\n",
       "        }#T_561de56e_12b9_11ed_9d8b_00e04c681c3brow3_col2,#T_561de56e_12b9_11ed_9d8b_00e04c681c3brow6_col5{\n",
       "            background-color:  #7597f6;\n",
       "            color:  #000000;\n",
       "        }#T_561de56e_12b9_11ed_9d8b_00e04c681c3brow3_col5,#T_561de56e_12b9_11ed_9d8b_00e04c681c3brow5_col7,#T_561de56e_12b9_11ed_9d8b_00e04c681c3brow7_col3,#T_561de56e_12b9_11ed_9d8b_00e04c681c3brow9_col3{\n",
       "            background-color:  #506bda;\n",
       "            color:  #000000;\n",
       "        }#T_561de56e_12b9_11ed_9d8b_00e04c681c3brow3_col6{\n",
       "            background-color:  #b6cefa;\n",
       "            color:  #000000;\n",
       "        }#T_561de56e_12b9_11ed_9d8b_00e04c681c3brow3_col9{\n",
       "            background-color:  #4f69d9;\n",
       "            color:  #000000;\n",
       "        }#T_561de56e_12b9_11ed_9d8b_00e04c681c3brow4_col3{\n",
       "            background-color:  #3c4ec2;\n",
       "            color:  #f1f1f1;\n",
       "        }#T_561de56e_12b9_11ed_9d8b_00e04c681c3brow4_col5{\n",
       "            background-color:  #9bbcff;\n",
       "            color:  #000000;\n",
       "        }#T_561de56e_12b9_11ed_9d8b_00e04c681c3brow4_col6{\n",
       "            background-color:  #92b4fe;\n",
       "            color:  #000000;\n",
       "        }#T_561de56e_12b9_11ed_9d8b_00e04c681c3brow4_col7{\n",
       "            background-color:  #abc8fd;\n",
       "            color:  #000000;\n",
       "        }#T_561de56e_12b9_11ed_9d8b_00e04c681c3brow4_col8{\n",
       "            background-color:  #d9dce1;\n",
       "            color:  #000000;\n",
       "        }#T_561de56e_12b9_11ed_9d8b_00e04c681c3brow4_col9,#T_561de56e_12b9_11ed_9d8b_00e04c681c3brow9_col4{\n",
       "            background-color:  #d44e41;\n",
       "            color:  #000000;\n",
       "        }#T_561de56e_12b9_11ed_9d8b_00e04c681c3brow5_col2{\n",
       "            background-color:  #3e51c5;\n",
       "            color:  #f1f1f1;\n",
       "        }#T_561de56e_12b9_11ed_9d8b_00e04c681c3brow5_col3{\n",
       "            background-color:  #4961d2;\n",
       "            color:  #f1f1f1;\n",
       "        }#T_561de56e_12b9_11ed_9d8b_00e04c681c3brow5_col4{\n",
       "            background-color:  #93b5fe;\n",
       "            color:  #000000;\n",
       "        }#T_561de56e_12b9_11ed_9d8b_00e04c681c3brow5_col6{\n",
       "            background-color:  #6384eb;\n",
       "            color:  #000000;\n",
       "        }#T_561de56e_12b9_11ed_9d8b_00e04c681c3brow5_col8{\n",
       "            background-color:  #7396f5;\n",
       "            color:  #000000;\n",
       "        }#T_561de56e_12b9_11ed_9d8b_00e04c681c3brow5_col9,#T_561de56e_12b9_11ed_9d8b_00e04c681c3brow9_col6{\n",
       "            background-color:  #97b8ff;\n",
       "            color:  #000000;\n",
       "        }#T_561de56e_12b9_11ed_9d8b_00e04c681c3brow6_col0{\n",
       "            background-color:  #cbd8ee;\n",
       "            color:  #000000;\n",
       "        }#T_561de56e_12b9_11ed_9d8b_00e04c681c3brow6_col1{\n",
       "            background-color:  #4b64d5;\n",
       "            color:  #f1f1f1;\n",
       "        }#T_561de56e_12b9_11ed_9d8b_00e04c681c3brow6_col2{\n",
       "            background-color:  #516ddb;\n",
       "            color:  #000000;\n",
       "        }#T_561de56e_12b9_11ed_9d8b_00e04c681c3brow6_col3{\n",
       "            background-color:  #bed2f6;\n",
       "            color:  #000000;\n",
       "        }#T_561de56e_12b9_11ed_9d8b_00e04c681c3brow6_col4{\n",
       "            background-color:  #9abbff;\n",
       "            color:  #000000;\n",
       "        }#T_561de56e_12b9_11ed_9d8b_00e04c681c3brow6_col9,#T_561de56e_12b9_11ed_9d8b_00e04c681c3brow9_col5{\n",
       "            background-color:  #9ebeff;\n",
       "            color:  #000000;\n",
       "        }#T_561de56e_12b9_11ed_9d8b_00e04c681c3brow7_col2,#T_561de56e_12b9_11ed_9d8b_00e04c681c3brow9_col1{\n",
       "            background-color:  #4257c9;\n",
       "            color:  #f1f1f1;\n",
       "        }#T_561de56e_12b9_11ed_9d8b_00e04c681c3brow7_col4{\n",
       "            background-color:  #bad0f8;\n",
       "            color:  #000000;\n",
       "        }#T_561de56e_12b9_11ed_9d8b_00e04c681c3brow7_col5{\n",
       "            background-color:  #6c8ff1;\n",
       "            color:  #000000;\n",
       "        }#T_561de56e_12b9_11ed_9d8b_00e04c681c3brow7_col8{\n",
       "            background-color:  #90b2fe;\n",
       "            color:  #000000;\n",
       "        }#T_561de56e_12b9_11ed_9d8b_00e04c681c3brow7_col9{\n",
       "            background-color:  #ccd9ed;\n",
       "            color:  #000000;\n",
       "        }#T_561de56e_12b9_11ed_9d8b_00e04c681c3brow8_col4{\n",
       "            background-color:  #d8dce2;\n",
       "            color:  #000000;\n",
       "        }#T_561de56e_12b9_11ed_9d8b_00e04c681c3brow8_col5{\n",
       "            background-color:  #7a9df8;\n",
       "            color:  #000000;\n",
       "        }#T_561de56e_12b9_11ed_9d8b_00e04c681c3brow8_col7{\n",
       "            background-color:  #7b9ff9;\n",
       "            color:  #000000;\n",
       "        }#T_561de56e_12b9_11ed_9d8b_00e04c681c3brow8_col9{\n",
       "            background-color:  #cdd9ec;\n",
       "            color:  #000000;\n",
       "        }#T_561de56e_12b9_11ed_9d8b_00e04c681c3brow9_col0{\n",
       "            background-color:  #5673e0;\n",
       "            color:  #000000;\n",
       "        }#T_561de56e_12b9_11ed_9d8b_00e04c681c3brow9_col2{\n",
       "            background-color:  #4055c8;\n",
       "            color:  #f1f1f1;\n",
       "        }#T_561de56e_12b9_11ed_9d8b_00e04c681c3brow9_col7{\n",
       "            background-color:  #bfd3f6;\n",
       "            color:  #000000;\n",
       "        }#T_561de56e_12b9_11ed_9d8b_00e04c681c3brow9_col8{\n",
       "            background-color:  #cedaeb;\n",
       "            color:  #000000;\n",
       "        }</style><table id=\"T_561de56e_12b9_11ed_9d8b_00e04c681c3b\" ><thead>    <tr>        <th class=\"blank level0\" ></th>        <th class=\"col_heading level0 col0\" >rating</th>        <th class=\"col_heading level0 col1\" >label</th>        <th class=\"col_heading level0 col2\" >Avg_Prod_Rating</th>        <th class=\"col_heading level0 col3\" >Avg_user_rating</th>        <th class=\"col_heading level0 col4\" >Review_Len</th>        <th class=\"col_heading level0 col5\" >user_total_reviews</th>        <th class=\"col_heading level0 col6\" >compound</th>        <th class=\"col_heading level0 col7\" >number_Cap_Words</th>        <th class=\"col_heading level0 col8\" >number_digit_Words</th>        <th class=\"col_heading level0 col9\" >noun_count</th>    </tr></thead><tbody>\n",
       "                <tr>\n",
       "                        <th id=\"T_561de56e_12b9_11ed_9d8b_00e04c681c3blevel0_row0\" class=\"row_heading level0 row0\" >rating</th>\n",
       "                        <td id=\"T_561de56e_12b9_11ed_9d8b_00e04c681c3brow0_col0\" class=\"data row0 col0\" >1.000000</td>\n",
       "                        <td id=\"T_561de56e_12b9_11ed_9d8b_00e04c681c3brow0_col1\" class=\"data row0 col1\" >-0.023404</td>\n",
       "                        <td id=\"T_561de56e_12b9_11ed_9d8b_00e04c681c3brow0_col2\" class=\"data row0 col2\" >0.208791</td>\n",
       "                        <td id=\"T_561de56e_12b9_11ed_9d8b_00e04c681c3brow0_col3\" class=\"data row0 col3\" >0.798432</td>\n",
       "                        <td id=\"T_561de56e_12b9_11ed_9d8b_00e04c681c3brow0_col4\" class=\"data row0 col4\" >-0.110198</td>\n",
       "                        <td id=\"T_561de56e_12b9_11ed_9d8b_00e04c681c3brow0_col5\" class=\"data row0 col5\" >-0.049932</td>\n",
       "                        <td id=\"T_561de56e_12b9_11ed_9d8b_00e04c681c3brow0_col6\" class=\"data row0 col6\" >0.367471</td>\n",
       "                        <td id=\"T_561de56e_12b9_11ed_9d8b_00e04c681c3brow0_col7\" class=\"data row0 col7\" >-0.023673</td>\n",
       "                        <td id=\"T_561de56e_12b9_11ed_9d8b_00e04c681c3brow0_col8\" class=\"data row0 col8\" >-0.120430</td>\n",
       "                        <td id=\"T_561de56e_12b9_11ed_9d8b_00e04c681c3brow0_col9\" class=\"data row0 col9\" >-0.019415</td>\n",
       "            </tr>\n",
       "            <tr>\n",
       "                        <th id=\"T_561de56e_12b9_11ed_9d8b_00e04c681c3blevel0_row1\" class=\"row_heading level0 row1\" >label</th>\n",
       "                        <td id=\"T_561de56e_12b9_11ed_9d8b_00e04c681c3brow1_col0\" class=\"data row1 col0\" >-0.023404</td>\n",
       "                        <td id=\"T_561de56e_12b9_11ed_9d8b_00e04c681c3brow1_col1\" class=\"data row1 col1\" >1.000000</td>\n",
       "                        <td id=\"T_561de56e_12b9_11ed_9d8b_00e04c681c3brow1_col2\" class=\"data row1 col2\" >0.016465</td>\n",
       "                        <td id=\"T_561de56e_12b9_11ed_9d8b_00e04c681c3brow1_col3\" class=\"data row1 col3\" >-0.029670</td>\n",
       "                        <td id=\"T_561de56e_12b9_11ed_9d8b_00e04c681c3brow1_col4\" class=\"data row1 col4\" >-0.111525</td>\n",
       "                        <td id=\"T_561de56e_12b9_11ed_9d8b_00e04c681c3brow1_col5\" class=\"data row1 col5\" >-0.143839</td>\n",
       "                        <td id=\"T_561de56e_12b9_11ed_9d8b_00e04c681c3brow1_col6\" class=\"data row1 col6\" >-0.077660</td>\n",
       "                        <td id=\"T_561de56e_12b9_11ed_9d8b_00e04c681c3brow1_col7\" class=\"data row1 col7\" >-0.024290</td>\n",
       "                        <td id=\"T_561de56e_12b9_11ed_9d8b_00e04c681c3brow1_col8\" class=\"data row1 col8\" >-0.046182</td>\n",
       "                        <td id=\"T_561de56e_12b9_11ed_9d8b_00e04c681c3brow1_col9\" class=\"data row1 col9\" >-0.113020</td>\n",
       "            </tr>\n",
       "            <tr>\n",
       "                        <th id=\"T_561de56e_12b9_11ed_9d8b_00e04c681c3blevel0_row2\" class=\"row_heading level0 row2\" >Avg_Prod_Rating</th>\n",
       "                        <td id=\"T_561de56e_12b9_11ed_9d8b_00e04c681c3brow2_col0\" class=\"data row2 col0\" >0.208791</td>\n",
       "                        <td id=\"T_561de56e_12b9_11ed_9d8b_00e04c681c3brow2_col1\" class=\"data row2 col1\" >0.016465</td>\n",
       "                        <td id=\"T_561de56e_12b9_11ed_9d8b_00e04c681c3brow2_col2\" class=\"data row2 col2\" >1.000000</td>\n",
       "                        <td id=\"T_561de56e_12b9_11ed_9d8b_00e04c681c3brow2_col3\" class=\"data row2 col3\" >0.155143</td>\n",
       "                        <td id=\"T_561de56e_12b9_11ed_9d8b_00e04c681c3brow2_col4\" class=\"data row2 col4\" >-0.021297</td>\n",
       "                        <td id=\"T_561de56e_12b9_11ed_9d8b_00e04c681c3brow2_col5\" class=\"data row2 col5\" >-0.016918</td>\n",
       "                        <td id=\"T_561de56e_12b9_11ed_9d8b_00e04c681c3brow2_col6\" class=\"data row2 col6\" >0.048575</td>\n",
       "                        <td id=\"T_561de56e_12b9_11ed_9d8b_00e04c681c3brow2_col7\" class=\"data row2 col7\" >-0.004757</td>\n",
       "                        <td id=\"T_561de56e_12b9_11ed_9d8b_00e04c681c3brow2_col8\" class=\"data row2 col8\" >-0.031403</td>\n",
       "                        <td id=\"T_561de56e_12b9_11ed_9d8b_00e04c681c3brow2_col9\" class=\"data row2 col9\" >-0.007836</td>\n",
       "            </tr>\n",
       "            <tr>\n",
       "                        <th id=\"T_561de56e_12b9_11ed_9d8b_00e04c681c3blevel0_row3\" class=\"row_heading level0 row3\" >Avg_user_rating</th>\n",
       "                        <td id=\"T_561de56e_12b9_11ed_9d8b_00e04c681c3brow3_col0\" class=\"data row3 col0\" >0.798432</td>\n",
       "                        <td id=\"T_561de56e_12b9_11ed_9d8b_00e04c681c3brow3_col1\" class=\"data row3 col1\" >-0.029670</td>\n",
       "                        <td id=\"T_561de56e_12b9_11ed_9d8b_00e04c681c3brow3_col2\" class=\"data row3 col2\" >0.155143</td>\n",
       "                        <td id=\"T_561de56e_12b9_11ed_9d8b_00e04c681c3brow3_col3\" class=\"data row3 col3\" >1.000000</td>\n",
       "                        <td id=\"T_561de56e_12b9_11ed_9d8b_00e04c681c3brow3_col4\" class=\"data row3 col4\" >-0.111568</td>\n",
       "                        <td id=\"T_561de56e_12b9_11ed_9d8b_00e04c681c3brow3_col5\" class=\"data row3 col5\" >-0.062526</td>\n",
       "                        <td id=\"T_561de56e_12b9_11ed_9d8b_00e04c681c3brow3_col6\" class=\"data row3 col6\" >0.321583</td>\n",
       "                        <td id=\"T_561de56e_12b9_11ed_9d8b_00e04c681c3brow3_col7\" class=\"data row3 col7\" >-0.035764</td>\n",
       "                        <td id=\"T_561de56e_12b9_11ed_9d8b_00e04c681c3brow3_col8\" class=\"data row3 col8\" >-0.118026</td>\n",
       "                        <td id=\"T_561de56e_12b9_11ed_9d8b_00e04c681c3brow3_col9\" class=\"data row3 col9\" >-0.038051</td>\n",
       "            </tr>\n",
       "            <tr>\n",
       "                        <th id=\"T_561de56e_12b9_11ed_9d8b_00e04c681c3blevel0_row4\" class=\"row_heading level0 row4\" >Review_Len</th>\n",
       "                        <td id=\"T_561de56e_12b9_11ed_9d8b_00e04c681c3brow4_col0\" class=\"data row4 col0\" >-0.110198</td>\n",
       "                        <td id=\"T_561de56e_12b9_11ed_9d8b_00e04c681c3brow4_col1\" class=\"data row4 col1\" >-0.111525</td>\n",
       "                        <td id=\"T_561de56e_12b9_11ed_9d8b_00e04c681c3brow4_col2\" class=\"data row4 col2\" >-0.021297</td>\n",
       "                        <td id=\"T_561de56e_12b9_11ed_9d8b_00e04c681c3brow4_col3\" class=\"data row4 col3\" >-0.111568</td>\n",
       "                        <td id=\"T_561de56e_12b9_11ed_9d8b_00e04c681c3brow4_col4\" class=\"data row4 col4\" >1.000000</td>\n",
       "                        <td id=\"T_561de56e_12b9_11ed_9d8b_00e04c681c3brow4_col5\" class=\"data row4 col5\" >0.186806</td>\n",
       "                        <td id=\"T_561de56e_12b9_11ed_9d8b_00e04c681c3brow4_col6\" class=\"data row4 col6\" >0.208430</td>\n",
       "                        <td id=\"T_561de56e_12b9_11ed_9d8b_00e04c681c3brow4_col7\" class=\"data row4 col7\" >0.312288</td>\n",
       "                        <td id=\"T_561de56e_12b9_11ed_9d8b_00e04c681c3brow4_col8\" class=\"data row4 col8\" >0.423626</td>\n",
       "                        <td id=\"T_561de56e_12b9_11ed_9d8b_00e04c681c3brow4_col9\" class=\"data row4 col9\" >0.895840</td>\n",
       "            </tr>\n",
       "            <tr>\n",
       "                        <th id=\"T_561de56e_12b9_11ed_9d8b_00e04c681c3blevel0_row5\" class=\"row_heading level0 row5\" >user_total_reviews</th>\n",
       "                        <td id=\"T_561de56e_12b9_11ed_9d8b_00e04c681c3brow5_col0\" class=\"data row5 col0\" >-0.049932</td>\n",
       "                        <td id=\"T_561de56e_12b9_11ed_9d8b_00e04c681c3brow5_col1\" class=\"data row5 col1\" >-0.143839</td>\n",
       "                        <td id=\"T_561de56e_12b9_11ed_9d8b_00e04c681c3brow5_col2\" class=\"data row5 col2\" >-0.016918</td>\n",
       "                        <td id=\"T_561de56e_12b9_11ed_9d8b_00e04c681c3brow5_col3\" class=\"data row5 col3\" >-0.062526</td>\n",
       "                        <td id=\"T_561de56e_12b9_11ed_9d8b_00e04c681c3brow5_col4\" class=\"data row5 col4\" >0.186806</td>\n",
       "                        <td id=\"T_561de56e_12b9_11ed_9d8b_00e04c681c3brow5_col5\" class=\"data row5 col5\" >1.000000</td>\n",
       "                        <td id=\"T_561de56e_12b9_11ed_9d8b_00e04c681c3brow5_col6\" class=\"data row5 col6\" >0.062919</td>\n",
       "                        <td id=\"T_561de56e_12b9_11ed_9d8b_00e04c681c3brow5_col7\" class=\"data row5 col7\" >0.037142</td>\n",
       "                        <td id=\"T_561de56e_12b9_11ed_9d8b_00e04c681c3brow5_col8\" class=\"data row5 col8\" >0.080021</td>\n",
       "                        <td id=\"T_561de56e_12b9_11ed_9d8b_00e04c681c3brow5_col9\" class=\"data row5 col9\" >0.198703</td>\n",
       "            </tr>\n",
       "            <tr>\n",
       "                        <th id=\"T_561de56e_12b9_11ed_9d8b_00e04c681c3blevel0_row6\" class=\"row_heading level0 row6\" >compound</th>\n",
       "                        <td id=\"T_561de56e_12b9_11ed_9d8b_00e04c681c3brow6_col0\" class=\"data row6 col0\" >0.367471</td>\n",
       "                        <td id=\"T_561de56e_12b9_11ed_9d8b_00e04c681c3brow6_col1\" class=\"data row6 col1\" >-0.077660</td>\n",
       "                        <td id=\"T_561de56e_12b9_11ed_9d8b_00e04c681c3brow6_col2\" class=\"data row6 col2\" >0.048575</td>\n",
       "                        <td id=\"T_561de56e_12b9_11ed_9d8b_00e04c681c3brow6_col3\" class=\"data row6 col3\" >0.321583</td>\n",
       "                        <td id=\"T_561de56e_12b9_11ed_9d8b_00e04c681c3brow6_col4\" class=\"data row6 col4\" >0.208430</td>\n",
       "                        <td id=\"T_561de56e_12b9_11ed_9d8b_00e04c681c3brow6_col5\" class=\"data row6 col5\" >0.062919</td>\n",
       "                        <td id=\"T_561de56e_12b9_11ed_9d8b_00e04c681c3brow6_col6\" class=\"data row6 col6\" >1.000000</td>\n",
       "                        <td id=\"T_561de56e_12b9_11ed_9d8b_00e04c681c3brow6_col7\" class=\"data row6 col7\" >0.029084</td>\n",
       "                        <td id=\"T_561de56e_12b9_11ed_9d8b_00e04c681c3brow6_col8\" class=\"data row6 col8\" >0.034317</td>\n",
       "                        <td id=\"T_561de56e_12b9_11ed_9d8b_00e04c681c3brow6_col9\" class=\"data row6 col9\" >0.221511</td>\n",
       "            </tr>\n",
       "            <tr>\n",
       "                        <th id=\"T_561de56e_12b9_11ed_9d8b_00e04c681c3blevel0_row7\" class=\"row_heading level0 row7\" >number_Cap_Words</th>\n",
       "                        <td id=\"T_561de56e_12b9_11ed_9d8b_00e04c681c3brow7_col0\" class=\"data row7 col0\" >-0.023673</td>\n",
       "                        <td id=\"T_561de56e_12b9_11ed_9d8b_00e04c681c3brow7_col1\" class=\"data row7 col1\" >-0.024290</td>\n",
       "                        <td id=\"T_561de56e_12b9_11ed_9d8b_00e04c681c3brow7_col2\" class=\"data row7 col2\" >-0.004757</td>\n",
       "                        <td id=\"T_561de56e_12b9_11ed_9d8b_00e04c681c3brow7_col3\" class=\"data row7 col3\" >-0.035764</td>\n",
       "                        <td id=\"T_561de56e_12b9_11ed_9d8b_00e04c681c3brow7_col4\" class=\"data row7 col4\" >0.312288</td>\n",
       "                        <td id=\"T_561de56e_12b9_11ed_9d8b_00e04c681c3brow7_col5\" class=\"data row7 col5\" >0.037142</td>\n",
       "                        <td id=\"T_561de56e_12b9_11ed_9d8b_00e04c681c3brow7_col6\" class=\"data row7 col6\" >0.029084</td>\n",
       "                        <td id=\"T_561de56e_12b9_11ed_9d8b_00e04c681c3brow7_col7\" class=\"data row7 col7\" >1.000000</td>\n",
       "                        <td id=\"T_561de56e_12b9_11ed_9d8b_00e04c681c3brow7_col8\" class=\"data row7 col8\" >0.170901</td>\n",
       "                        <td id=\"T_561de56e_12b9_11ed_9d8b_00e04c681c3brow7_col9\" class=\"data row7 col9\" >0.375604</td>\n",
       "            </tr>\n",
       "            <tr>\n",
       "                        <th id=\"T_561de56e_12b9_11ed_9d8b_00e04c681c3blevel0_row8\" class=\"row_heading level0 row8\" >number_digit_Words</th>\n",
       "                        <td id=\"T_561de56e_12b9_11ed_9d8b_00e04c681c3brow8_col0\" class=\"data row8 col0\" >-0.120430</td>\n",
       "                        <td id=\"T_561de56e_12b9_11ed_9d8b_00e04c681c3brow8_col1\" class=\"data row8 col1\" >-0.046182</td>\n",
       "                        <td id=\"T_561de56e_12b9_11ed_9d8b_00e04c681c3brow8_col2\" class=\"data row8 col2\" >-0.031403</td>\n",
       "                        <td id=\"T_561de56e_12b9_11ed_9d8b_00e04c681c3brow8_col3\" class=\"data row8 col3\" >-0.118026</td>\n",
       "                        <td id=\"T_561de56e_12b9_11ed_9d8b_00e04c681c3brow8_col4\" class=\"data row8 col4\" >0.423626</td>\n",
       "                        <td id=\"T_561de56e_12b9_11ed_9d8b_00e04c681c3brow8_col5\" class=\"data row8 col5\" >0.080021</td>\n",
       "                        <td id=\"T_561de56e_12b9_11ed_9d8b_00e04c681c3brow8_col6\" class=\"data row8 col6\" >0.034317</td>\n",
       "                        <td id=\"T_561de56e_12b9_11ed_9d8b_00e04c681c3brow8_col7\" class=\"data row8 col7\" >0.170901</td>\n",
       "                        <td id=\"T_561de56e_12b9_11ed_9d8b_00e04c681c3brow8_col8\" class=\"data row8 col8\" >1.000000</td>\n",
       "                        <td id=\"T_561de56e_12b9_11ed_9d8b_00e04c681c3brow8_col9\" class=\"data row8 col9\" >0.382002</td>\n",
       "            </tr>\n",
       "            <tr>\n",
       "                        <th id=\"T_561de56e_12b9_11ed_9d8b_00e04c681c3blevel0_row9\" class=\"row_heading level0 row9\" >noun_count</th>\n",
       "                        <td id=\"T_561de56e_12b9_11ed_9d8b_00e04c681c3brow9_col0\" class=\"data row9 col0\" >-0.019415</td>\n",
       "                        <td id=\"T_561de56e_12b9_11ed_9d8b_00e04c681c3brow9_col1\" class=\"data row9 col1\" >-0.113020</td>\n",
       "                        <td id=\"T_561de56e_12b9_11ed_9d8b_00e04c681c3brow9_col2\" class=\"data row9 col2\" >-0.007836</td>\n",
       "                        <td id=\"T_561de56e_12b9_11ed_9d8b_00e04c681c3brow9_col3\" class=\"data row9 col3\" >-0.038051</td>\n",
       "                        <td id=\"T_561de56e_12b9_11ed_9d8b_00e04c681c3brow9_col4\" class=\"data row9 col4\" >0.895840</td>\n",
       "                        <td id=\"T_561de56e_12b9_11ed_9d8b_00e04c681c3brow9_col5\" class=\"data row9 col5\" >0.198703</td>\n",
       "                        <td id=\"T_561de56e_12b9_11ed_9d8b_00e04c681c3brow9_col6\" class=\"data row9 col6\" >0.221511</td>\n",
       "                        <td id=\"T_561de56e_12b9_11ed_9d8b_00e04c681c3brow9_col7\" class=\"data row9 col7\" >0.375604</td>\n",
       "                        <td id=\"T_561de56e_12b9_11ed_9d8b_00e04c681c3brow9_col8\" class=\"data row9 col8\" >0.382002</td>\n",
       "                        <td id=\"T_561de56e_12b9_11ed_9d8b_00e04c681c3brow9_col9\" class=\"data row9 col9\" >1.000000</td>\n",
       "            </tr>\n",
       "    </tbody></table>"
      ],
      "text/plain": [
       "<pandas.io.formats.style.Styler at 0x2a62e61e240>"
      ]
     },
     "execution_count": 171,
     "metadata": {},
     "output_type": "execute_result"
    }
   ],
   "source": [
    "import pandas as pd\n",
    "import numpy as np\n",
    "\n",
    "rs = np.random.RandomState(0)\n",
    "corr = corr_final_data.corr()\n",
    "corr.style.background_gradient(cmap='coolwarm')\n",
    "# 'RdBu_r' & 'BrBG' are other good diverging colormaps"
   ]
  },
  {
   "cell_type": "code",
   "execution_count": 173,
   "id": "thorough-infrared",
   "metadata": {},
   "outputs": [
    {
     "data": {
      "text/html": [
       "<div>\n",
       "<style scoped>\n",
       "    .dataframe tbody tr th:only-of-type {\n",
       "        vertical-align: middle;\n",
       "    }\n",
       "\n",
       "    .dataframe tbody tr th {\n",
       "        vertical-align: top;\n",
       "    }\n",
       "\n",
       "    .dataframe thead th {\n",
       "        text-align: right;\n",
       "    }\n",
       "</style>\n",
       "<table border=\"1\" class=\"dataframe\">\n",
       "  <thead>\n",
       "    <tr style=\"text-align: right;\">\n",
       "      <th></th>\n",
       "      <th>rating</th>\n",
       "      <th>Avg_Prod_Rating</th>\n",
       "      <th>Avg_user_rating</th>\n",
       "      <th>Review_Len</th>\n",
       "      <th>user_total_reviews</th>\n",
       "      <th>corpus</th>\n",
       "      <th>compound</th>\n",
       "      <th>number_Cap_Words</th>\n",
       "      <th>number_digit_Words</th>\n",
       "      <th>noun_count</th>\n",
       "    </tr>\n",
       "  </thead>\n",
       "  <tbody>\n",
       "    <tr>\n",
       "      <th>0</th>\n",
       "      <td>3.0</td>\n",
       "      <td>3.954839</td>\n",
       "      <td>4.500000</td>\n",
       "      <td>215</td>\n",
       "      <td>26</td>\n",
       "      <td>food snack selection popular greek dishes appe...</td>\n",
       "      <td>0.6486</td>\n",
       "      <td>0</td>\n",
       "      <td>0</td>\n",
       "      <td>3</td>\n",
       "    </tr>\n",
       "    <tr>\n",
       "      <th>1</th>\n",
       "      <td>3.0</td>\n",
       "      <td>3.954839</td>\n",
       "      <td>3.000000</td>\n",
       "      <td>269</td>\n",
       "      <td>1</td>\n",
       "      <td>little place soho wonderful lamb sandwich glas...</td>\n",
       "      <td>0.5446</td>\n",
       "      <td>0</td>\n",
       "      <td>0</td>\n",
       "      <td>5</td>\n",
       "    </tr>\n",
       "    <tr>\n",
       "      <th>2</th>\n",
       "      <td>4.0</td>\n",
       "      <td>3.954839</td>\n",
       "      <td>4.000000</td>\n",
       "      <td>178</td>\n",
       "      <td>2</td>\n",
       "      <td>ordered lunch snack last friday time nothing m...</td>\n",
       "      <td>0.2249</td>\n",
       "      <td>0</td>\n",
       "      <td>1</td>\n",
       "      <td>2</td>\n",
       "    </tr>\n",
       "    <tr>\n",
       "      <th>3</th>\n",
       "      <td>4.0</td>\n",
       "      <td>3.954839</td>\n",
       "      <td>4.000000</td>\n",
       "      <td>491</td>\n",
       "      <td>1</td>\n",
       "      <td>beautiful quaint little restaurant pretty stre...</td>\n",
       "      <td>0.9772</td>\n",
       "      <td>0</td>\n",
       "      <td>0</td>\n",
       "      <td>6</td>\n",
       "    </tr>\n",
       "    <tr>\n",
       "      <th>4</th>\n",
       "      <td>4.0</td>\n",
       "      <td>3.954839</td>\n",
       "      <td>4.333333</td>\n",
       "      <td>596</td>\n",
       "      <td>3</td>\n",
       "      <td>snack great place casual sit lunch especially ...</td>\n",
       "      <td>0.9756</td>\n",
       "      <td>0</td>\n",
       "      <td>0</td>\n",
       "      <td>14</td>\n",
       "    </tr>\n",
       "  </tbody>\n",
       "</table>\n",
       "</div>"
      ],
      "text/plain": [
       "   rating  Avg_Prod_Rating  Avg_user_rating  Review_Len  user_total_reviews  \\\n",
       "0     3.0         3.954839         4.500000         215                  26   \n",
       "1     3.0         3.954839         3.000000         269                   1   \n",
       "2     4.0         3.954839         4.000000         178                   2   \n",
       "3     4.0         3.954839         4.000000         491                   1   \n",
       "4     4.0         3.954839         4.333333         596                   3   \n",
       "\n",
       "                                              corpus  compound  \\\n",
       "0  food snack selection popular greek dishes appe...    0.6486   \n",
       "1  little place soho wonderful lamb sandwich glas...    0.5446   \n",
       "2  ordered lunch snack last friday time nothing m...    0.2249   \n",
       "3  beautiful quaint little restaurant pretty stre...    0.9772   \n",
       "4  snack great place casual sit lunch especially ...    0.9756   \n",
       "\n",
       "   number_Cap_Words  number_digit_Words  noun_count  \n",
       "0                 0                   0           3  \n",
       "1                 0                   0           5  \n",
       "2                 0                   1           2  \n",
       "3                 0                   0           6  \n",
       "4                 0                   0          14  "
      ]
     },
     "execution_count": 173,
     "metadata": {},
     "output_type": "execute_result"
    }
   ],
   "source": [
    "X_final_data=data.drop(['ex_id','user_id','prod_id','date','review','label','neg','neu','pos'],axis=1)\n",
    "X_final_data.head()"
   ]
  },
  {
   "cell_type": "code",
   "execution_count": 174,
   "id": "tropical-picking",
   "metadata": {},
   "outputs": [
    {
     "data": {
      "text/html": [
       "<style  type=\"text/css\" >\n",
       "#T_a09445a2_12b9_11ed_a5e4_00e04c681c3brow0_col0,#T_a09445a2_12b9_11ed_a5e4_00e04c681c3brow1_col1,#T_a09445a2_12b9_11ed_a5e4_00e04c681c3brow2_col2,#T_a09445a2_12b9_11ed_a5e4_00e04c681c3brow3_col3,#T_a09445a2_12b9_11ed_a5e4_00e04c681c3brow4_col4,#T_a09445a2_12b9_11ed_a5e4_00e04c681c3brow5_col5,#T_a09445a2_12b9_11ed_a5e4_00e04c681c3brow6_col6,#T_a09445a2_12b9_11ed_a5e4_00e04c681c3brow7_col7,#T_a09445a2_12b9_11ed_a5e4_00e04c681c3brow8_col8{\n",
       "            background-color:  #b40426;\n",
       "            color:  #f1f1f1;\n",
       "        }#T_a09445a2_12b9_11ed_a5e4_00e04c681c3brow0_col1{\n",
       "            background-color:  #86a9fc;\n",
       "            color:  #000000;\n",
       "        }#T_a09445a2_12b9_11ed_a5e4_00e04c681c3brow0_col2,#T_a09445a2_12b9_11ed_a5e4_00e04c681c3brow2_col0{\n",
       "            background-color:  #ea7b60;\n",
       "            color:  #000000;\n",
       "        }#T_a09445a2_12b9_11ed_a5e4_00e04c681c3brow0_col3,#T_a09445a2_12b9_11ed_a5e4_00e04c681c3brow0_col7,#T_a09445a2_12b9_11ed_a5e4_00e04c681c3brow2_col3,#T_a09445a2_12b9_11ed_a5e4_00e04c681c3brow2_col4,#T_a09445a2_12b9_11ed_a5e4_00e04c681c3brow2_col6,#T_a09445a2_12b9_11ed_a5e4_00e04c681c3brow2_col7,#T_a09445a2_12b9_11ed_a5e4_00e04c681c3brow2_col8,#T_a09445a2_12b9_11ed_a5e4_00e04c681c3brow6_col5,#T_a09445a2_12b9_11ed_a5e4_00e04c681c3brow7_col0,#T_a09445a2_12b9_11ed_a5e4_00e04c681c3brow7_col1,#T_a09445a2_12b9_11ed_a5e4_00e04c681c3brow7_col2{\n",
       "            background-color:  #3b4cc0;\n",
       "            color:  #f1f1f1;\n",
       "        }#T_a09445a2_12b9_11ed_a5e4_00e04c681c3brow0_col4,#T_a09445a2_12b9_11ed_a5e4_00e04c681c3brow4_col1{\n",
       "            background-color:  #3e51c5;\n",
       "            color:  #f1f1f1;\n",
       "        }#T_a09445a2_12b9_11ed_a5e4_00e04c681c3brow0_col5{\n",
       "            background-color:  #afcafc;\n",
       "            color:  #000000;\n",
       "        }#T_a09445a2_12b9_11ed_a5e4_00e04c681c3brow0_col6,#T_a09445a2_12b9_11ed_a5e4_00e04c681c3brow3_col0,#T_a09445a2_12b9_11ed_a5e4_00e04c681c3brow3_col1{\n",
       "            background-color:  #3d50c3;\n",
       "            color:  #f1f1f1;\n",
       "        }#T_a09445a2_12b9_11ed_a5e4_00e04c681c3brow0_col8{\n",
       "            background-color:  #3f53c6;\n",
       "            color:  #f1f1f1;\n",
       "        }#T_a09445a2_12b9_11ed_a5e4_00e04c681c3brow1_col0{\n",
       "            background-color:  #9dbdff;\n",
       "            color:  #000000;\n",
       "        }#T_a09445a2_12b9_11ed_a5e4_00e04c681c3brow1_col2,#T_a09445a2_12b9_11ed_a5e4_00e04c681c3brow8_col4{\n",
       "            background-color:  #8badfd;\n",
       "            color:  #000000;\n",
       "        }#T_a09445a2_12b9_11ed_a5e4_00e04c681c3brow1_col3,#T_a09445a2_12b9_11ed_a5e4_00e04c681c3brow1_col7{\n",
       "            background-color:  #536edd;\n",
       "            color:  #000000;\n",
       "        }#T_a09445a2_12b9_11ed_a5e4_00e04c681c3brow1_col4{\n",
       "            background-color:  #465ecf;\n",
       "            color:  #f1f1f1;\n",
       "        }#T_a09445a2_12b9_11ed_a5e4_00e04c681c3brow1_col5,#T_a09445a2_12b9_11ed_a5e4_00e04c681c3brow8_col1{\n",
       "            background-color:  #4055c8;\n",
       "            color:  #f1f1f1;\n",
       "        }#T_a09445a2_12b9_11ed_a5e4_00e04c681c3brow1_col6,#T_a09445a2_12b9_11ed_a5e4_00e04c681c3brow1_col8{\n",
       "            background-color:  #4358cb;\n",
       "            color:  #f1f1f1;\n",
       "        }#T_a09445a2_12b9_11ed_a5e4_00e04c681c3brow2_col1{\n",
       "            background-color:  #7597f6;\n",
       "            color:  #000000;\n",
       "        }#T_a09445a2_12b9_11ed_a5e4_00e04c681c3brow2_col5{\n",
       "            background-color:  #9fbfff;\n",
       "            color:  #000000;\n",
       "        }#T_a09445a2_12b9_11ed_a5e4_00e04c681c3brow3_col2,#T_a09445a2_12b9_11ed_a5e4_00e04c681c3brow7_col5{\n",
       "            background-color:  #3c4ec2;\n",
       "            color:  #f1f1f1;\n",
       "        }#T_a09445a2_12b9_11ed_a5e4_00e04c681c3brow3_col4{\n",
       "            background-color:  #88abfd;\n",
       "            color:  #000000;\n",
       "        }#T_a09445a2_12b9_11ed_a5e4_00e04c681c3brow3_col5{\n",
       "            background-color:  #7699f6;\n",
       "            color:  #000000;\n",
       "        }#T_a09445a2_12b9_11ed_a5e4_00e04c681c3brow3_col6{\n",
       "            background-color:  #abc8fd;\n",
       "            color:  #000000;\n",
       "        }#T_a09445a2_12b9_11ed_a5e4_00e04c681c3brow3_col7{\n",
       "            background-color:  #d9dce1;\n",
       "            color:  #000000;\n",
       "        }#T_a09445a2_12b9_11ed_a5e4_00e04c681c3brow3_col8{\n",
       "            background-color:  #d65244;\n",
       "            color:  #000000;\n",
       "        }#T_a09445a2_12b9_11ed_a5e4_00e04c681c3brow4_col0,#T_a09445a2_12b9_11ed_a5e4_00e04c681c3brow5_col6{\n",
       "            background-color:  #4e68d8;\n",
       "            color:  #000000;\n",
       "        }#T_a09445a2_12b9_11ed_a5e4_00e04c681c3brow4_col2{\n",
       "            background-color:  #4961d2;\n",
       "            color:  #f1f1f1;\n",
       "        }#T_a09445a2_12b9_11ed_a5e4_00e04c681c3brow4_col3{\n",
       "            background-color:  #93b5fe;\n",
       "            color:  #000000;\n",
       "        }#T_a09445a2_12b9_11ed_a5e4_00e04c681c3brow4_col5{\n",
       "            background-color:  #445acc;\n",
       "            color:  #f1f1f1;\n",
       "        }#T_a09445a2_12b9_11ed_a5e4_00e04c681c3brow4_col6,#T_a09445a2_12b9_11ed_a5e4_00e04c681c3brow6_col2,#T_a09445a2_12b9_11ed_a5e4_00e04c681c3brow8_col2{\n",
       "            background-color:  #506bda;\n",
       "            color:  #000000;\n",
       "        }#T_a09445a2_12b9_11ed_a5e4_00e04c681c3brow4_col7{\n",
       "            background-color:  #7396f5;\n",
       "            color:  #000000;\n",
       "        }#T_a09445a2_12b9_11ed_a5e4_00e04c681c3brow4_col8{\n",
       "            background-color:  #85a8fc;\n",
       "            color:  #000000;\n",
       "        }#T_a09445a2_12b9_11ed_a5e4_00e04c681c3brow5_col0{\n",
       "            background-color:  #cbd8ee;\n",
       "            color:  #000000;\n",
       "        }#T_a09445a2_12b9_11ed_a5e4_00e04c681c3brow5_col1{\n",
       "            background-color:  #516ddb;\n",
       "            color:  #000000;\n",
       "        }#T_a09445a2_12b9_11ed_a5e4_00e04c681c3brow5_col2{\n",
       "            background-color:  #bed2f6;\n",
       "            color:  #000000;\n",
       "        }#T_a09445a2_12b9_11ed_a5e4_00e04c681c3brow5_col3{\n",
       "            background-color:  #9abbff;\n",
       "            color:  #000000;\n",
       "        }#T_a09445a2_12b9_11ed_a5e4_00e04c681c3brow5_col4{\n",
       "            background-color:  #5f7fe8;\n",
       "            color:  #000000;\n",
       "        }#T_a09445a2_12b9_11ed_a5e4_00e04c681c3brow5_col7{\n",
       "            background-color:  #6687ed;\n",
       "            color:  #000000;\n",
       "        }#T_a09445a2_12b9_11ed_a5e4_00e04c681c3brow5_col8{\n",
       "            background-color:  #8db0fe;\n",
       "            color:  #000000;\n",
       "        }#T_a09445a2_12b9_11ed_a5e4_00e04c681c3brow6_col0{\n",
       "            background-color:  #5572df;\n",
       "            color:  #000000;\n",
       "        }#T_a09445a2_12b9_11ed_a5e4_00e04c681c3brow6_col1{\n",
       "            background-color:  #4257c9;\n",
       "            color:  #f1f1f1;\n",
       "        }#T_a09445a2_12b9_11ed_a5e4_00e04c681c3brow6_col3{\n",
       "            background-color:  #bad0f8;\n",
       "            color:  #000000;\n",
       "        }#T_a09445a2_12b9_11ed_a5e4_00e04c681c3brow6_col4{\n",
       "            background-color:  #5875e1;\n",
       "            color:  #000000;\n",
       "        }#T_a09445a2_12b9_11ed_a5e4_00e04c681c3brow6_col7{\n",
       "            background-color:  #90b2fe;\n",
       "            color:  #000000;\n",
       "        }#T_a09445a2_12b9_11ed_a5e4_00e04c681c3brow6_col8{\n",
       "            background-color:  #c0d4f5;\n",
       "            color:  #000000;\n",
       "        }#T_a09445a2_12b9_11ed_a5e4_00e04c681c3brow7_col3{\n",
       "            background-color:  #d8dce2;\n",
       "            color:  #000000;\n",
       "        }#T_a09445a2_12b9_11ed_a5e4_00e04c681c3brow7_col4{\n",
       "            background-color:  #6485ec;\n",
       "            color:  #000000;\n",
       "        }#T_a09445a2_12b9_11ed_a5e4_00e04c681c3brow7_col6{\n",
       "            background-color:  #7b9ff9;\n",
       "            color:  #000000;\n",
       "        }#T_a09445a2_12b9_11ed_a5e4_00e04c681c3brow7_col8{\n",
       "            background-color:  #c1d4f4;\n",
       "            color:  #000000;\n",
       "        }#T_a09445a2_12b9_11ed_a5e4_00e04c681c3brow8_col0{\n",
       "            background-color:  #5673e0;\n",
       "            color:  #000000;\n",
       "        }#T_a09445a2_12b9_11ed_a5e4_00e04c681c3brow8_col3{\n",
       "            background-color:  #d44e41;\n",
       "            color:  #000000;\n",
       "        }#T_a09445a2_12b9_11ed_a5e4_00e04c681c3brow8_col5{\n",
       "            background-color:  #7a9df8;\n",
       "            color:  #000000;\n",
       "        }#T_a09445a2_12b9_11ed_a5e4_00e04c681c3brow8_col6{\n",
       "            background-color:  #bfd3f6;\n",
       "            color:  #000000;\n",
       "        }#T_a09445a2_12b9_11ed_a5e4_00e04c681c3brow8_col7{\n",
       "            background-color:  #cedaeb;\n",
       "            color:  #000000;\n",
       "        }</style><table id=\"T_a09445a2_12b9_11ed_a5e4_00e04c681c3b\" ><thead>    <tr>        <th class=\"blank level0\" ></th>        <th class=\"col_heading level0 col0\" >rating</th>        <th class=\"col_heading level0 col1\" >Avg_Prod_Rating</th>        <th class=\"col_heading level0 col2\" >Avg_user_rating</th>        <th class=\"col_heading level0 col3\" >Review_Len</th>        <th class=\"col_heading level0 col4\" >user_total_reviews</th>        <th class=\"col_heading level0 col5\" >compound</th>        <th class=\"col_heading level0 col6\" >number_Cap_Words</th>        <th class=\"col_heading level0 col7\" >number_digit_Words</th>        <th class=\"col_heading level0 col8\" >noun_count</th>    </tr></thead><tbody>\n",
       "                <tr>\n",
       "                        <th id=\"T_a09445a2_12b9_11ed_a5e4_00e04c681c3blevel0_row0\" class=\"row_heading level0 row0\" >rating</th>\n",
       "                        <td id=\"T_a09445a2_12b9_11ed_a5e4_00e04c681c3brow0_col0\" class=\"data row0 col0\" >1.000000</td>\n",
       "                        <td id=\"T_a09445a2_12b9_11ed_a5e4_00e04c681c3brow0_col1\" class=\"data row0 col1\" >0.208791</td>\n",
       "                        <td id=\"T_a09445a2_12b9_11ed_a5e4_00e04c681c3brow0_col2\" class=\"data row0 col2\" >0.798432</td>\n",
       "                        <td id=\"T_a09445a2_12b9_11ed_a5e4_00e04c681c3brow0_col3\" class=\"data row0 col3\" >-0.110198</td>\n",
       "                        <td id=\"T_a09445a2_12b9_11ed_a5e4_00e04c681c3brow0_col4\" class=\"data row0 col4\" >-0.049932</td>\n",
       "                        <td id=\"T_a09445a2_12b9_11ed_a5e4_00e04c681c3brow0_col5\" class=\"data row0 col5\" >0.367471</td>\n",
       "                        <td id=\"T_a09445a2_12b9_11ed_a5e4_00e04c681c3brow0_col6\" class=\"data row0 col6\" >-0.023673</td>\n",
       "                        <td id=\"T_a09445a2_12b9_11ed_a5e4_00e04c681c3brow0_col7\" class=\"data row0 col7\" >-0.120430</td>\n",
       "                        <td id=\"T_a09445a2_12b9_11ed_a5e4_00e04c681c3brow0_col8\" class=\"data row0 col8\" >-0.019415</td>\n",
       "            </tr>\n",
       "            <tr>\n",
       "                        <th id=\"T_a09445a2_12b9_11ed_a5e4_00e04c681c3blevel0_row1\" class=\"row_heading level0 row1\" >Avg_Prod_Rating</th>\n",
       "                        <td id=\"T_a09445a2_12b9_11ed_a5e4_00e04c681c3brow1_col0\" class=\"data row1 col0\" >0.208791</td>\n",
       "                        <td id=\"T_a09445a2_12b9_11ed_a5e4_00e04c681c3brow1_col1\" class=\"data row1 col1\" >1.000000</td>\n",
       "                        <td id=\"T_a09445a2_12b9_11ed_a5e4_00e04c681c3brow1_col2\" class=\"data row1 col2\" >0.155143</td>\n",
       "                        <td id=\"T_a09445a2_12b9_11ed_a5e4_00e04c681c3brow1_col3\" class=\"data row1 col3\" >-0.021297</td>\n",
       "                        <td id=\"T_a09445a2_12b9_11ed_a5e4_00e04c681c3brow1_col4\" class=\"data row1 col4\" >-0.016918</td>\n",
       "                        <td id=\"T_a09445a2_12b9_11ed_a5e4_00e04c681c3brow1_col5\" class=\"data row1 col5\" >0.048575</td>\n",
       "                        <td id=\"T_a09445a2_12b9_11ed_a5e4_00e04c681c3brow1_col6\" class=\"data row1 col6\" >-0.004757</td>\n",
       "                        <td id=\"T_a09445a2_12b9_11ed_a5e4_00e04c681c3brow1_col7\" class=\"data row1 col7\" >-0.031403</td>\n",
       "                        <td id=\"T_a09445a2_12b9_11ed_a5e4_00e04c681c3brow1_col8\" class=\"data row1 col8\" >-0.007836</td>\n",
       "            </tr>\n",
       "            <tr>\n",
       "                        <th id=\"T_a09445a2_12b9_11ed_a5e4_00e04c681c3blevel0_row2\" class=\"row_heading level0 row2\" >Avg_user_rating</th>\n",
       "                        <td id=\"T_a09445a2_12b9_11ed_a5e4_00e04c681c3brow2_col0\" class=\"data row2 col0\" >0.798432</td>\n",
       "                        <td id=\"T_a09445a2_12b9_11ed_a5e4_00e04c681c3brow2_col1\" class=\"data row2 col1\" >0.155143</td>\n",
       "                        <td id=\"T_a09445a2_12b9_11ed_a5e4_00e04c681c3brow2_col2\" class=\"data row2 col2\" >1.000000</td>\n",
       "                        <td id=\"T_a09445a2_12b9_11ed_a5e4_00e04c681c3brow2_col3\" class=\"data row2 col3\" >-0.111568</td>\n",
       "                        <td id=\"T_a09445a2_12b9_11ed_a5e4_00e04c681c3brow2_col4\" class=\"data row2 col4\" >-0.062526</td>\n",
       "                        <td id=\"T_a09445a2_12b9_11ed_a5e4_00e04c681c3brow2_col5\" class=\"data row2 col5\" >0.321583</td>\n",
       "                        <td id=\"T_a09445a2_12b9_11ed_a5e4_00e04c681c3brow2_col6\" class=\"data row2 col6\" >-0.035764</td>\n",
       "                        <td id=\"T_a09445a2_12b9_11ed_a5e4_00e04c681c3brow2_col7\" class=\"data row2 col7\" >-0.118026</td>\n",
       "                        <td id=\"T_a09445a2_12b9_11ed_a5e4_00e04c681c3brow2_col8\" class=\"data row2 col8\" >-0.038051</td>\n",
       "            </tr>\n",
       "            <tr>\n",
       "                        <th id=\"T_a09445a2_12b9_11ed_a5e4_00e04c681c3blevel0_row3\" class=\"row_heading level0 row3\" >Review_Len</th>\n",
       "                        <td id=\"T_a09445a2_12b9_11ed_a5e4_00e04c681c3brow3_col0\" class=\"data row3 col0\" >-0.110198</td>\n",
       "                        <td id=\"T_a09445a2_12b9_11ed_a5e4_00e04c681c3brow3_col1\" class=\"data row3 col1\" >-0.021297</td>\n",
       "                        <td id=\"T_a09445a2_12b9_11ed_a5e4_00e04c681c3brow3_col2\" class=\"data row3 col2\" >-0.111568</td>\n",
       "                        <td id=\"T_a09445a2_12b9_11ed_a5e4_00e04c681c3brow3_col3\" class=\"data row3 col3\" >1.000000</td>\n",
       "                        <td id=\"T_a09445a2_12b9_11ed_a5e4_00e04c681c3brow3_col4\" class=\"data row3 col4\" >0.186806</td>\n",
       "                        <td id=\"T_a09445a2_12b9_11ed_a5e4_00e04c681c3brow3_col5\" class=\"data row3 col5\" >0.208430</td>\n",
       "                        <td id=\"T_a09445a2_12b9_11ed_a5e4_00e04c681c3brow3_col6\" class=\"data row3 col6\" >0.312288</td>\n",
       "                        <td id=\"T_a09445a2_12b9_11ed_a5e4_00e04c681c3brow3_col7\" class=\"data row3 col7\" >0.423626</td>\n",
       "                        <td id=\"T_a09445a2_12b9_11ed_a5e4_00e04c681c3brow3_col8\" class=\"data row3 col8\" >0.895840</td>\n",
       "            </tr>\n",
       "            <tr>\n",
       "                        <th id=\"T_a09445a2_12b9_11ed_a5e4_00e04c681c3blevel0_row4\" class=\"row_heading level0 row4\" >user_total_reviews</th>\n",
       "                        <td id=\"T_a09445a2_12b9_11ed_a5e4_00e04c681c3brow4_col0\" class=\"data row4 col0\" >-0.049932</td>\n",
       "                        <td id=\"T_a09445a2_12b9_11ed_a5e4_00e04c681c3brow4_col1\" class=\"data row4 col1\" >-0.016918</td>\n",
       "                        <td id=\"T_a09445a2_12b9_11ed_a5e4_00e04c681c3brow4_col2\" class=\"data row4 col2\" >-0.062526</td>\n",
       "                        <td id=\"T_a09445a2_12b9_11ed_a5e4_00e04c681c3brow4_col3\" class=\"data row4 col3\" >0.186806</td>\n",
       "                        <td id=\"T_a09445a2_12b9_11ed_a5e4_00e04c681c3brow4_col4\" class=\"data row4 col4\" >1.000000</td>\n",
       "                        <td id=\"T_a09445a2_12b9_11ed_a5e4_00e04c681c3brow4_col5\" class=\"data row4 col5\" >0.062919</td>\n",
       "                        <td id=\"T_a09445a2_12b9_11ed_a5e4_00e04c681c3brow4_col6\" class=\"data row4 col6\" >0.037142</td>\n",
       "                        <td id=\"T_a09445a2_12b9_11ed_a5e4_00e04c681c3brow4_col7\" class=\"data row4 col7\" >0.080021</td>\n",
       "                        <td id=\"T_a09445a2_12b9_11ed_a5e4_00e04c681c3brow4_col8\" class=\"data row4 col8\" >0.198703</td>\n",
       "            </tr>\n",
       "            <tr>\n",
       "                        <th id=\"T_a09445a2_12b9_11ed_a5e4_00e04c681c3blevel0_row5\" class=\"row_heading level0 row5\" >compound</th>\n",
       "                        <td id=\"T_a09445a2_12b9_11ed_a5e4_00e04c681c3brow5_col0\" class=\"data row5 col0\" >0.367471</td>\n",
       "                        <td id=\"T_a09445a2_12b9_11ed_a5e4_00e04c681c3brow5_col1\" class=\"data row5 col1\" >0.048575</td>\n",
       "                        <td id=\"T_a09445a2_12b9_11ed_a5e4_00e04c681c3brow5_col2\" class=\"data row5 col2\" >0.321583</td>\n",
       "                        <td id=\"T_a09445a2_12b9_11ed_a5e4_00e04c681c3brow5_col3\" class=\"data row5 col3\" >0.208430</td>\n",
       "                        <td id=\"T_a09445a2_12b9_11ed_a5e4_00e04c681c3brow5_col4\" class=\"data row5 col4\" >0.062919</td>\n",
       "                        <td id=\"T_a09445a2_12b9_11ed_a5e4_00e04c681c3brow5_col5\" class=\"data row5 col5\" >1.000000</td>\n",
       "                        <td id=\"T_a09445a2_12b9_11ed_a5e4_00e04c681c3brow5_col6\" class=\"data row5 col6\" >0.029084</td>\n",
       "                        <td id=\"T_a09445a2_12b9_11ed_a5e4_00e04c681c3brow5_col7\" class=\"data row5 col7\" >0.034317</td>\n",
       "                        <td id=\"T_a09445a2_12b9_11ed_a5e4_00e04c681c3brow5_col8\" class=\"data row5 col8\" >0.221511</td>\n",
       "            </tr>\n",
       "            <tr>\n",
       "                        <th id=\"T_a09445a2_12b9_11ed_a5e4_00e04c681c3blevel0_row6\" class=\"row_heading level0 row6\" >number_Cap_Words</th>\n",
       "                        <td id=\"T_a09445a2_12b9_11ed_a5e4_00e04c681c3brow6_col0\" class=\"data row6 col0\" >-0.023673</td>\n",
       "                        <td id=\"T_a09445a2_12b9_11ed_a5e4_00e04c681c3brow6_col1\" class=\"data row6 col1\" >-0.004757</td>\n",
       "                        <td id=\"T_a09445a2_12b9_11ed_a5e4_00e04c681c3brow6_col2\" class=\"data row6 col2\" >-0.035764</td>\n",
       "                        <td id=\"T_a09445a2_12b9_11ed_a5e4_00e04c681c3brow6_col3\" class=\"data row6 col3\" >0.312288</td>\n",
       "                        <td id=\"T_a09445a2_12b9_11ed_a5e4_00e04c681c3brow6_col4\" class=\"data row6 col4\" >0.037142</td>\n",
       "                        <td id=\"T_a09445a2_12b9_11ed_a5e4_00e04c681c3brow6_col5\" class=\"data row6 col5\" >0.029084</td>\n",
       "                        <td id=\"T_a09445a2_12b9_11ed_a5e4_00e04c681c3brow6_col6\" class=\"data row6 col6\" >1.000000</td>\n",
       "                        <td id=\"T_a09445a2_12b9_11ed_a5e4_00e04c681c3brow6_col7\" class=\"data row6 col7\" >0.170901</td>\n",
       "                        <td id=\"T_a09445a2_12b9_11ed_a5e4_00e04c681c3brow6_col8\" class=\"data row6 col8\" >0.375604</td>\n",
       "            </tr>\n",
       "            <tr>\n",
       "                        <th id=\"T_a09445a2_12b9_11ed_a5e4_00e04c681c3blevel0_row7\" class=\"row_heading level0 row7\" >number_digit_Words</th>\n",
       "                        <td id=\"T_a09445a2_12b9_11ed_a5e4_00e04c681c3brow7_col0\" class=\"data row7 col0\" >-0.120430</td>\n",
       "                        <td id=\"T_a09445a2_12b9_11ed_a5e4_00e04c681c3brow7_col1\" class=\"data row7 col1\" >-0.031403</td>\n",
       "                        <td id=\"T_a09445a2_12b9_11ed_a5e4_00e04c681c3brow7_col2\" class=\"data row7 col2\" >-0.118026</td>\n",
       "                        <td id=\"T_a09445a2_12b9_11ed_a5e4_00e04c681c3brow7_col3\" class=\"data row7 col3\" >0.423626</td>\n",
       "                        <td id=\"T_a09445a2_12b9_11ed_a5e4_00e04c681c3brow7_col4\" class=\"data row7 col4\" >0.080021</td>\n",
       "                        <td id=\"T_a09445a2_12b9_11ed_a5e4_00e04c681c3brow7_col5\" class=\"data row7 col5\" >0.034317</td>\n",
       "                        <td id=\"T_a09445a2_12b9_11ed_a5e4_00e04c681c3brow7_col6\" class=\"data row7 col6\" >0.170901</td>\n",
       "                        <td id=\"T_a09445a2_12b9_11ed_a5e4_00e04c681c3brow7_col7\" class=\"data row7 col7\" >1.000000</td>\n",
       "                        <td id=\"T_a09445a2_12b9_11ed_a5e4_00e04c681c3brow7_col8\" class=\"data row7 col8\" >0.382002</td>\n",
       "            </tr>\n",
       "            <tr>\n",
       "                        <th id=\"T_a09445a2_12b9_11ed_a5e4_00e04c681c3blevel0_row8\" class=\"row_heading level0 row8\" >noun_count</th>\n",
       "                        <td id=\"T_a09445a2_12b9_11ed_a5e4_00e04c681c3brow8_col0\" class=\"data row8 col0\" >-0.019415</td>\n",
       "                        <td id=\"T_a09445a2_12b9_11ed_a5e4_00e04c681c3brow8_col1\" class=\"data row8 col1\" >-0.007836</td>\n",
       "                        <td id=\"T_a09445a2_12b9_11ed_a5e4_00e04c681c3brow8_col2\" class=\"data row8 col2\" >-0.038051</td>\n",
       "                        <td id=\"T_a09445a2_12b9_11ed_a5e4_00e04c681c3brow8_col3\" class=\"data row8 col3\" >0.895840</td>\n",
       "                        <td id=\"T_a09445a2_12b9_11ed_a5e4_00e04c681c3brow8_col4\" class=\"data row8 col4\" >0.198703</td>\n",
       "                        <td id=\"T_a09445a2_12b9_11ed_a5e4_00e04c681c3brow8_col5\" class=\"data row8 col5\" >0.221511</td>\n",
       "                        <td id=\"T_a09445a2_12b9_11ed_a5e4_00e04c681c3brow8_col6\" class=\"data row8 col6\" >0.375604</td>\n",
       "                        <td id=\"T_a09445a2_12b9_11ed_a5e4_00e04c681c3brow8_col7\" class=\"data row8 col7\" >0.382002</td>\n",
       "                        <td id=\"T_a09445a2_12b9_11ed_a5e4_00e04c681c3brow8_col8\" class=\"data row8 col8\" >1.000000</td>\n",
       "            </tr>\n",
       "    </tbody></table>"
      ],
      "text/plain": [
       "<pandas.io.formats.style.Styler at 0x2a658c22d68>"
      ]
     },
     "execution_count": 174,
     "metadata": {},
     "output_type": "execute_result"
    }
   ],
   "source": [
    "import pandas as pd\n",
    "import numpy as np\n",
    "\n",
    "rs = np.random.RandomState(0)\n",
    "corr = X_final_data.corr()\n",
    "corr.style.background_gradient(cmap='coolwarm')\n",
    "# 'R"
   ]
  },
  {
   "cell_type": "code",
   "execution_count": 175,
   "id": "agreed-amount",
   "metadata": {
    "scrolled": true
   },
   "outputs": [
    {
     "data": {
      "text/html": [
       "<div>\n",
       "<style scoped>\n",
       "    .dataframe tbody tr th:only-of-type {\n",
       "        vertical-align: middle;\n",
       "    }\n",
       "\n",
       "    .dataframe tbody tr th {\n",
       "        vertical-align: top;\n",
       "    }\n",
       "\n",
       "    .dataframe thead th {\n",
       "        text-align: right;\n",
       "    }\n",
       "</style>\n",
       "<table border=\"1\" class=\"dataframe\">\n",
       "  <thead>\n",
       "    <tr style=\"text-align: right;\">\n",
       "      <th></th>\n",
       "      <th>label</th>\n",
       "    </tr>\n",
       "  </thead>\n",
       "  <tbody>\n",
       "    <tr>\n",
       "      <th>0</th>\n",
       "      <td>1</td>\n",
       "    </tr>\n",
       "    <tr>\n",
       "      <th>1</th>\n",
       "      <td>1</td>\n",
       "    </tr>\n",
       "    <tr>\n",
       "      <th>2</th>\n",
       "      <td>1</td>\n",
       "    </tr>\n",
       "    <tr>\n",
       "      <th>3</th>\n",
       "      <td>1</td>\n",
       "    </tr>\n",
       "    <tr>\n",
       "      <th>4</th>\n",
       "      <td>1</td>\n",
       "    </tr>\n",
       "  </tbody>\n",
       "</table>\n",
       "</div>"
      ],
      "text/plain": [
       "   label\n",
       "0      1\n",
       "1      1\n",
       "2      1\n",
       "3      1\n",
       "4      1"
      ]
     },
     "execution_count": 175,
     "metadata": {},
     "output_type": "execute_result"
    }
   ],
   "source": [
    "Y_final_data=data[['label']]\n",
    "Y_final_data.head()"
   ]
  },
  {
   "cell_type": "markdown",
   "id": "running-reach",
   "metadata": {},
   "source": [
    "#### Splitting the dataset into train and test"
   ]
  },
  {
   "cell_type": "code",
   "execution_count": 176,
   "id": "finite-synthesis",
   "metadata": {},
   "outputs": [],
   "source": [
    "from sklearn.feature_extraction.text import CountVectorizer\n",
    "from sklearn.model_selection import train_test_split\n",
    "from sklearn.linear_model import LogisticRegression\n",
    "from sklearn.preprocessing import LabelEncoder\n",
    "from sklearn.preprocessing import OneHotEncoder\n",
    "from sklearn.model_selection import RandomizedSearchCV\n",
    " \n",
    "#Split\n",
    "sentences_train, sentences_test, y_train, y_test = train_test_split(X_final_data, Y_final_data, test_size=0.25, random_state=101)"
   ]
  },
  {
   "cell_type": "markdown",
   "id": "moderate-relaxation",
   "metadata": {},
   "source": [
    "#### Vectorize using CountVectorizer"
   ]
  },
  {
   "cell_type": "code",
   "execution_count": 177,
   "id": "german-accordance",
   "metadata": {},
   "outputs": [],
   "source": [
    "#Vectorize\n",
    "vectorizer = CountVectorizer(stop_words= df_common, ngram_range=(3,3), max_features= 15000)\n",
    "vectorizer.fit(sentences_train['corpus'])\n",
    " \n",
    "X_train_corpus = vectorizer.transform(sentences_train['corpus'])\n",
    "X_test_corpus  = vectorizer.transform(sentences_test['corpus'])"
   ]
  },
  {
   "cell_type": "code",
   "execution_count": 178,
   "id": "drawn-defeat",
   "metadata": {},
   "outputs": [
    {
     "data": {
      "text/plain": [
       "(188130, 15000)"
      ]
     },
     "execution_count": 178,
     "metadata": {},
     "output_type": "execute_result"
    }
   ],
   "source": [
    "X_train_corpus.shape"
   ]
  },
  {
   "cell_type": "code",
   "execution_count": 179,
   "id": "employed-smell",
   "metadata": {},
   "outputs": [
    {
     "data": {
      "text/plain": [
       "(62710, 15000)"
      ]
     },
     "execution_count": 179,
     "metadata": {},
     "output_type": "execute_result"
    }
   ],
   "source": [
    "X_test_corpus.shape"
   ]
  },
  {
   "cell_type": "markdown",
   "id": "laden-interview",
   "metadata": {},
   "source": [
    "Merging the final features"
   ]
  },
  {
   "cell_type": "code",
   "execution_count": 180,
   "id": "local-territory",
   "metadata": {},
   "outputs": [],
   "source": [
    "#merge text and features\n",
    "import scipy as sp\n",
    "final_X_train = sp.sparse.hstack((X_train_corpus,sentences_train[['rating','Avg_Prod_Rating','Avg_user_rating','user_total_reviews','number_Cap_Words','number_digit_Words','noun_count']].values),format='csr')\n",
    "final_X_test = sp.sparse.hstack((X_test_corpus,sentences_test[['rating','Avg_Prod_Rating','Avg_user_rating','user_total_reviews','number_Cap_Words','number_digit_Words','noun_count']].values),format='csr')"
   ]
  },
  {
   "cell_type": "code",
   "execution_count": 181,
   "id": "veterinary-richmond",
   "metadata": {},
   "outputs": [
    {
     "data": {
      "text/plain": [
       "(188130, 15007)"
      ]
     },
     "execution_count": 181,
     "metadata": {},
     "output_type": "execute_result"
    }
   ],
   "source": [
    "final_X_train.shape"
   ]
  },
  {
   "cell_type": "code",
   "execution_count": 182,
   "id": "generic-expert",
   "metadata": {},
   "outputs": [
    {
     "data": {
      "text/plain": [
       "(62710, 15007)"
      ]
     },
     "execution_count": 182,
     "metadata": {},
     "output_type": "execute_result"
    }
   ],
   "source": [
    "final_X_test.shape"
   ]
  },
  {
   "cell_type": "markdown",
   "id": "northern-costume",
   "metadata": {},
   "source": [
    "### Applying Random Under Sampling on Train data"
   ]
  },
  {
   "cell_type": "code",
   "execution_count": 183,
   "id": "moved-bangladesh",
   "metadata": {},
   "outputs": [
    {
     "name": "stdout",
     "output_type": "stream",
     "text": [
      "[('label', 1)]\n"
     ]
    }
   ],
   "source": [
    "from imblearn.under_sampling import RandomUnderSampler \n",
    "rus = RandomUnderSampler(random_state=0)\n",
    "X_resampled, y_resampled = rus.fit_resample(final_X_train, y_train)\n",
    "from collections import Counter\n",
    "print(sorted(Counter(y_resampled).items()))"
   ]
  },
  {
   "cell_type": "code",
   "execution_count": 184,
   "id": "eastern-appointment",
   "metadata": {},
   "outputs": [
    {
     "data": {
      "text/plain": [
       "(38876, 15007)"
      ]
     },
     "execution_count": 184,
     "metadata": {},
     "output_type": "execute_result"
    }
   ],
   "source": [
    "X_resampled.shape"
   ]
  },
  {
   "cell_type": "code",
   "execution_count": 185,
   "id": "looking-airfare",
   "metadata": {},
   "outputs": [
    {
     "data": {
      "text/plain": [
       "(38876, 1)"
      ]
     },
     "execution_count": 185,
     "metadata": {},
     "output_type": "execute_result"
    }
   ],
   "source": [
    "y_resampled.shape"
   ]
  },
  {
   "cell_type": "markdown",
   "id": "characteristic-ridge",
   "metadata": {},
   "source": [
    "#### Random Forest Classifier"
   ]
  },
  {
   "cell_type": "code",
   "execution_count": 186,
   "id": "future-banana",
   "metadata": {},
   "outputs": [
    {
     "name": "stderr",
     "output_type": "stream",
     "text": [
      "C:\\Users\\13152\\anaconda3\\envs\\PSAPI\\lib\\site-packages\\ipykernel_launcher.py:8: DataConversionWarning: A column-vector y was passed when a 1d array was expected. Please change the shape of y to (n_samples,), for example using ravel().\n",
      "  \n"
     ]
    }
   ],
   "source": [
    "#Import Random Forest Model\n",
    "from sklearn.ensemble import RandomForestClassifier\n",
    "\n",
    "#Create a Gaussian Classifier\n",
    "clf=RandomForestClassifier(n_estimators=1000)\n",
    "\n",
    "#Train the model using the training sets y_pred=clf.predict(X_test)\n",
    "clf.fit(X_resampled,y_resampled)\n",
    "\n",
    "y_pred=clf.predict(final_X_test)\n",
    " "
   ]
  },
  {
   "cell_type": "markdown",
   "id": "interested-toddler",
   "metadata": {},
   "source": [
    "#### Evaluation of Random Forest Classifier"
   ]
  },
  {
   "cell_type": "code",
   "execution_count": 187,
   "id": "dominant-birthday",
   "metadata": {},
   "outputs": [
    {
     "data": {
      "text/plain": [
       "array([[36787, 19546],\n",
       "       [ 1852,  4525]], dtype=int64)"
      ]
     },
     "execution_count": 187,
     "metadata": {},
     "output_type": "execute_result"
    }
   ],
   "source": [
    "from sklearn.metrics import confusion_matrix,classification_report\n",
    "c_matrix=confusion_matrix(y_test, y_pred)\n",
    "c_matrix"
   ]
  },
  {
   "cell_type": "code",
   "execution_count": 188,
   "id": "accomplished-subcommittee",
   "metadata": {},
   "outputs": [
    {
     "name": "stdout",
     "output_type": "stream",
     "text": [
      "              precision    recall  f1-score   support\n",
      "\n",
      "           0       0.95      0.65      0.77     56333\n",
      "           1       0.19      0.71      0.30      6377\n",
      "\n",
      "    accuracy                           0.66     62710\n",
      "   macro avg       0.57      0.68      0.54     62710\n",
      "weighted avg       0.87      0.66      0.73     62710\n",
      "\n"
     ]
    }
   ],
   "source": [
    "c1_matrix=classification_report(y_test, y_pred)\n",
    "print(c1_matrix)"
   ]
  },
  {
   "cell_type": "code",
   "execution_count": 189,
   "id": "bottom-friendly",
   "metadata": {},
   "outputs": [
    {
     "name": "stdout",
     "output_type": "stream",
     "text": [
      "Accuracy: 0.6587785042258013\n"
     ]
    }
   ],
   "source": [
    "#Import scikit-learn metrics module for accuracy calculation\n",
    "from sklearn import metrics\n",
    "print(\"Accuracy:\",metrics.accuracy_score(y_test, y_pred))"
   ]
  },
  {
   "cell_type": "markdown",
   "id": "rubber-russia",
   "metadata": {},
   "source": [
    "### Applying Random Over Sampling on Train data"
   ]
  },
  {
   "cell_type": "code",
   "execution_count": 25,
   "id": "indie-broadcast",
   "metadata": {},
   "outputs": [
    {
     "name": "stdout",
     "output_type": "stream",
     "text": [
      "[('label', 1)]\n"
     ]
    }
   ],
   "source": [
    "#ROS:\n",
    "from imblearn.over_sampling import RandomOverSampler\n",
    "ros = RandomOverSampler(random_state=0)\n",
    "X_resampled, y_resampled = ros.fit_resample(final_X_train, y_train)\n",
    "from collections import Counter\n",
    "print(sorted(Counter(y_resampled).items()))"
   ]
  },
  {
   "cell_type": "code",
   "execution_count": 26,
   "id": "outdoor-fitness",
   "metadata": {},
   "outputs": [
    {
     "data": {
      "text/plain": [
       "(337384, 15007)"
      ]
     },
     "execution_count": 26,
     "metadata": {},
     "output_type": "execute_result"
    }
   ],
   "source": [
    "X_resampled.shape"
   ]
  },
  {
   "cell_type": "code",
   "execution_count": 27,
   "id": "loved-lottery",
   "metadata": {},
   "outputs": [
    {
     "data": {
      "text/plain": [
       "(337384, 1)"
      ]
     },
     "execution_count": 27,
     "metadata": {},
     "output_type": "execute_result"
    }
   ],
   "source": [
    "y_resampled.shape"
   ]
  },
  {
   "cell_type": "markdown",
   "id": "adopted-click",
   "metadata": {},
   "source": [
    "#### Random Forest Classifier"
   ]
  },
  {
   "cell_type": "code",
   "execution_count": 28,
   "id": "young-typing",
   "metadata": {},
   "outputs": [
    {
     "name": "stderr",
     "output_type": "stream",
     "text": [
      "C:\\Users\\13152\\anaconda3\\envs\\PSAPI\\lib\\site-packages\\ipykernel_launcher.py:8: DataConversionWarning: A column-vector y was passed when a 1d array was expected. Please change the shape of y to (n_samples,), for example using ravel().\n",
      "  \n"
     ]
    }
   ],
   "source": [
    "#Import Random Forest Model\n",
    "from sklearn.ensemble import RandomForestClassifier\n",
    "\n",
    "#Create a Gaussian Classifier\n",
    "clf=RandomForestClassifier(n_estimators=1000)\n",
    "\n",
    "#Train the model using the training sets y_pred=clf.predict(X_test)\n",
    "clf.fit(X_resampled,y_resampled)\n",
    "\n",
    "y_pred=clf.predict(final_X_test)\n",
    " "
   ]
  },
  {
   "cell_type": "markdown",
   "id": "constitutional-syracuse",
   "metadata": {},
   "source": [
    "#### Evaluation of Random Forest Classifier"
   ]
  },
  {
   "cell_type": "code",
   "execution_count": 29,
   "id": "declared-eight",
   "metadata": {},
   "outputs": [
    {
     "data": {
      "text/plain": [
       "array([[50905,  5428],\n",
       "       [ 4677,  1700]], dtype=int64)"
      ]
     },
     "execution_count": 29,
     "metadata": {},
     "output_type": "execute_result"
    }
   ],
   "source": [
    "from sklearn.metrics import confusion_matrix,classification_report\n",
    "c_matrix=confusion_matrix(y_test, y_pred)\n",
    "c_matrix"
   ]
  },
  {
   "cell_type": "code",
   "execution_count": 30,
   "id": "significant-triumph",
   "metadata": {},
   "outputs": [
    {
     "name": "stdout",
     "output_type": "stream",
     "text": [
      "              precision    recall  f1-score   support\n",
      "\n",
      "           0       0.92      0.90      0.91     56333\n",
      "           1       0.24      0.27      0.25      6377\n",
      "\n",
      "    accuracy                           0.84     62710\n",
      "   macro avg       0.58      0.59      0.58     62710\n",
      "weighted avg       0.85      0.84      0.84     62710\n",
      "\n"
     ]
    }
   ],
   "source": [
    "c1_matrix=classification_report(y_test, y_pred)\n",
    "print(c1_matrix)"
   ]
  },
  {
   "cell_type": "code",
   "execution_count": 31,
   "id": "lasting-mainstream",
   "metadata": {},
   "outputs": [
    {
     "name": "stdout",
     "output_type": "stream",
     "text": [
      "Accuracy: 0.8388614256099506\n"
     ]
    }
   ],
   "source": [
    "#Import scikit-learn metrics module for accuracy calculation\n",
    "from sklearn import metrics\n",
    "print(\"Accuracy:\",metrics.accuracy_score(y_test, y_pred))"
   ]
  },
  {
   "cell_type": "markdown",
   "id": "applied-fifteen",
   "metadata": {},
   "source": [
    "#### Using SMOTE to handle imbalanced dataset"
   ]
  },
  {
   "cell_type": "code",
   "execution_count": 32,
   "id": "hidden-federation",
   "metadata": {},
   "outputs": [
    {
     "name": "stdout",
     "output_type": "stream",
     "text": [
      "[('label', 1)]\n"
     ]
    }
   ],
   "source": [
    "from imblearn.over_sampling import SMOTE\n",
    "X_resampled, y_resampled = SMOTE().fit_resample(final_X_train, y_train)\n",
    "from collections import Counter\n",
    "print(sorted(Counter(y_resampled).items()))"
   ]
  },
  {
   "cell_type": "code",
   "execution_count": 33,
   "id": "chemical-tucson",
   "metadata": {},
   "outputs": [
    {
     "name": "stderr",
     "output_type": "stream",
     "text": [
      "C:\\Users\\13152\\anaconda3\\envs\\PSAPI\\lib\\site-packages\\ipykernel_launcher.py:9: DataConversionWarning: A column-vector y was passed when a 1d array was expected. Please change the shape of y to (n_samples,), for example using ravel().\n",
      "  if __name__ == '__main__':\n"
     ]
    },
    {
     "data": {
      "text/plain": [
       "RandomForestClassifier(n_estimators=1000)"
      ]
     },
     "execution_count": 33,
     "metadata": {},
     "output_type": "execute_result"
    }
   ],
   "source": [
    "#random forest\n",
    "#Import Random Forest Model\n",
    "from sklearn.ensemble import RandomForestClassifier\n",
    "\n",
    "#Create a Gaussian Classifier\n",
    "clf=RandomForestClassifier(n_estimators=1000)\n",
    "\n",
    "#Train the model using the training sets y_pred=clf.predict(X_test)\n",
    "clf.fit(X_resampled,y_resampled)"
   ]
  },
  {
   "cell_type": "code",
   "execution_count": 34,
   "id": "handmade-constant",
   "metadata": {},
   "outputs": [],
   "source": [
    "prediction=clf.predict(final_X_test)"
   ]
  },
  {
   "cell_type": "code",
   "execution_count": 35,
   "id": "exciting-disco",
   "metadata": {},
   "outputs": [
    {
     "name": "stdout",
     "output_type": "stream",
     "text": [
      "              precision    recall  f1-score   support\n",
      "\n",
      "           0       0.92      0.87      0.89     56333\n",
      "           1       0.21      0.32      0.26      6377\n",
      "\n",
      "    accuracy                           0.81     62710\n",
      "   macro avg       0.57      0.59      0.57     62710\n",
      "weighted avg       0.85      0.81      0.83     62710\n",
      "\n"
     ]
    },
    {
     "data": {
      "text/plain": [
       "array([[48839,  7494],\n",
       "       [ 4341,  2036]], dtype=int64)"
      ]
     },
     "execution_count": 35,
     "metadata": {},
     "output_type": "execute_result"
    }
   ],
   "source": [
    "from sklearn.metrics import confusion_matrix, classification_report\n",
    "\n",
    "print(classification_report(y_test, prediction))\n",
    "confusion_matrix(y_test, prediction)"
   ]
  },
  {
   "cell_type": "code",
   "execution_count": null,
   "id": "latest-commercial",
   "metadata": {},
   "outputs": [],
   "source": [
    "from sklearn import metrics\n",
    "print(\"Accuracy:\",metrics.accuracy_score(y_test, y_pred))"
   ]
  },
  {
   "cell_type": "code",
   "execution_count": null,
   "id": "painful-weekly",
   "metadata": {},
   "outputs": [],
   "source": []
  },
  {
   "cell_type": "code",
   "execution_count": null,
   "id": "original-circular",
   "metadata": {},
   "outputs": [],
   "source": []
  }
 ],
 "metadata": {
  "kernelspec": {
   "display_name": "Python 3",
   "language": "python",
   "name": "python3"
  },
  "language_info": {
   "codemirror_mode": {
    "name": "ipython",
    "version": 3
   },
   "file_extension": ".py",
   "mimetype": "text/x-python",
   "name": "python",
   "nbconvert_exporter": "python",
   "pygments_lexer": "ipython3",
   "version": "3.6.10"
  }
 },
 "nbformat": 4,
 "nbformat_minor": 5
}
